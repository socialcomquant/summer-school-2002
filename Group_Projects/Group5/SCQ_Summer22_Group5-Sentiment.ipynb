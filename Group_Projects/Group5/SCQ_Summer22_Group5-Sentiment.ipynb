{
 "cells": [
  {
   "cell_type": "markdown",
   "id": "0ebe6133",
   "metadata": {},
   "source": [
    "# Social ComQuant Summer School 2022 - Sentiment"
   ]
  },
  {
   "cell_type": "code",
   "execution_count": 1,
   "id": "ebc74086",
   "metadata": {},
   "outputs": [],
   "source": [
    "import pandas as pd\n",
    "import json\n",
    "\n",
    "from transformers import AutoModelForSequenceClassification, AutoTokenizer, pipeline"
   ]
  },
  {
   "cell_type": "markdown",
   "id": "e04d897c",
   "metadata": {},
   "source": [
    "## Model"
   ]
  },
  {
   "cell_type": "code",
   "execution_count": 2,
   "id": "40b0f3ee",
   "metadata": {},
   "outputs": [],
   "source": [
    "model = AutoModelForSequenceClassification.from_pretrained(\"savasy/bert-base-turkish-sentiment-cased\")\n",
    "tokenizer = AutoTokenizer.from_pretrained(\"savasy/bert-base-turkish-sentiment-cased\")\n",
    "sa= pipeline(\"sentiment-analysis\", tokenizer=tokenizer, model=model)"
   ]
  },
  {
   "cell_type": "markdown",
   "id": "ffddef8a",
   "metadata": {},
   "source": [
    "## Read Downloaded Tweets"
   ]
  },
  {
   "cell_type": "code",
   "execution_count": 3,
   "id": "7c7ba54a",
   "metadata": {},
   "outputs": [],
   "source": [
    "with open(\"data/tweets_kilicdar.json\", \"r\") as f:\n",
    "    kilicdar_tweets = f.readlines()\n",
    "    \n",
    "for i in range(len(kilicdar_tweets)):\n",
    "    kilicdar_tweets[i] = json.loads(kilicdar_tweets[i])"
   ]
  },
  {
   "cell_type": "code",
   "execution_count": 4,
   "id": "6f5a73bf",
   "metadata": {},
   "outputs": [],
   "source": [
    "with open(\"data/tweets_diff_mansur_yavas.json\", \"r\") as f:\n",
    "    mansur_tweets = f.readlines()\n",
    "    \n",
    "for i in range(len(mansur_tweets)):\n",
    "    mansur_tweets[i] = json.loads(mansur_tweets[i])"
   ]
  },
  {
   "cell_type": "code",
   "execution_count": 5,
   "id": "9d53aacc",
   "metadata": {},
   "outputs": [],
   "source": [
    "with open(\"data/tweets_diff_imamoglu.json\", \"r\") as f:\n",
    "    imamoglu_tweets = f.readlines()\n",
    "\n",
    "for i in range(len(imamoglu_tweets)):\n",
    "    imamoglu_tweets[i] = json.loads(imamoglu_tweets[i])"
   ]
  },
  {
   "cell_type": "markdown",
   "id": "e701936a",
   "metadata": {},
   "source": [
    "## Add Sentiment Labels and Scores"
   ]
  },
  {
   "cell_type": "code",
   "execution_count": 6,
   "id": "c6329dec",
   "metadata": {},
   "outputs": [
    {
     "name": "stdout",
     "output_type": "stream",
     "text": [
      "0/102238 | 0.00%\n",
      "10000/102238 | 9.78%\n",
      "20000/102238 | 19.56%\n",
      "30000/102238 | 29.34%\n",
      "40000/102238 | 39.12%\n",
      "50000/102238 | 48.91%\n",
      "60000/102238 | 58.69%\n",
      "70000/102238 | 68.47%\n",
      "80000/102238 | 78.25%\n",
      "90000/102238 | 88.03%\n",
      "100000/102238 | 97.81%\n",
      "102238/102238 | 100.00%\n"
     ]
    }
   ],
   "source": [
    "for i in range(len(kilicdar_tweets)):\n",
    "    if i % 10_000 == 0:\n",
    "        print(f\"{i}/{len(kilicdar_tweets)} | {i/len(kilicdar_tweets)*100:.2f}%\")\n",
    "    kilicdar_tweets[i][\"sentiment\"] = sa(kilicdar_tweets[i][\"text\"])\n",
    "    \n",
    "print(f\"{len(kilicdar_tweets)}/{len(kilicdar_tweets)} | {len(kilicdar_tweets)/len(kilicdar_tweets)*100:.2f}%\")"
   ]
  },
  {
   "cell_type": "code",
   "execution_count": 7,
   "id": "fb62980d",
   "metadata": {},
   "outputs": [
    {
     "name": "stdout",
     "output_type": "stream",
     "text": [
      "0/55239 | 0.00%\n",
      "10000/55239 | 18.10%\n",
      "20000/55239 | 36.21%\n",
      "30000/55239 | 54.31%\n",
      "40000/55239 | 72.41%\n",
      "50000/55239 | 90.52%\n",
      "55239/55239 | 100.00%\n"
     ]
    }
   ],
   "source": [
    "for i in range(len(mansur_tweets)):\n",
    "    if i % 10_000 == 0:\n",
    "        print(f\"{i}/{len(mansur_tweets)} | {i/len(mansur_tweets)*100:.2f}%\")\n",
    "    mansur_tweets[i][\"sentiment\"] = sa(mansur_tweets[i][\"text\"])\n",
    "    \n",
    "print(f\"{len(mansur_tweets)}/{len(mansur_tweets)} | {len(mansur_tweets)/len(mansur_tweets)*100:.2f}%\")"
   ]
  },
  {
   "cell_type": "code",
   "execution_count": 8,
   "id": "5e410f20",
   "metadata": {},
   "outputs": [
    {
     "name": "stdout",
     "output_type": "stream",
     "text": [
      "0/36191 | 0.00%\n",
      "10000/36191 | 27.63%\n",
      "20000/36191 | 55.26%\n",
      "30000/36191 | 82.89%\n",
      "36191/36191 | 100.00%\n"
     ]
    }
   ],
   "source": [
    "for i in range(len(imamoglu_tweets)):\n",
    "    if i % 10_000 == 0:\n",
    "        print(f\"{i}/{len(imamoglu_tweets)} | {i/len(imamoglu_tweets)*100:.2f}%\")\n",
    "    imamoglu_tweets[i][\"sentiment\"] = sa(imamoglu_tweets[i][\"text\"])\n",
    "    \n",
    "print(f\"{len(imamoglu_tweets)}/{len(imamoglu_tweets)} | {len(imamoglu_tweets)/len(imamoglu_tweets)*100:.2f}%\")"
   ]
  },
  {
   "cell_type": "markdown",
   "id": "1693d577",
   "metadata": {},
   "source": [
    "## Write Data to New File"
   ]
  },
  {
   "cell_type": "code",
   "execution_count": 9,
   "id": "2016b0ae",
   "metadata": {},
   "outputs": [],
   "source": [
    "with open(\"data/tweets_diff_kilicdar_wSentiment.json\", \"a+\") as f:\n",
    "    for tweet in kilicdar_tweets:\n",
    "        f.write(f\"{json.dumps(tweet)}\\n\")"
   ]
  },
  {
   "cell_type": "code",
   "execution_count": 10,
   "id": "317a6cbe",
   "metadata": {},
   "outputs": [],
   "source": [
    "with open(\"data/tweets_diff_mansur_yavas_wSentiment.json\", \"a+\") as f:\n",
    "    for tweet in mansur_tweets:\n",
    "        f.write(f\"{json.dumps(tweet)}\\n\")"
   ]
  },
  {
   "cell_type": "code",
   "execution_count": 11,
   "id": "57d7325b",
   "metadata": {},
   "outputs": [],
   "source": [
    "with open(\"data/tweets_diff_imamoglu_wSentiment.json\", \"a+\") as f:\n",
    "    for tweet in imamoglu_tweets:\n",
    "        f.write(f\"{json.dumps(tweet)}\\n\")"
   ]
  }
 ],
 "metadata": {
  "kernelspec": {
   "display_name": "Python 3 (ipykernel)",
   "language": "python",
   "name": "python3"
  },
  "language_info": {
   "codemirror_mode": {
    "name": "ipython",
    "version": 3
   },
   "file_extension": ".py",
   "mimetype": "text/x-python",
   "name": "python",
   "nbconvert_exporter": "python",
   "pygments_lexer": "ipython3",
   "version": "3.9.7"
  }
 },
 "nbformat": 4,
 "nbformat_minor": 5
}
