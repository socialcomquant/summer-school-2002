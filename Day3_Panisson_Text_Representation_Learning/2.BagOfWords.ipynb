{
 "cells": [
  {
   "cell_type": "markdown",
   "id": "4ee61bdc",
   "metadata": {},
   "source": [
    "---\n",
    "# SUMMER SCHOOL 2022:\n",
    "## Text mining and Natural Language Processing for Computational Social Sciences\n",
    "\n",
    "### SocialComQuant Project - Online Teaching Module: Text Representation Learning\n",
    "\n",
    "### André Panisson\n",
    "\n",
    "---\n"
   ]
  },
  {
   "cell_type": "code",
   "execution_count": 1,
   "id": "dab7a12c",
   "metadata": {},
   "outputs": [],
   "source": [
    "import numpy as np\n",
    "from matplotlib import pyplot as plt"
   ]
  },
  {
   "cell_type": "markdown",
   "id": "c4b4dc21",
   "metadata": {},
   "source": [
    "# 1. Traditional Approaches to Text Classification\n",
    "\n",
    "In this notebook, we're going to experiment with a few \"traditional\" approaches to text classification. These approaches pre-date the deep learning revolution in Natural Language Processing, but are often quick and effective ways of training a text classifier."
   ]
  },
  {
   "cell_type": "markdown",
   "id": "2416e9ca",
   "metadata": {},
   "source": [
    "## 1.1 The Dataset: IMDB\n",
    "\n",
    "IMDB Dataset is a large dataset of movie reviews collected from the Internet Movie DataBase.\n",
    "\n",
    "It is very useful for training text classification models for sentiment analysis. It contains 25,000 highly polar movie reviews for training, and 25,000 for testing. There is additional unlabeled data for use as well.\n",
    "\n",
    "Main reference: http://ai.stanford.edu/~amaas/data/sentiment/\n",
    "\n",
    "We will use the `dataset` package from 🤗 (https://HuggingFace.co) to download and use the data."
   ]
  },
  {
   "cell_type": "markdown",
   "id": "96667e12",
   "metadata": {},
   "source": [
    "We will limit both training and test sets to a smaller subset, so we can run this exercise in less time.\n",
    "\n",
    "If you want, you can remove these limits and check later the results with a bigger dataset."
   ]
  },
  {
   "cell_type": "code",
   "execution_count": 2,
   "id": "932e5c6c-a32f-4a31-a382-9a26cf9fea38",
   "metadata": {},
   "outputs": [
    {
     "name": "stderr",
     "output_type": "stream",
     "text": [
      "Reusing dataset imdb (/home/panisson/.cache/huggingface/datasets/imdb/plain_text/1.0.0/2fdd8b9bcadd6e7055e742a706876ba43f19faee861df134affd7a3f60fc38a1)\n",
      "Loading cached split indices for dataset at /home/panisson/.cache/huggingface/datasets/imdb/plain_text/1.0.0/2fdd8b9bcadd6e7055e742a706876ba43f19faee861df134affd7a3f60fc38a1/cache-cc7bf445f84ad2a1.arrow and /home/panisson/.cache/huggingface/datasets/imdb/plain_text/1.0.0/2fdd8b9bcadd6e7055e742a706876ba43f19faee861df134affd7a3f60fc38a1/cache-6987fd269768b1cf.arrow\n"
     ]
    }
   ],
   "source": [
    "from datasets import load_dataset\n",
    "\n",
    "imdb = load_dataset(\"imdb\", split=\"train\")\n",
    "imdb = imdb.train_test_split(train_size=5000, test_size=5000, seed=42)"
   ]
  },
  {
   "cell_type": "code",
   "execution_count": 3,
   "id": "f3be8b78",
   "metadata": {},
   "outputs": [],
   "source": [
    "train_documents = imdb[\"train\"]['text']\n",
    "train_target = imdb[\"train\"]['label']\n",
    "\n",
    "test_documents = imdb[\"test\"]['text']\n",
    "test_target = imdb[\"test\"]['label']"
   ]
  },
  {
   "cell_type": "code",
   "execution_count": 4,
   "id": "7f0dd5f0-6aa7-48fd-ad21-ab5b314dbc27",
   "metadata": {},
   "outputs": [
    {
     "data": {
      "text/plain": [
       "'<br /><br />How this film ever got a 6 star average is beyond me. The script is so banal, and frankly an insult to whomevers life it is based upon. The cinematography comes straight from the slick world of advertising, and the talented Ridley Scott should be ashamed. Demi Moore however, shows none a surprise by participating in this film, if one looks at her tracklist. All in all, a \"high concept\" style film that even Don Simpson would be ashamed of.'"
      ]
     },
     "execution_count": 4,
     "metadata": {},
     "output_type": "execute_result"
    }
   ],
   "source": [
    "train_documents[10]"
   ]
  },
  {
   "cell_type": "code",
   "execution_count": 5,
   "id": "04568ae7",
   "metadata": {},
   "outputs": [
    {
     "data": {
      "text/plain": [
       "0"
      ]
     },
     "execution_count": 5,
     "metadata": {},
     "output_type": "execute_result"
    }
   ],
   "source": [
    "train_target[10]"
   ]
  },
  {
   "cell_type": "code",
   "execution_count": 6,
   "id": "c8118602",
   "metadata": {},
   "outputs": [
    {
     "data": {
      "text/plain": [
       "Counter({1: 2490, 0: 2510})"
      ]
     },
     "execution_count": 6,
     "metadata": {},
     "output_type": "execute_result"
    }
   ],
   "source": [
    "from collections import Counter\n",
    "Counter(train_target)"
   ]
  },
  {
   "cell_type": "markdown",
   "id": "168bcefd",
   "metadata": {},
   "source": [
    "## 1.2 Preprocessing\n",
    "\n",
    "The first step in the development of any NLP model is text preprocessing. This means we're going to transform our texts from word sequences to feature vectors. These feature vectors contain their values for each of a large number of features.\n",
    "\n",
    "### The BoW (Bag of Words) approach\n",
    "In this experiment, we're going to work with so-called \"bag-of-word\" approaches. Bag-of-word methods treat every text as an unordered collection of words (or optionally, ngrams), and the raw feature vectors simply tell us how often each word (or ngram) occurs in a text. In Scikit-learn, we can construct these raw feature vectors with the CountVectorizer, which tokenizes a text and counts the number of times any given text contains every token in the corpus."
   ]
  },
  {
   "cell_type": "code",
   "execution_count": 7,
   "id": "f8d7f5f2-cf75-46ff-9be7-16cd5a81f782",
   "metadata": {},
   "outputs": [],
   "source": [
    "from sklearn.feature_extraction.text import CountVectorizer, TfidfTransformer\n",
    "from sklearn.naive_bayes import MultinomialNB\n",
    "from sklearn.model_selection import cross_val_score\n",
    "from sklearn.metrics import confusion_matrix, accuracy_score"
   ]
  },
  {
   "cell_type": "code",
   "execution_count": 8,
   "id": "87af5bf2-a77e-4ebf-bfb7-292789024b73",
   "metadata": {},
   "outputs": [],
   "source": [
    "cv = CountVectorizer()\n",
    "C = cv.fit_transform(train_documents)\n",
    "feature_names = cv.get_feature_names_out()"
   ]
  },
  {
   "cell_type": "code",
   "execution_count": 9,
   "id": "af1d56b6",
   "metadata": {},
   "outputs": [
    {
     "name": "stdout",
     "output_type": "stream",
     "text": [
      "[('the', 4), ('film', 3), ('is', 3), ('and', 2), ('of', 2), ('br', 2), ('all', 2), ('this', 2), ('in', 2), ('be', 2), ('ashamed', 2), ('it', 1), ('to', 1), ('at', 1), ('one', 1), ('that', 1), ('script', 1), ('an', 1), ('life', 1), ('if', 1), ('would', 1), ('me', 1), ('so', 1), ('got', 1), ('comes', 1), ('from', 1), ('ever', 1), ('however', 1), ('her', 1), ('how', 1), ('world', 1), ('by', 1), ('talented', 1), ('upon', 1), ('participating', 1), ('even', 1), ('don', 1), ('star', 1), ('average', 1), ('beyond', 1), ('banal', 1), ('frankly', 1), ('insult', 1), ('whomevers', 1), ('based', 1), ('cinematography', 1), ('straight', 1), ('slick', 1), ('advertising', 1), ('ridley', 1), ('scott', 1), ('should', 1), ('demi', 1), ('moore', 1), ('shows', 1), ('none', 1), ('surprise', 1), ('looks', 1), ('tracklist', 1), ('high', 1), ('concept', 1), ('style', 1), ('simpson', 1)]\n"
     ]
    }
   ],
   "source": [
    "print(sorted([(feature_names[i], C[10,i]) for i in C[10].nonzero()[1]], key=lambda x: -x[1]))"
   ]
  },
  {
   "cell_type": "markdown",
   "id": "43b1257b",
   "metadata": {},
   "source": [
    "### TF-IDF weighting\n",
    "\n",
    "The above raw counts are not very informative yet. This is because the raw feature vectors of most texts in the same language will be very similar. For example, most texts in English contain many instances of relatively uninformative words, such as a, the or be. Instead, what we're interested in are words like _amazing_ or _terrible_: words that occur often in one text, but not very often in the corpus as a whole. Therefore we're going to weight all features by their tf-idf score, which counts the number of times every token appears in a text and divides it by (the logarithm of) the percentage of corpus documents that contain that token.\n",
    "\n",
    "**Term Frequency(TF)** – The number of occurrences of a word in a document divided by a total number of terms in a document is referred to as Term Frequency. For example, I have to find the Term frequency of _terrible_ in the below sentence then it will be 1/4. It says how frequently a particular word occurs in a particular document.\n",
    "```\n",
    "This movie is terrible.\n",
    "```\n",
    "\n",
    "**Inverse Document Frequency** – Total number of documents in corpus divided by the total number of documents with term T in them and taking the log of a complete fraction is inverse document frequency. If we have a word that comes in all documents then the resultant output of the log is zero. The Scikit-learn implementation uses a little bit different implementation because if it becomes zero then the contribution of the word is ignored so they add one in the resultant and because of which you can observe the values of TFIDF a bit high. If a word comes only a single time then IDF will be higher.\n",
    "\n",
    "This weighting is performed by Scikit-learn's TfidfTransformer."
   ]
  },
  {
   "cell_type": "code",
   "execution_count": 10,
   "id": "d1d2868f",
   "metadata": {},
   "outputs": [
    {
     "name": "stdout",
     "output_type": "stream",
     "text": [
      "[('ashamed', 0.34), ('whomevers', 0.24), ('tracklist', 0.24), ('demi', 0.22), ('ridley', 0.21), ('participating', 0.2), ('advertising', 0.2), ('simpson', 0.19), ('banal', 0.19), ('slick', 0.18), ('moore', 0.17), ('insult', 0.16), ('scott', 0.15), ('frankly', 0.15), ('concept', 0.14), ('upon', 0.13), ('talented', 0.13), ('surprise', 0.13), ('straight', 0.13), ('film', 0.13), ('average', 0.13), ('none', 0.12), ('cinematography', 0.12), ('beyond', 0.12), ('the', 0.11), ('style', 0.11), ('star', 0.11), ('based', 0.11), ('shows', 0.1), ('looks', 0.1), ('high', 0.1), ('comes', 0.1), ('world', 0.09), ('script', 0.09), ('is', 0.09), ('however', 0.09), ('got', 0.09), ('br', 0.09), ('be', 0.09), ('all', 0.09), ('should', 0.08), ('life', 0.08), ('how', 0.07), ('her', 0.07), ('ever', 0.07), ('would', 0.06), ('this', 0.06), ('of', 0.06), ('me', 0.06), ('in', 0.06), ('even', 0.06), ('don', 0.06), ('and', 0.06), ('so', 0.05), ('if', 0.05), ('from', 0.05), ('by', 0.05), ('at', 0.05), ('an', 0.05), ('one', 0.04), ('to', 0.03), ('that', 0.03), ('it', 0.03)]\n"
     ]
    }
   ],
   "source": [
    "tfidf = TfidfTransformer()\n",
    "X = tfidf.fit_transform(C)\n",
    "\n",
    "print(sorted([(feature_names[i], round(X[10,i], 2)) for i in X[10].nonzero()[1]], key=lambda x: -x[1]))"
   ]
  },
  {
   "cell_type": "markdown",
   "id": "11eb348c",
   "metadata": {},
   "source": [
    "## 1.3 Training\n",
    "Next, we train a text classifier on the preprocessed training data. We're going to experiment with a classic text classification model: Logistic Regression.\n",
    "\n",
    "[Logistic Regression models](https://en.wikipedia.org/wiki/Logistic_regression) model the log-odds $l$, or $log(p/(1-p))$, of a class as a linear model and estimate the parameters $\\beta$ of the model during training: \n",
    "\n",
    "\\begin{equation*}\n",
    "l = \\beta_0 + \\sum_{i=1}^n \\beta_i x_i\n",
    "\\end{equation*}\n",
    "\n",
    "These models often achieve great performance in text classification."
   ]
  },
  {
   "cell_type": "markdown",
   "id": "55a316da",
   "metadata": {},
   "source": [
    "### Model selection\n",
    "\n",
    "It also might be appropriate to add regularization to a Logistic Regression model, to avoid overfitting.\n",
    "In Scikit-Learn, we can add a regularization of type L2 through the parameter `C`. This means the function we are optimizing is a bit different:\n",
    "\n",
    "\\begin{equation*}\n",
    "l = \\beta_0 + \\sum_{i=1}^n \\beta_i x_i + \\frac{1}{C}\\sum_{i=1}^n \\beta_i^2\n",
    "\\end{equation*}"
   ]
  },
  {
   "cell_type": "code",
   "execution_count": 11,
   "id": "bb5d6af6",
   "metadata": {},
   "outputs": [
    {
     "name": "stdout",
     "output_type": "stream",
     "text": [
      "Model performance achieved an accuracy of 0.8038 with C=0.1.\n",
      "Model performance achieved an accuracy of 0.8492 with C=1.\n",
      "Model performance achieved an accuracy of 0.8612 with C=5.\n"
     ]
    }
   ],
   "source": [
    "from sklearn.linear_model import LogisticRegression\n",
    "\n",
    "model = LogisticRegression(max_iter=200)\n",
    "\n",
    "Cs = [0.1, 1, 5]\n",
    "for C in Cs:\n",
    "    model.C = C\n",
    "    scores = cross_val_score(model, X, train_target)\n",
    "    print(f\"Model performance achieved an accuracy of {scores.mean():.4f} with C={C}.\")"
   ]
  },
  {
   "cell_type": "code",
   "execution_count": 12,
   "id": "a0fd3f92",
   "metadata": {},
   "outputs": [],
   "source": [
    "model = LogisticRegression(C=5, max_iter=200)\n",
    "model.fit(X, train_target);"
   ]
  },
  {
   "cell_type": "markdown",
   "id": "7ab29dd5",
   "metadata": {},
   "source": [
    "## 1.4 Testing"
   ]
  },
  {
   "cell_type": "code",
   "execution_count": 13,
   "id": "c15c37cc",
   "metadata": {},
   "outputs": [],
   "source": [
    "C_test = cv.transform(test_documents)\n",
    "X_test = tfidf.transform(C_test)"
   ]
  },
  {
   "cell_type": "code",
   "execution_count": 14,
   "id": "0af12867",
   "metadata": {},
   "outputs": [],
   "source": [
    "true_labels = test_target\n",
    "pred_labels = model.predict(X_test)"
   ]
  },
  {
   "cell_type": "code",
   "execution_count": 15,
   "id": "5aca7291",
   "metadata": {},
   "outputs": [
    {
     "name": "stdout",
     "output_type": "stream",
     "text": [
      "[[2184  310]\n",
      " [ 284 2222]]\n"
     ]
    }
   ],
   "source": [
    "cm = confusion_matrix(true_labels, pred_labels)\n",
    "print(cm)"
   ]
  },
  {
   "cell_type": "code",
   "execution_count": 16,
   "id": "4a9fb970-5d69-4261-a8c0-0631b040de01",
   "metadata": {},
   "outputs": [
    {
     "data": {
      "image/png": "[encoded data removed]",
      "text/plain": [
       "<Figure size 432x288 with 1 Axes>"
      ]
     },
     "metadata": {
      "needs_background": "light"
     },
     "output_type": "display_data"
    }
   ],
   "source": [
    "import seaborn as sns\n",
    "ax = sns.heatmap(cm, annot=True, cmap='BuPu', fmt='g', cbar=False)\n",
    "ax.set_xlabel('\\nPredicted Values')\n",
    "ax.set_ylabel('Actual Values ');\n",
    "ax.xaxis.set_ticklabels(['True','False'])\n",
    "ax.yaxis.set_ticklabels(['True','False']);"
   ]
  },
  {
   "cell_type": "code",
   "execution_count": 17,
   "id": "1d83dfca",
   "metadata": {},
   "outputs": [
    {
     "name": "stdout",
     "output_type": "stream",
     "text": [
      "0.8812\n"
     ]
    }
   ],
   "source": [
    "print(accuracy_score(true_labels, pred_labels))"
   ]
  },
  {
   "cell_type": "code",
   "execution_count": null,
   "id": "5b45b322",
   "metadata": {},
   "outputs": [],
   "source": []
  }
 ],
 "metadata": {
  "kernelspec": {
   "display_name": "transformers",
   "language": "python",
   "name": "transformers"
  },
  "language_info": {
   "codemirror_mode": {
    "name": "ipython",
    "version": 3
   },
   "file_extension": ".py",
   "mimetype": "text/x-python",
   "name": "python",
   "nbconvert_exporter": "python",
   "pygments_lexer": "ipython3",
   "version": "3.8.13"
  }
 },
 "nbformat": 4,
 "nbformat_minor": 5
}
