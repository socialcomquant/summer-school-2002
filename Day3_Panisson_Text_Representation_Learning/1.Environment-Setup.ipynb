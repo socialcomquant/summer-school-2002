{
 "cells": [
  {
   "cell_type": "markdown",
   "id": "043d1055-f2f9-4c9b-b13a-77f8cb274b24",
   "metadata": {},
   "source": [
    "# Setup the Environment"
   ]
  },
  {
   "cell_type": "markdown",
   "id": "ed90aa6e-aea9-4e18-8752-bf65945c1f6b",
   "metadata": {},
   "source": [
    "Open a command line, go to the directory of the project, for example:\n",
    "\n",
    "```bash\n",
    "cd /home/student/PATH-TO-PROJECT\n",
    "```\n",
    "\n",
    "Check that conda is installed and working:\n",
    "```bash\n",
    "conda --version\n",
    "```\n",
    "(this command should show the version of conda installed in your system, e.g. `conda 4.13.0`)\n",
    "\n",
    "Create a new environment using the file `environment.yml`:\n",
    "```bash\n",
    "conda env create -f environment.yml\n",
    "```\n",
    "Activate the environment:\n",
    "```bash\n",
    "conda activate transformers\n",
    "```\n",
    "Register the new environment as a kernel for Jupyter notebook:\n",
    "```bash\n",
    "python -m ipykernel install --user --name=transformers\n",
    "```\n",
    "Finally, open this notebook on Jupyter and run the following lines:"
   ]
  },
  {
   "cell_type": "markdown",
   "id": "7dd92f1f",
   "metadata": {},
   "source": [
    "# Test the Environment"
   ]
  },
  {
   "cell_type": "code",
   "execution_count": null,
   "id": "893514a3",
   "metadata": {},
   "outputs": [],
   "source": [
    "import os\n",
    "RunningInCOLAB = 'COLAB_GPU' in os.environ\n",
    "if RunningInCOLAB:\n",
    "  !pip install datasets transformers sentencepiece"
   ]
  },
  {
   "cell_type": "code",
   "execution_count": null,
   "id": "f047663d-809f-4669-9830-008d6feb3634",
   "metadata": {},
   "outputs": [],
   "source": [
    "import transformers\n",
    "import datasets"
   ]
  },
  {
   "cell_type": "code",
   "execution_count": null,
   "id": "8f8dccb0-092c-4f89-83bf-261820fdeb0c",
   "metadata": {},
   "outputs": [],
   "source": [
    "imdb = datasets.load_dataset(\"imdb\")"
   ]
  },
  {
   "cell_type": "code",
   "execution_count": null,
   "id": "1c23de7b-64f2-4cb2-8b3f-db1c08c11414",
   "metadata": {},
   "outputs": [],
   "source": [
    "print(imdb[\"train\"]['text'][0])"
   ]
  }
 ],
 "metadata": {
  "kernelspec": {
   "display_name": "transformers",
   "language": "python",
   "name": "transformers"
  },
  "language_info": {
   "codemirror_mode": {
    "name": "ipython",
    "version": 3
   },
   "file_extension": ".py",
   "mimetype": "text/x-python",
   "name": "python",
   "nbconvert_exporter": "python",
   "pygments_lexer": "ipython3",
   "version": "3.8.13"
  }
 },
 "nbformat": 4,
 "nbformat_minor": 5
}
