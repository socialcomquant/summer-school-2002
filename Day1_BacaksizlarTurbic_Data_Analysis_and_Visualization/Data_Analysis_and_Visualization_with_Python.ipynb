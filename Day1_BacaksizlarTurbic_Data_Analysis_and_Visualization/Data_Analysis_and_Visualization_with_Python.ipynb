{
 "cells": [
  {
   "cell_type": "markdown",
   "id": "01fc2328",
   "metadata": {},
   "source": [
    "<img src='images/gesis.png' style='height: 60px; float: left'>\n",
    "<img src='images/social_comquant.png' style='height: 50px; float: right'>"
   ]
  },
  {
   "cell_type": "markdown",
   "id": "747d16a3",
   "metadata": {},
   "source": [
    "-------------------------------------------------------------------------------------------------------------------------------\n",
    "# SUMMER SCHOOL 2022:\n",
    "## Text mining and Natural Language Processing for Computational Social Sciences\n",
    "\n",
    "### SocialComQuant Project | July 25, 2022 | Istanbul, Turkey\n",
    "\n",
    "### N. Gizem Bacaksizlar Turbic\n",
    "\n",
    "## Data Analysis and Visualization with Python \n",
    "-------------------------------------------------------------------------------------------------------------------------------\n",
    "This is an introductory course for data analysis and visulization with Python's pandas library on Jupyter-notebook."
   ]
  },
  {
   "cell_type": "code",
   "execution_count": 1,
   "id": "8d07fd4d",
   "metadata": {},
   "outputs": [
    {
     "data": {
      "text/html": [
       "<style>.container { width:100% !important; }</style>"
      ],
      "text/plain": [
       "<IPython.core.display.HTML object>"
      ]
     },
     "metadata": {},
     "output_type": "display_data"
    }
   ],
   "source": [
    "# Expand the display\n",
    "from IPython.core.display import display, HTML\n",
    "display(HTML(\"<style>.container { width:100% !important; }</style>\"))"
   ]
  },
  {
   "cell_type": "code",
   "execution_count": 2,
   "id": "3f2749ad",
   "metadata": {},
   "outputs": [],
   "source": [
    "# Connect to your Google Drive - don't run this cell if you are working on your own computer.\n",
    "# from google.colab import drive, auth, files\n",
    "# from oauth2client.client import GoogleCredentials\n",
    "# drive.mount('/content/drive')"
   ]
  },
  {
   "cell_type": "code",
   "execution_count": 3,
   "id": "67ce47ee",
   "metadata": {},
   "outputs": [],
   "source": [
    "# Google Drive - Navigate to directory - don't run this cell if you are working on your own computer.\n",
    "# os.chdir('drive/MyDrive/summer-school-2022/')\n",
    "# os.listdir('.')"
   ]
  },
  {
   "cell_type": "markdown",
   "id": "b71c6abd",
   "metadata": {},
   "source": [
    "------------------------------------------------------------------------------------------------------------------------------------------------------------------------------------------------------\n",
    "### Here are the steps that we cover during our lecture:\n",
    "\n",
    "### 1. Recap: Basic Python Concepts\n",
    "### 2. Deep Dive to Pandas\n",
    "### 3. Visualization with Hands-on Data Analysis\n",
    "------------------------------------------------------------------------------------------------------------------------------------------------------------------------------------------------------"
   ]
  },
  {
   "cell_type": "markdown",
   "id": "d83d7eb5",
   "metadata": {},
   "source": [
    "## 1. Recap: Basic Python Concepts"
   ]
  },
  {
   "cell_type": "markdown",
   "id": "9f6ef122",
   "metadata": {},
   "source": [
    "### Data types"
   ]
  },
  {
   "cell_type": "markdown",
   "id": "435fe671",
   "metadata": {},
   "source": [
    "A data type, in programming, is a classification that specifies which type of value a variable has and what type of mathematical, relational or logical operations can be applied to it without causing an error.\n",
    "\n",
    "Data types:\n",
    " \n",
    "* A string: Alphanumeric characters, text (\"Good morning, team!\") \n",
    "* An integer: Whole number (12)\n",
    "* A float: Number with a decimal point (0.25)\n",
    "* A boolean: Representing logical values (True or False)\n",
    "* Complex numbers: 2+3j"
   ]
  },
  {
   "cell_type": "markdown",
   "id": "c5151dd7",
   "metadata": {},
   "source": [
    "### Variables"
   ]
  },
  {
   "cell_type": "code",
   "execution_count": 4,
   "id": "6854df65",
   "metadata": {},
   "outputs": [
    {
     "name": "stdout",
     "output_type": "stream",
     "text": [
      "60 participants joined Social ComQuant Summer School in 2022 when it is 28.5 degrees in Istanbul.\n"
     ]
    }
   ],
   "source": [
    "# Variable assignment and printing with comments\n",
    "n = 60 # number of participants (data type is integer)\n",
    "project = 'Social ComQuant Summer School in' #(data type is string)\n",
    "year = '2022' #(data type is string)\n",
    "place = 'Istanbul' #(data type is string)\n",
    "\n",
    "degree = 28.5 #(data type is float)\n",
    "\n",
    "sentence = \"{} participants joined {} {} when it is {} degrees in {}.\".format(n, project, year, degree, place)\n",
    "\n",
    "print(sentence)\n"
   ]
  },
  {
   "cell_type": "code",
   "execution_count": 5,
   "id": "d3b27d0a",
   "metadata": {},
   "outputs": [
    {
     "name": "stdout",
     "output_type": "stream",
     "text": [
      "100 participants joined Social ComQuant Summer School in 2023 when it is 33.5 degrees in Turin.\n"
     ]
    }
   ],
   "source": [
    "# What if we change n and place?\n",
    "n = 100\n",
    "year = '2023'\n",
    "place = \"Turin\"\n",
    "degree = degree + 5\n",
    "\n",
    "sentence = \"{} participants joined {} {} when it is {} degrees in {}.\".format(n, project, year, degree, place)\n",
    "print(sentence)"
   ]
  },
  {
   "cell_type": "code",
   "execution_count": 6,
   "id": "054251d7",
   "metadata": {},
   "outputs": [
    {
     "data": {
      "text/plain": [
       "int"
      ]
     },
     "execution_count": 6,
     "metadata": {},
     "output_type": "execute_result"
    }
   ],
   "source": [
    "type(n)"
   ]
  },
  {
   "cell_type": "code",
   "execution_count": 7,
   "id": "d5b1d8ae",
   "metadata": {},
   "outputs": [
    {
     "data": {
      "text/plain": [
       "float"
      ]
     },
     "execution_count": 7,
     "metadata": {},
     "output_type": "execute_result"
    }
   ],
   "source": [
    "type(degree)"
   ]
  },
  {
   "cell_type": "markdown",
   "id": "f944d55d",
   "metadata": {},
   "source": [
    "### Data structures"
   ]
  },
  {
   "cell_type": "markdown",
   "id": "9c94fa20",
   "metadata": {},
   "source": [
    "* Lists: represent an ordered, modifiable set of objects that are separated by a comma and enclosed in square brackets []\n",
    "\n",
    "* Tuples: are lists that can never be changed, enclosed in ()\n",
    "\n",
    "* Sets: similar to lists, but not are not ordered and cannot contain the same element multiple times, set([])\n",
    "\n",
    "* Dictionaries: a collection which is unordered, changeable and indexed. In Python dictionaries are written with curly brackets {}, and they have keys and values."
   ]
  },
  {
   "cell_type": "code",
   "execution_count": 8,
   "id": "f23ac304",
   "metadata": {},
   "outputs": [
    {
     "name": "stdout",
     "output_type": "stream",
     "text": [
      "Lisbon is a capital city of Portugal.\n",
      "Washington, D.C. is a capital city of United States.\n",
      "Berlin is a capital city of Germany.\n",
      "Rome is a capital city of Italy.\n",
      "Taipei City is a capital city of Taiwan.\n"
     ]
    }
   ],
   "source": [
    "capitals = ['Lisbon', 'Washington, D.C.', 'Berlin', 'Rome', 'Taipei City']\n",
    "countries = ['Portugal', 'United States', 'Germany', 'Italy', 'Taiwan']\n",
    "\n",
    "for capital, country in zip(capitals, countries):\n",
    "    print(capital + ' is a capital city of ' + country + '.')"
   ]
  },
  {
   "cell_type": "markdown",
   "id": "2ae5b33b",
   "metadata": {},
   "source": [
    "#### Let's modify the list items!\n",
    "\n",
    "* Adding elements: append()\n",
    "* Removing elements: del, remove(), pop()\n",
    "* List operations: sort(), len(), reverse()\n",
    "* List slices: [1:3]"
   ]
  },
  {
   "cell_type": "code",
   "execution_count": 9,
   "id": "58c61a78",
   "metadata": {},
   "outputs": [],
   "source": [
    "capitals.append('Ankara')\n",
    "countries.append('Turkey')"
   ]
  },
  {
   "cell_type": "code",
   "execution_count": 10,
   "id": "d0ec72d3",
   "metadata": {},
   "outputs": [],
   "source": [
    "# Let's write a very basic function for capitals!\n",
    "def capital(capitals, countries):\n",
    "    for capital, country in zip(capitals, countries):\n",
    "        print(capital + ' is a capital city of ' + country + '.')\n",
    "    return "
   ]
  },
  {
   "cell_type": "code",
   "execution_count": 11,
   "id": "4d4e90ca",
   "metadata": {},
   "outputs": [
    {
     "name": "stdout",
     "output_type": "stream",
     "text": [
      "Lisbon is a capital city of Portugal.\n",
      "Washington, D.C. is a capital city of United States.\n",
      "Berlin is a capital city of Germany.\n",
      "Rome is a capital city of Italy.\n",
      "Taipei City is a capital city of Taiwan.\n",
      "Ankara is a capital city of Turkey.\n"
     ]
    }
   ],
   "source": [
    "capital(capitals, countries)"
   ]
  },
  {
   "cell_type": "code",
   "execution_count": 12,
   "id": "c078fedd",
   "metadata": {},
   "outputs": [
    {
     "data": {
      "text/plain": [
       "['Ankara', 'Berlin', 'Lisbon', 'Rome', 'Taipei City', 'Washington, D.C.']"
      ]
     },
     "execution_count": 12,
     "metadata": {},
     "output_type": "execute_result"
    }
   ],
   "source": [
    "sorted(capitals)"
   ]
  },
  {
   "cell_type": "code",
   "execution_count": 13,
   "id": "b565f6cd",
   "metadata": {},
   "outputs": [
    {
     "data": {
      "text/plain": [
       "6"
      ]
     },
     "execution_count": 13,
     "metadata": {},
     "output_type": "execute_result"
    }
   ],
   "source": [
    "len(countries)"
   ]
  },
  {
   "cell_type": "code",
   "execution_count": 14,
   "id": "b54d8bd5",
   "metadata": {},
   "outputs": [
    {
     "data": {
      "text/plain": [
       "['Portugal', 'United States', 'Germany', 'Italy', 'Taiwan', 'Turkey']"
      ]
     },
     "execution_count": 14,
     "metadata": {},
     "output_type": "execute_result"
    }
   ],
   "source": [
    "countries"
   ]
  },
  {
   "cell_type": "code",
   "execution_count": 15,
   "id": "7931ec2c",
   "metadata": {},
   "outputs": [
    {
     "data": {
      "text/plain": [
       "['Lisbon', 'Washington, D.C.', 'Berlin', 'Rome', 'Taipei City', 'Ankara']"
      ]
     },
     "execution_count": 15,
     "metadata": {},
     "output_type": "execute_result"
    }
   ],
   "source": [
    "capitals"
   ]
  },
  {
   "cell_type": "markdown",
   "id": "48b87b0d",
   "metadata": {},
   "source": [
    "### Nested Lists"
   ]
  },
  {
   "cell_type": "code",
   "execution_count": 16,
   "id": "718fc5aa",
   "metadata": {},
   "outputs": [
    {
     "name": "stdout",
     "output_type": "stream",
     "text": [
      "[['Lisbon', 'Washington, D.C.', 'Berlin', 'Rome', 'Taipei City', 'Ankara'], ['Portugal', 'United States', 'Germany', 'Italy', 'Taiwan', 'Turkey']]\n"
     ]
    }
   ],
   "source": [
    "# list_1 and list_2 are inner lists\n",
    "list_1 = capitals\n",
    "list_2 = countries\n",
    "# l is the outer list\n",
    "l = [capitals, countries]\n",
    "print(l)"
   ]
  },
  {
   "cell_type": "code",
   "execution_count": 17,
   "id": "6e49e27e",
   "metadata": {},
   "outputs": [
    {
     "data": {
      "text/plain": [
       "'Germany'"
      ]
     },
     "execution_count": 17,
     "metadata": {},
     "output_type": "execute_result"
    }
   ],
   "source": [
    "l[1][2] # How can we get Germany? list['outer_index'][inner_index]"
   ]
  },
  {
   "cell_type": "markdown",
   "id": "117295c4",
   "metadata": {},
   "source": [
    "### List Comprehensions"
   ]
  },
  {
   "cell_type": "code",
   "execution_count": 18,
   "id": "11946ce9",
   "metadata": {},
   "outputs": [
    {
     "data": {
      "text/plain": [
       "[2, 4, 6, 8, 10, 12, 14, 16, 18, 20]"
      ]
     },
     "execution_count": 18,
     "metadata": {},
     "output_type": "execute_result"
    }
   ],
   "source": [
    "evens = [number * 2 for number in range(1,11)]\n",
    "evens"
   ]
  },
  {
   "cell_type": "code",
   "execution_count": 19,
   "id": "31b1f685",
   "metadata": {},
   "outputs": [
    {
     "name": "stdout",
     "output_type": "stream",
     "text": [
      "1\n",
      "2\n",
      "3\n",
      "4\n",
      "5\n",
      "6\n",
      "7\n",
      "8\n",
      "9\n",
      "10\n"
     ]
    }
   ],
   "source": [
    "for number in range(1,11):\n",
    "    print(number)"
   ]
  },
  {
   "cell_type": "markdown",
   "id": "998c4c5d",
   "metadata": {},
   "source": [
    "### Dictionaries"
   ]
  },
  {
   "cell_type": "code",
   "execution_count": 20,
   "id": "f9e393f5",
   "metadata": {},
   "outputs": [],
   "source": [
    "synonyms_dict = {'participant' : 'colleague',\n",
    "                 'school' : 'acedemy',\n",
    "                 'assignment': 'appointment',\n",
    "                 'fun' : 'celebration'\n",
    "                 }\n",
    "# Which one is the dictionary key and dictionary value?"
   ]
  },
  {
   "cell_type": "markdown",
   "id": "c9ad3f1a",
   "metadata": {},
   "source": [
    "#### Let's modify the dictionary keys and values!"
   ]
  },
  {
   "cell_type": "code",
   "execution_count": 21,
   "id": "d249c70a",
   "metadata": {},
   "outputs": [],
   "source": [
    "synonyms_dict['team'] = \"club\" # add a new key and value"
   ]
  },
  {
   "cell_type": "code",
   "execution_count": 22,
   "id": "f9792cd6",
   "metadata": {},
   "outputs": [
    {
     "data": {
      "text/plain": [
       "{'participant': 'colleague',\n",
       " 'school': 'acedemy',\n",
       " 'assignment': 'appointment',\n",
       " 'fun': 'celebration',\n",
       " 'team': 'club'}"
      ]
     },
     "execution_count": 22,
     "metadata": {},
     "output_type": "execute_result"
    }
   ],
   "source": [
    "synonyms_dict"
   ]
  },
  {
   "cell_type": "code",
   "execution_count": 23,
   "id": "760ef7a6",
   "metadata": {},
   "outputs": [],
   "source": [
    "del synonyms_dict['school'] # delete the key school"
   ]
  },
  {
   "cell_type": "code",
   "execution_count": 24,
   "id": "0ab127b8",
   "metadata": {},
   "outputs": [
    {
     "data": {
      "text/plain": [
       "{'participant': 'colleague',\n",
       " 'assignment': 'appointment',\n",
       " 'fun': 'celebration',\n",
       " 'team': 'club'}"
      ]
     },
     "execution_count": 24,
     "metadata": {},
     "output_type": "execute_result"
    }
   ],
   "source": [
    "synonyms_dict"
   ]
  },
  {
   "cell_type": "code",
   "execution_count": 25,
   "id": "e847d928",
   "metadata": {},
   "outputs": [
    {
     "name": "stdout",
     "output_type": "stream",
     "text": [
      "Participant's synonym is colleague.\n",
      "Assignment's synonym is appointment.\n",
      "Fun's synonym is celebration.\n",
      "Team's synonym is club.\n"
     ]
    }
   ],
   "source": [
    "for key, value in synonyms_dict.items(): # accessing elements\n",
    "    print(key.capitalize() + '\\'s synonym is ' + value + '.')"
   ]
  },
  {
   "cell_type": "code",
   "execution_count": 26,
   "id": "9b4b955c",
   "metadata": {},
   "outputs": [
    {
     "name": "stdout",
     "output_type": "stream",
     "text": [
      "[{'Country': 'Portugal', 'Capital': 'Lisbon'}, {'Country': 'United States', 'Capital': 'Washington, D.C.'}, {'Country': 'Germany', 'Capital': 'Berlin'}, {'Country': 'Italy', 'Capital': 'Rome'}, {'Country': 'Taiwan', 'Capital': 'Taipei City'}, {'Country': 'Turkey', 'Capital': 'Ankara'}]\n"
     ]
    }
   ],
   "source": [
    "# Let's assign keys to our dictionary\n",
    "keys = [\"Country\", \"Capital\"]\n",
    "dictionary_list = [dict(zip(keys,data)) for data in zip(countries, capitals)]\n",
    "print(dictionary_list)"
   ]
  },
  {
   "cell_type": "markdown",
   "id": "7fffdec1",
   "metadata": {},
   "source": [
    "### Nested Dictionaries"
   ]
  },
  {
   "cell_type": "code",
   "execution_count": 27,
   "id": "e0515c3d",
   "metadata": {},
   "outputs": [],
   "source": [
    "project1 = {\n",
    "  \"name\" : \"DSSG Europe\",\n",
    "  \"year\" : 2017,\n",
    "  \"role\" : \"Project manager\"\n",
    "}\n",
    "project2 = {\n",
    "  \"name\" : \"DSSG Charlotte\",\n",
    "  \"year\" : 2018,\n",
    "  \"role\" : \"Project coordinator\"\n",
    "}\n",
    "project3 = {\n",
    "  \"name\" : \"Social ComQuant\",\n",
    "  \"year\" : 2020,\n",
    "  \"role\" : \"Postdoctoral researcher\"\n",
    "}\n",
    "\n",
    "myprojects = {\n",
    "  \"project1\" : project1,\n",
    "  \"project2\" : project2,\n",
    "  \"project3\" : project3\n",
    "}\n"
   ]
  },
  {
   "cell_type": "code",
   "execution_count": 28,
   "id": "9165bf43",
   "metadata": {},
   "outputs": [
    {
     "data": {
      "text/plain": [
       "{'project1': {'name': 'DSSG Europe', 'year': 2017, 'role': 'Project manager'},\n",
       " 'project2': {'name': 'DSSG Charlotte',\n",
       "  'year': 2018,\n",
       "  'role': 'Project coordinator'},\n",
       " 'project3': {'name': 'Social ComQuant',\n",
       "  'year': 2020,\n",
       "  'role': 'Postdoctoral researcher'}}"
      ]
     },
     "execution_count": 28,
     "metadata": {},
     "output_type": "execute_result"
    }
   ],
   "source": [
    "myprojects"
   ]
  },
  {
   "cell_type": "code",
   "execution_count": 29,
   "id": "f0174e02",
   "metadata": {},
   "outputs": [
    {
     "data": {
      "text/plain": [
       "2017"
      ]
     },
     "execution_count": 29,
     "metadata": {},
     "output_type": "execute_result"
    }
   ],
   "source": [
    "myprojects[\"project1\"][\"year\"] # dict[outer_key][inner_key]"
   ]
  },
  {
   "cell_type": "markdown",
   "id": "1464c88d",
   "metadata": {},
   "source": [
    "### Conditionals"
   ]
  },
  {
   "cell_type": "markdown",
   "id": "23dbb37b",
   "metadata": {},
   "source": [
    "If-Else statements allows for conditional execution of a statement or group of statements based on the value of an expression."
   ]
  },
  {
   "cell_type": "code",
   "execution_count": 30,
   "id": "08578900",
   "metadata": {},
   "outputs": [
    {
     "name": "stdout",
     "output_type": "stream",
     "text": [
      "1 is odd\n",
      "2 is even\n",
      "3 is odd\n",
      "4 is even\n",
      "5 is odd\n",
      "6 is even\n",
      "7 is odd\n",
      "8 is even\n",
      "9 is odd\n",
      "10 is even\n"
     ]
    }
   ],
   "source": [
    "a = range(1,11)\n",
    "\n",
    "for element in a:\n",
    "    if element %2 == 0:\n",
    "        print( '%0d is even'% element)\n",
    "    else:\n",
    "        print(element, 'is odd')"
   ]
  },
  {
   "cell_type": "markdown",
   "id": "310b5ed8",
   "metadata": {},
   "source": [
    "## 2. Deep Dive to Dataframes with Pandas"
   ]
  },
  {
   "cell_type": "code",
   "execution_count": 31,
   "id": "6a04fe74",
   "metadata": {},
   "outputs": [],
   "source": [
    "# Pandas library allows us read, write, analyze, and visualize data sets \n",
    "# More details at: https://pandas.pydata.org/docs/getting_started/index.html#getting-started\n",
    "\n",
    "import pandas as pd # give shortcut to the library"
   ]
  },
  {
   "cell_type": "markdown",
   "id": "a5505355",
   "metadata": {},
   "source": [
    "<img src='images/pandas-data-structure.svg' width=\"900\" height = \"600\" align=\"left\"/>"
   ]
  },
  {
   "cell_type": "markdown",
   "id": "7900a4ec",
   "metadata": {},
   "source": [
    "<p style='text-align: right;'> <a href=\"https://www.w3resource.com/python-exercises/pandas/index.php\">Image source @ w3resource.com</a></p>"
   ]
  },
  {
   "cell_type": "markdown",
   "id": "3e6284a1",
   "metadata": {},
   "source": [
    "### Dataframes"
   ]
  },
  {
   "cell_type": "markdown",
   "id": "51d54ac4",
   "metadata": {},
   "source": [
    "Dataframe is a two-dimensional data structure where data is aligned in a tabular fashion in rows and columns."
   ]
  },
  {
   "cell_type": "markdown",
   "id": "7f898868",
   "metadata": {},
   "source": [
    "<img src='images/creation-of-pandas-dataframe.png' width=\"900\" height = \"700\" align=\"left\"/>"
   ]
  },
  {
   "cell_type": "markdown",
   "id": "85b06352",
   "metadata": {},
   "source": [
    "<p style='text-align: right;'> <a href=\"https://www.geeksforgeeks.org/python-pandas-dataframe/\"> Image source @ GeeksforGeeks</a></p>\n"
   ]
  },
  {
   "cell_type": "markdown",
   "id": "8f83ce2a",
   "metadata": {},
   "source": [
    "### Dataframe operations"
   ]
  },
  {
   "cell_type": "markdown",
   "id": "ef91f2ac",
   "metadata": {},
   "source": [
    "#### Creating dataframe"
   ]
  },
  {
   "cell_type": "code",
   "execution_count": 32,
   "id": "dc0cbf16",
   "metadata": {},
   "outputs": [
    {
     "data": {
      "text/html": [
       "<div>\n",
       "<style scoped>\n",
       "    .dataframe tbody tr th:only-of-type {\n",
       "        vertical-align: middle;\n",
       "    }\n",
       "\n",
       "    .dataframe tbody tr th {\n",
       "        vertical-align: top;\n",
       "    }\n",
       "\n",
       "    .dataframe thead th {\n",
       "        text-align: right;\n",
       "    }\n",
       "</style>\n",
       "<table border=\"1\" class=\"dataframe\">\n",
       "  <thead>\n",
       "    <tr style=\"text-align: right;\">\n",
       "      <th></th>\n",
       "      <th>date</th>\n",
       "      <th>number_of_lectures</th>\n",
       "    </tr>\n",
       "  </thead>\n",
       "  <tbody>\n",
       "    <tr>\n",
       "      <th>0</th>\n",
       "      <td>25-07-2022</td>\n",
       "      <td>2</td>\n",
       "    </tr>\n",
       "    <tr>\n",
       "      <th>1</th>\n",
       "      <td>26-07-2022</td>\n",
       "      <td>3</td>\n",
       "    </tr>\n",
       "    <tr>\n",
       "      <th>2</th>\n",
       "      <td>27-07-2022</td>\n",
       "      <td>2</td>\n",
       "    </tr>\n",
       "    <tr>\n",
       "      <th>3</th>\n",
       "      <td>28-07-2022</td>\n",
       "      <td>1</td>\n",
       "    </tr>\n",
       "    <tr>\n",
       "      <th>4</th>\n",
       "      <td>29-07-2022</td>\n",
       "      <td>1</td>\n",
       "    </tr>\n",
       "  </tbody>\n",
       "</table>\n",
       "</div>"
      ],
      "text/plain": [
       "         date  number_of_lectures\n",
       "0  25-07-2022                   2\n",
       "1  26-07-2022                   3\n",
       "2  27-07-2022                   2\n",
       "3  28-07-2022                   1\n",
       "4  29-07-2022                   1"
      ]
     },
     "execution_count": 32,
     "metadata": {},
     "output_type": "execute_result"
    }
   ],
   "source": [
    "# Let's create a dataframe for our Summer School program!\n",
    "program_df = pd.DataFrame({'date': ['25-07-2022', '26-07-2022', '27-07-2022', '28-07-2022', '29-07-2022'],\n",
    "                   'number_of_lectures': [2, 3, 2, 1, 1]})\n",
    "program_df\n"
   ]
  },
  {
   "cell_type": "code",
   "execution_count": 33,
   "id": "ed83c895",
   "metadata": {},
   "outputs": [
    {
     "data": {
      "text/plain": [
       "date                  object\n",
       "number_of_lectures     int64\n",
       "dtype: object"
      ]
     },
     "execution_count": 33,
     "metadata": {},
     "output_type": "execute_result"
    }
   ],
   "source": [
    "# Find out data types (dtypes)\n",
    "program_df.dtypes"
   ]
  },
  {
   "cell_type": "code",
   "execution_count": 34,
   "id": "3dffbccb",
   "metadata": {},
   "outputs": [
    {
     "data": {
      "text/plain": [
       "date                  datetime64[ns]\n",
       "number_of_lectures             int64\n",
       "dtype: object"
      ]
     },
     "execution_count": 34,
     "metadata": {},
     "output_type": "execute_result"
    }
   ],
   "source": [
    "# Convert dates to datetime object\n",
    "program_df['date'] = pd.to_datetime(program_df['date'])\n",
    "program_df.dtypes"
   ]
  },
  {
   "cell_type": "code",
   "execution_count": 35,
   "id": "bff5eae9",
   "metadata": {},
   "outputs": [],
   "source": [
    "program_df['date'] = pd.to_datetime(program_df['date'], dayfirst=True)"
   ]
  },
  {
   "cell_type": "code",
   "execution_count": 36,
   "id": "ae54ad0d",
   "metadata": {},
   "outputs": [
    {
     "data": {
      "text/plain": [
       "0   2022-07-25\n",
       "1   2022-07-26\n",
       "2   2022-07-27\n",
       "3   2022-07-28\n",
       "4   2022-07-29\n",
       "Name: date, dtype: datetime64[ns]"
      ]
     },
     "execution_count": 36,
     "metadata": {},
     "output_type": "execute_result"
    }
   ],
   "source": [
    "program_df['date']"
   ]
  },
  {
   "cell_type": "code",
   "execution_count": 37,
   "id": "02a3e59e",
   "metadata": {},
   "outputs": [],
   "source": [
    "program_df = pd.DataFrame({'date': ['25-07-2022', 'x' , '27-07-2022','28-07-2022','29-07-2022'], 'number_of_lectures': [2, 3, 2, 1, 1]})"
   ]
  },
  {
   "cell_type": "code",
   "execution_count": 38,
   "id": "82b44285",
   "metadata": {},
   "outputs": [],
   "source": [
    "# See the results with ignoring errors\n",
    "# program_df['date'] = pd.to_datetime(program_df['date'])\n",
    "\n",
    "program_df['date'] = pd.to_datetime(program_df['date'], errors='ignore')\n",
    "\n",
    "# program_df\n",
    "\n",
    "# program_df = pd.DataFrame({'date': ['25-07-2022', '26-07-2022', '27-07-2022','28-07-2022','29-07-2022'],\n",
    "#                            'number_of_lectures': [2, 3, 2, 1, 1]})"
   ]
  },
  {
   "cell_type": "code",
   "execution_count": 39,
   "id": "b174a2cb",
   "metadata": {},
   "outputs": [
    {
     "data": {
      "text/plain": [
       "0    25-07-2022\n",
       "1             x\n",
       "2    27-07-2022\n",
       "3    28-07-2022\n",
       "4    29-07-2022\n",
       "Name: date, dtype: object"
      ]
     },
     "execution_count": 39,
     "metadata": {},
     "output_type": "execute_result"
    }
   ],
   "source": [
    "program_df['date']"
   ]
  },
  {
   "cell_type": "code",
   "execution_count": 40,
   "id": "f6df4585",
   "metadata": {},
   "outputs": [],
   "source": [
    "# We can also specify the format:  format=\"%Y-%d-%m %H:%M:%S\"\n",
    "program_df = pd.DataFrame({'date': ['25-07-2022', '26-07-2022', '27-07-2022','28-07-2022','29-07-2022'],\n",
    "                           'number_of_lectures': [2, 3, 2, 1, 1]})"
   ]
  },
  {
   "cell_type": "code",
   "execution_count": 41,
   "id": "f49fbfd9",
   "metadata": {},
   "outputs": [],
   "source": [
    "# Let's get the year, month, and a day.\n",
    "\n",
    "program_df['date'] = pd.to_datetime(program_df['date']) \n",
    "program_df['year']  = program_df.date.dt.to_period('Y') # get the year value from the datetime\n",
    "program_df['month'] = program_df.date.dt.month # get the month value from the datetime\n",
    "program_df['day'] = program_df.date.dt.day # get the day value from the datatime"
   ]
  },
  {
   "cell_type": "code",
   "execution_count": 42,
   "id": "91053fd9",
   "metadata": {},
   "outputs": [],
   "source": [
    "# We can also get week information if we changed our object to the datetime object\n",
    "\n",
    "program_df['week_of_year'] = program_df.date.dt.isocalendar().week\n",
    "program_df['day_of_week'] = program_df.date.dt.dayofweek\n",
    "\n",
    "dow_map = {0: 'Monday', 1: 'Tuesday', 2: 'Wednesday', 3: 'Thursday', 4: 'Friday', 5: 'Saturday', 6: 'Sunday'}\n",
    "program_df['day_of_week_name'] = program_df.date.dt.weekday.map(dow_map)\n"
   ]
  },
  {
   "cell_type": "code",
   "execution_count": 43,
   "id": "4261826f",
   "metadata": {},
   "outputs": [
    {
     "data": {
      "text/html": [
       "<div>\n",
       "<style scoped>\n",
       "    .dataframe tbody tr th:only-of-type {\n",
       "        vertical-align: middle;\n",
       "    }\n",
       "\n",
       "    .dataframe tbody tr th {\n",
       "        vertical-align: top;\n",
       "    }\n",
       "\n",
       "    .dataframe thead th {\n",
       "        text-align: right;\n",
       "    }\n",
       "</style>\n",
       "<table border=\"1\" class=\"dataframe\">\n",
       "  <thead>\n",
       "    <tr style=\"text-align: right;\">\n",
       "      <th></th>\n",
       "      <th>date</th>\n",
       "      <th>number_of_lectures</th>\n",
       "      <th>year</th>\n",
       "      <th>month</th>\n",
       "      <th>day</th>\n",
       "      <th>week_of_year</th>\n",
       "      <th>day_of_week</th>\n",
       "      <th>day_of_week_name</th>\n",
       "    </tr>\n",
       "  </thead>\n",
       "  <tbody>\n",
       "    <tr>\n",
       "      <th>0</th>\n",
       "      <td>2022-07-25</td>\n",
       "      <td>2</td>\n",
       "      <td>2022</td>\n",
       "      <td>7</td>\n",
       "      <td>25</td>\n",
       "      <td>30</td>\n",
       "      <td>0</td>\n",
       "      <td>Monday</td>\n",
       "    </tr>\n",
       "    <tr>\n",
       "      <th>1</th>\n",
       "      <td>2022-07-26</td>\n",
       "      <td>3</td>\n",
       "      <td>2022</td>\n",
       "      <td>7</td>\n",
       "      <td>26</td>\n",
       "      <td>30</td>\n",
       "      <td>1</td>\n",
       "      <td>Tuesday</td>\n",
       "    </tr>\n",
       "    <tr>\n",
       "      <th>2</th>\n",
       "      <td>2022-07-27</td>\n",
       "      <td>2</td>\n",
       "      <td>2022</td>\n",
       "      <td>7</td>\n",
       "      <td>27</td>\n",
       "      <td>30</td>\n",
       "      <td>2</td>\n",
       "      <td>Wednesday</td>\n",
       "    </tr>\n",
       "    <tr>\n",
       "      <th>3</th>\n",
       "      <td>2022-07-28</td>\n",
       "      <td>1</td>\n",
       "      <td>2022</td>\n",
       "      <td>7</td>\n",
       "      <td>28</td>\n",
       "      <td>30</td>\n",
       "      <td>3</td>\n",
       "      <td>Thursday</td>\n",
       "    </tr>\n",
       "    <tr>\n",
       "      <th>4</th>\n",
       "      <td>2022-07-29</td>\n",
       "      <td>1</td>\n",
       "      <td>2022</td>\n",
       "      <td>7</td>\n",
       "      <td>29</td>\n",
       "      <td>30</td>\n",
       "      <td>4</td>\n",
       "      <td>Friday</td>\n",
       "    </tr>\n",
       "  </tbody>\n",
       "</table>\n",
       "</div>"
      ],
      "text/plain": [
       "        date  number_of_lectures  year  month  day  week_of_year  day_of_week  \\\n",
       "0 2022-07-25                   2  2022      7   25            30            0   \n",
       "1 2022-07-26                   3  2022      7   26            30            1   \n",
       "2 2022-07-27                   2  2022      7   27            30            2   \n",
       "3 2022-07-28                   1  2022      7   28            30            3   \n",
       "4 2022-07-29                   1  2022      7   29            30            4   \n",
       "\n",
       "  day_of_week_name  \n",
       "0           Monday  \n",
       "1          Tuesday  \n",
       "2        Wednesday  \n",
       "3         Thursday  \n",
       "4           Friday  "
      ]
     },
     "execution_count": 43,
     "metadata": {},
     "output_type": "execute_result"
    }
   ],
   "source": [
    "program_df"
   ]
  },
  {
   "cell_type": "code",
   "execution_count": 44,
   "id": "7cf0336b",
   "metadata": {},
   "outputs": [
    {
     "name": "stdout",
     "output_type": "stream",
     "text": [
      "1997-03-14 00:00:00\n",
      "25\n"
     ]
    }
   ],
   "source": [
    "# How can we calculate our age with datetime?\n",
    "\n",
    "birthday = '14-03-1997'\n",
    "\n",
    "from datetime import datetime\n",
    "\n",
    "birthday_date = datetime.strptime(birthday, \"%d-%m-%Y\")\n",
    "\n",
    "print(birthday_date)\n",
    "#year of the birthday\n",
    "year = birthday_date.year\n",
    "#today\n",
    "today = pd.to_datetime('today')\n",
    "\n",
    "# age equals to today's year minus birthday year\n",
    "age = today.year - year\n",
    "\n",
    "print(age)"
   ]
  },
  {
   "cell_type": "markdown",
   "id": "2667565d",
   "metadata": {},
   "source": [
    "#### Reading data"
   ]
  },
  {
   "cell_type": "code",
   "execution_count": 45,
   "id": "85516416",
   "metadata": {},
   "outputs": [],
   "source": [
    "''' Read your data \n",
    "    Give a variable name to your Dataframe e.g., df\n",
    "'''\n",
    "# Wherever your data set is, type its path here and make sure to work under the same folder or read the exact path of your file\n",
    "\n",
    "data_path = \"data/\" \n",
    "df = pd.read_csv(data_path + \"emotion_twitter_data_example.txt\", sep = '\\t') \n"
   ]
  },
  {
   "cell_type": "markdown",
   "id": "699b2c0a",
   "metadata": {},
   "source": [
    "#####  what if the file is in .xlsx or .csv format?\n",
    "<p style='text-align: left;'> <a href=\"https://pandas.pydata.org/docs/reference/api/pandas.read_csv.html\">pandas read csv</a></p>\n",
    "<p style='text-align: left;'> <a href=\"https://pandas.pydata.org/docs/reference/api/pandas.read_excel.html\">pandas read excel</a></p>"
   ]
  },
  {
   "cell_type": "markdown",
   "id": "4912ec03",
   "metadata": {},
   "source": [
    "#### Accessing dataframe elements"
   ]
  },
  {
   "cell_type": "code",
   "execution_count": 46,
   "id": "41794378",
   "metadata": {},
   "outputs": [
    {
     "data": {
      "text/html": [
       "<div>\n",
       "<style scoped>\n",
       "    .dataframe tbody tr th:only-of-type {\n",
       "        vertical-align: middle;\n",
       "    }\n",
       "\n",
       "    .dataframe tbody tr th {\n",
       "        vertical-align: top;\n",
       "    }\n",
       "\n",
       "    .dataframe thead th {\n",
       "        text-align: right;\n",
       "    }\n",
       "</style>\n",
       "<table border=\"1\" class=\"dataframe\">\n",
       "  <thead>\n",
       "    <tr style=\"text-align: right;\">\n",
       "      <th></th>\n",
       "      <th>ID</th>\n",
       "      <th>Tweet</th>\n",
       "      <th>anger</th>\n",
       "      <th>disgust</th>\n",
       "      <th>fear</th>\n",
       "      <th>joy</th>\n",
       "      <th>sadness</th>\n",
       "      <th>surprise</th>\n",
       "    </tr>\n",
       "  </thead>\n",
       "  <tbody>\n",
       "    <tr>\n",
       "      <th>0</th>\n",
       "      <td>2018-En-00355</td>\n",
       "      <td>If the blues were whiskey , I'd stay drunk all...</td>\n",
       "      <td>0</td>\n",
       "      <td>0</td>\n",
       "      <td>0</td>\n",
       "      <td>0</td>\n",
       "      <td>1</td>\n",
       "      <td>0</td>\n",
       "    </tr>\n",
       "    <tr>\n",
       "      <th>1</th>\n",
       "      <td>2018-En-02803</td>\n",
       "      <td>Witnessed pure beauty from Ft. Lauderdale #Sol...</td>\n",
       "      <td>0</td>\n",
       "      <td>0</td>\n",
       "      <td>0</td>\n",
       "      <td>1</td>\n",
       "      <td>0</td>\n",
       "      <td>0</td>\n",
       "    </tr>\n",
       "    <tr>\n",
       "      <th>2</th>\n",
       "      <td>2018-En-01705</td>\n",
       "      <td>@gemmadanieIs Hahahahahahahah a want to move o...</td>\n",
       "      <td>0</td>\n",
       "      <td>0</td>\n",
       "      <td>0</td>\n",
       "      <td>0</td>\n",
       "      <td>1</td>\n",
       "      <td>0</td>\n",
       "    </tr>\n",
       "    <tr>\n",
       "      <th>3</th>\n",
       "      <td>2018-En-01418</td>\n",
       "      <td>@MaisieeeH I think the ending is about despair...</td>\n",
       "      <td>0</td>\n",
       "      <td>0</td>\n",
       "      <td>0</td>\n",
       "      <td>0</td>\n",
       "      <td>1</td>\n",
       "      <td>0</td>\n",
       "    </tr>\n",
       "    <tr>\n",
       "      <th>4</th>\n",
       "      <td>2018-En-01722</td>\n",
       "      <td>Great way to end the day(night?morning?) #😄</td>\n",
       "      <td>0</td>\n",
       "      <td>0</td>\n",
       "      <td>0</td>\n",
       "      <td>1</td>\n",
       "      <td>0</td>\n",
       "      <td>0</td>\n",
       "    </tr>\n",
       "  </tbody>\n",
       "</table>\n",
       "</div>"
      ],
      "text/plain": [
       "              ID                                              Tweet  anger  \\\n",
       "0  2018-En-00355  If the blues were whiskey , I'd stay drunk all...      0   \n",
       "1  2018-En-02803  Witnessed pure beauty from Ft. Lauderdale #Sol...      0   \n",
       "2  2018-En-01705  @gemmadanieIs Hahahahahahahah a want to move o...      0   \n",
       "3  2018-En-01418  @MaisieeeH I think the ending is about despair...      0   \n",
       "4  2018-En-01722        Great way to end the day(night?morning?) #😄      0   \n",
       "\n",
       "   disgust  fear  joy  sadness  surprise  \n",
       "0        0     0    0        1         0  \n",
       "1        0     0    1        0         0  \n",
       "2        0     0    0        1         0  \n",
       "3        0     0    0        1         0  \n",
       "4        0     0    1        0         0  "
      ]
     },
     "execution_count": 46,
     "metadata": {},
     "output_type": "execute_result"
    }
   ],
   "source": [
    "# the first 5 elements of your data set\n",
    "df.head()\n"
   ]
  },
  {
   "cell_type": "code",
   "execution_count": 47,
   "id": "a1c7835e",
   "metadata": {},
   "outputs": [
    {
     "data": {
      "text/plain": [
       "50"
      ]
     },
     "execution_count": 47,
     "metadata": {},
     "output_type": "execute_result"
    }
   ],
   "source": [
    "# display options:\n",
    "# https://towardsdatascience.com/8-commonly-used-pandas-display-options-you-should-know-a832365efa95\n",
    "pd.get_option('display.max_colwidth')"
   ]
  },
  {
   "cell_type": "code",
   "execution_count": 48,
   "id": "8a989ba6",
   "metadata": {},
   "outputs": [],
   "source": [
    "pd.set_option('display.max_colwidth', 500)"
   ]
  },
  {
   "cell_type": "code",
   "execution_count": 49,
   "id": "7a0ee6dc",
   "metadata": {},
   "outputs": [
    {
     "data": {
      "text/html": [
       "<div>\n",
       "<style scoped>\n",
       "    .dataframe tbody tr th:only-of-type {\n",
       "        vertical-align: middle;\n",
       "    }\n",
       "\n",
       "    .dataframe tbody tr th {\n",
       "        vertical-align: top;\n",
       "    }\n",
       "\n",
       "    .dataframe thead th {\n",
       "        text-align: right;\n",
       "    }\n",
       "</style>\n",
       "<table border=\"1\" class=\"dataframe\">\n",
       "  <thead>\n",
       "    <tr style=\"text-align: right;\">\n",
       "      <th></th>\n",
       "      <th>ID</th>\n",
       "      <th>Tweet</th>\n",
       "      <th>anger</th>\n",
       "      <th>disgust</th>\n",
       "      <th>fear</th>\n",
       "      <th>joy</th>\n",
       "      <th>sadness</th>\n",
       "      <th>surprise</th>\n",
       "    </tr>\n",
       "  </thead>\n",
       "  <tbody>\n",
       "    <tr>\n",
       "      <th>776</th>\n",
       "      <td>2018-En-01782</td>\n",
       "      <td>Thus said the Lord God...”I have heard your #prayer, I have seen your #tears, behold, I will #heal you”... 2kings 20:5a #hope #joy #jesus</td>\n",
       "      <td>0</td>\n",
       "      <td>0</td>\n",
       "      <td>0</td>\n",
       "      <td>1</td>\n",
       "      <td>0</td>\n",
       "      <td>0</td>\n",
       "    </tr>\n",
       "    <tr>\n",
       "      <th>777</th>\n",
       "      <td>2018-En-00242</td>\n",
       "      <td>@AaonCrea Yea I know that feeling. It's just weird how desolate big cities in Aus are at night it's so weird but I get ya!</td>\n",
       "      <td>0</td>\n",
       "      <td>0</td>\n",
       "      <td>1</td>\n",
       "      <td>0</td>\n",
       "      <td>0</td>\n",
       "      <td>0</td>\n",
       "    </tr>\n",
       "    <tr>\n",
       "      <th>778</th>\n",
       "      <td>2018-En-02704</td>\n",
       "      <td>@lukasbradley use the F word as much as you need to. People may start to listen. :)</td>\n",
       "      <td>0</td>\n",
       "      <td>1</td>\n",
       "      <td>0</td>\n",
       "      <td>0</td>\n",
       "      <td>0</td>\n",
       "      <td>0</td>\n",
       "    </tr>\n",
       "    <tr>\n",
       "      <th>779</th>\n",
       "      <td>2018-En-03890</td>\n",
       "      <td>“I am very sad and I feel more miserable than I can say, and I do not know how far I’ve come. I do not know what to do or what to think.”</td>\n",
       "      <td>0</td>\n",
       "      <td>0</td>\n",
       "      <td>0</td>\n",
       "      <td>0</td>\n",
       "      <td>1</td>\n",
       "      <td>0</td>\n",
       "    </tr>\n",
       "    <tr>\n",
       "      <th>780</th>\n",
       "      <td>2018-En-01459</td>\n",
       "      <td>Me: 'I miss your personality,will it come back?' Him: 'I'm sorry.I'm me. You be you.' #Sad #depressed #longdistancerelationship</td>\n",
       "      <td>0</td>\n",
       "      <td>0</td>\n",
       "      <td>0</td>\n",
       "      <td>0</td>\n",
       "      <td>1</td>\n",
       "      <td>0</td>\n",
       "    </tr>\n",
       "  </tbody>\n",
       "</table>\n",
       "</div>"
      ],
      "text/plain": [
       "                ID  \\\n",
       "776  2018-En-01782   \n",
       "777  2018-En-00242   \n",
       "778  2018-En-02704   \n",
       "779  2018-En-03890   \n",
       "780  2018-En-01459   \n",
       "\n",
       "                                                                                                                                         Tweet  \\\n",
       "776  Thus said the Lord God...”I have heard your #prayer, I have seen your #tears, behold, I will #heal you”... 2kings 20:5a #hope #joy #jesus   \n",
       "777                 @AaonCrea Yea I know that feeling. It's just weird how desolate big cities in Aus are at night it's so weird but I get ya!   \n",
       "778                                                        @lukasbradley use the F word as much as you need to. People may start to listen. :)   \n",
       "779  “I am very sad and I feel more miserable than I can say, and I do not know how far I’ve come. I do not know what to do or what to think.”   \n",
       "780            Me: 'I miss your personality,will it come back?' Him: 'I'm sorry.I'm me. You be you.' #Sad #depressed #longdistancerelationship   \n",
       "\n",
       "     anger  disgust  fear  joy  sadness  surprise  \n",
       "776      0        0     0    1        0         0  \n",
       "777      0        0     1    0        0         0  \n",
       "778      0        1     0    0        0         0  \n",
       "779      0        0     0    0        1         0  \n",
       "780      0        0     0    0        1         0  "
      ]
     },
     "execution_count": 49,
     "metadata": {},
     "output_type": "execute_result"
    }
   ],
   "source": [
    "# the last 5 elements of your data set\n",
    "df.tail()"
   ]
  },
  {
   "cell_type": "code",
   "execution_count": 50,
   "id": "31f4f385",
   "metadata": {},
   "outputs": [
    {
     "data": {
      "text/html": [
       "<div>\n",
       "<style scoped>\n",
       "    .dataframe tbody tr th:only-of-type {\n",
       "        vertical-align: middle;\n",
       "    }\n",
       "\n",
       "    .dataframe tbody tr th {\n",
       "        vertical-align: top;\n",
       "    }\n",
       "\n",
       "    .dataframe thead th {\n",
       "        text-align: right;\n",
       "    }\n",
       "</style>\n",
       "<table border=\"1\" class=\"dataframe\">\n",
       "  <thead>\n",
       "    <tr style=\"text-align: right;\">\n",
       "      <th></th>\n",
       "      <th>ID</th>\n",
       "      <th>Tweet</th>\n",
       "      <th>anger</th>\n",
       "      <th>disgust</th>\n",
       "      <th>fear</th>\n",
       "      <th>joy</th>\n",
       "      <th>sadness</th>\n",
       "      <th>surprise</th>\n",
       "    </tr>\n",
       "  </thead>\n",
       "  <tbody>\n",
       "    <tr>\n",
       "      <th>1</th>\n",
       "      <td>2018-En-02803</td>\n",
       "      <td>Witnessed pure beauty from Ft. Lauderdale #SolarEclispe2017</td>\n",
       "      <td>0</td>\n",
       "      <td>0</td>\n",
       "      <td>0</td>\n",
       "      <td>1</td>\n",
       "      <td>0</td>\n",
       "      <td>0</td>\n",
       "    </tr>\n",
       "    <tr>\n",
       "      <th>4</th>\n",
       "      <td>2018-En-01722</td>\n",
       "      <td>Great way to end the day(night?morning?) #😄</td>\n",
       "      <td>0</td>\n",
       "      <td>0</td>\n",
       "      <td>0</td>\n",
       "      <td>1</td>\n",
       "      <td>0</td>\n",
       "      <td>0</td>\n",
       "    </tr>\n",
       "    <tr>\n",
       "      <th>5</th>\n",
       "      <td>2018-En-00290</td>\n",
       "      <td>People are truly #amazing. #inspiring day</td>\n",
       "      <td>0</td>\n",
       "      <td>0</td>\n",
       "      <td>0</td>\n",
       "      <td>1</td>\n",
       "      <td>0</td>\n",
       "      <td>0</td>\n",
       "    </tr>\n",
       "    <tr>\n",
       "      <th>9</th>\n",
       "      <td>2018-En-03629</td>\n",
       "      <td>Dear fellow #humans do not fall in #despair ! Soon we'll #drink #beer in #satanists élites skulls, #celebrating #end of #kakocracy 🐬</td>\n",
       "      <td>0</td>\n",
       "      <td>0</td>\n",
       "      <td>0</td>\n",
       "      <td>1</td>\n",
       "      <td>0</td>\n",
       "      <td>0</td>\n",
       "    </tr>\n",
       "    <tr>\n",
       "      <th>12</th>\n",
       "      <td>2018-En-01522</td>\n",
       "      <td>@BCFC_Community excellent Jnr blues parents Meeting tonite lots of info given cheers all👍 #futuresbright#development baileyu12s #excited 😃⚽</td>\n",
       "      <td>0</td>\n",
       "      <td>0</td>\n",
       "      <td>0</td>\n",
       "      <td>1</td>\n",
       "      <td>0</td>\n",
       "      <td>0</td>\n",
       "    </tr>\n",
       "  </tbody>\n",
       "</table>\n",
       "</div>"
      ],
      "text/plain": [
       "               ID  \\\n",
       "1   2018-En-02803   \n",
       "4   2018-En-01722   \n",
       "5   2018-En-00290   \n",
       "9   2018-En-03629   \n",
       "12  2018-En-01522   \n",
       "\n",
       "                                                                                                                                          Tweet  \\\n",
       "1                                                                                  Witnessed pure beauty from Ft. Lauderdale #SolarEclispe2017    \n",
       "4                                                                                                   Great way to end the day(night?morning?) #😄   \n",
       "5                                                                                                     People are truly #amazing. #inspiring day   \n",
       "9          Dear fellow #humans do not fall in #despair ! Soon we'll #drink #beer in #satanists élites skulls, #celebrating #end of #kakocracy 🐬   \n",
       "12  @BCFC_Community excellent Jnr blues parents Meeting tonite lots of info given cheers all👍 #futuresbright#development baileyu12s #excited 😃⚽   \n",
       "\n",
       "    anger  disgust  fear  joy  sadness  surprise  \n",
       "1       0        0     0    1        0         0  \n",
       "4       0        0     0    1        0         0  \n",
       "5       0        0     0    1        0         0  \n",
       "9       0        0     0    1        0         0  \n",
       "12      0        0     0    1        0         0  "
      ]
     },
     "execution_count": 50,
     "metadata": {},
     "output_type": "execute_result"
    }
   ],
   "source": [
    "# giving conditions: e.g., only joyful tweets\n",
    "\n",
    "joy = df[df.joy == 1]\n",
    "\n",
    "joy.head()"
   ]
  },
  {
   "cell_type": "code",
   "execution_count": 51,
   "id": "81519ea8",
   "metadata": {},
   "outputs": [
    {
     "data": {
      "text/plain": [
       "ID                                                                                                                            2018-En-01459\n",
       "Tweet       Me: 'I miss your personality,will it come back?' Him: 'I'm sorry.I'm me. You be you.' #Sad #depressed #longdistancerelationship\n",
       "anger                                                                                                                                     0\n",
       "disgust                                                                                                                                   0\n",
       "fear                                                                                                                                      0\n",
       "joy                                                                                                                                       0\n",
       "sadness                                                                                                                                   1\n",
       "surprise                                                                                                                                  0\n",
       "Name: 780, dtype: object"
      ]
     },
     "execution_count": 51,
     "metadata": {},
     "output_type": "execute_result"
    }
   ],
   "source": [
    "# iloc() and loc()\n",
    "# let's remember the index starts with 0 and -1 is the element before the last one.\n",
    "df.iloc[-1] #.iloc[] works on the position of the row in the index and selects a row by position"
   ]
  },
  {
   "cell_type": "code",
   "execution_count": 52,
   "id": "0bad15a1",
   "metadata": {},
   "outputs": [
    {
     "data": {
      "text/plain": [
       "ID                                                                                                                            2018-En-01459\n",
       "Tweet       Me: 'I miss your personality,will it come back?' Him: 'I'm sorry.I'm me. You be you.' #Sad #depressed #longdistancerelationship\n",
       "anger                                                                                                                                     0\n",
       "disgust                                                                                                                                   0\n",
       "fear                                                                                                                                      0\n",
       "joy                                                                                                                                       0\n",
       "sadness                                                                                                                                   1\n",
       "surprise                                                                                                                                  0\n",
       "Name: 780, dtype: object"
      ]
     },
     "execution_count": 52,
     "metadata": {},
     "output_type": "execute_result"
    }
   ],
   "source": [
    "df.loc[780] #.loc[] works on label names of your index; selects a row by label"
   ]
  },
  {
   "cell_type": "code",
   "execution_count": 53,
   "id": "31d65410",
   "metadata": {},
   "outputs": [
    {
     "data": {
      "text/plain": [
       "(781, 8)"
      ]
     },
     "execution_count": 53,
     "metadata": {},
     "output_type": "execute_result"
    }
   ],
   "source": [
    "# shape of our dataframe: number of rows and columns\n",
    "df.shape"
   ]
  },
  {
   "cell_type": "code",
   "execution_count": 54,
   "id": "03ad6aca",
   "metadata": {},
   "outputs": [
    {
     "data": {
      "text/plain": [
       "781"
      ]
     },
     "execution_count": 54,
     "metadata": {},
     "output_type": "execute_result"
    }
   ],
   "source": [
    "# the lenght of our dataframe = number of rows\n",
    "len(df)"
   ]
  },
  {
   "cell_type": "code",
   "execution_count": 55,
   "id": "da423787",
   "metadata": {},
   "outputs": [
    {
     "data": {
      "text/html": [
       "<div>\n",
       "<style scoped>\n",
       "    .dataframe tbody tr th:only-of-type {\n",
       "        vertical-align: middle;\n",
       "    }\n",
       "\n",
       "    .dataframe tbody tr th {\n",
       "        vertical-align: top;\n",
       "    }\n",
       "\n",
       "    .dataframe thead th {\n",
       "        text-align: right;\n",
       "    }\n",
       "</style>\n",
       "<table border=\"1\" class=\"dataframe\">\n",
       "  <thead>\n",
       "    <tr style=\"text-align: right;\">\n",
       "      <th></th>\n",
       "      <th>anger</th>\n",
       "      <th>disgust</th>\n",
       "      <th>fear</th>\n",
       "      <th>joy</th>\n",
       "      <th>sadness</th>\n",
       "      <th>surprise</th>\n",
       "    </tr>\n",
       "  </thead>\n",
       "  <tbody>\n",
       "    <tr>\n",
       "      <th>count</th>\n",
       "      <td>781.000000</td>\n",
       "      <td>781.000000</td>\n",
       "      <td>781.000000</td>\n",
       "      <td>781.000000</td>\n",
       "      <td>781.000000</td>\n",
       "      <td>781.000000</td>\n",
       "    </tr>\n",
       "    <tr>\n",
       "      <th>mean</th>\n",
       "      <td>0.089629</td>\n",
       "      <td>0.043534</td>\n",
       "      <td>0.174136</td>\n",
       "      <td>0.384123</td>\n",
       "      <td>0.286812</td>\n",
       "      <td>0.021767</td>\n",
       "    </tr>\n",
       "    <tr>\n",
       "      <th>std</th>\n",
       "      <td>0.285832</td>\n",
       "      <td>0.204186</td>\n",
       "      <td>0.379469</td>\n",
       "      <td>0.486699</td>\n",
       "      <td>0.452563</td>\n",
       "      <td>0.146015</td>\n",
       "    </tr>\n",
       "    <tr>\n",
       "      <th>min</th>\n",
       "      <td>0.000000</td>\n",
       "      <td>0.000000</td>\n",
       "      <td>0.000000</td>\n",
       "      <td>0.000000</td>\n",
       "      <td>0.000000</td>\n",
       "      <td>0.000000</td>\n",
       "    </tr>\n",
       "    <tr>\n",
       "      <th>25%</th>\n",
       "      <td>0.000000</td>\n",
       "      <td>0.000000</td>\n",
       "      <td>0.000000</td>\n",
       "      <td>0.000000</td>\n",
       "      <td>0.000000</td>\n",
       "      <td>0.000000</td>\n",
       "    </tr>\n",
       "    <tr>\n",
       "      <th>50%</th>\n",
       "      <td>0.000000</td>\n",
       "      <td>0.000000</td>\n",
       "      <td>0.000000</td>\n",
       "      <td>0.000000</td>\n",
       "      <td>0.000000</td>\n",
       "      <td>0.000000</td>\n",
       "    </tr>\n",
       "    <tr>\n",
       "      <th>75%</th>\n",
       "      <td>0.000000</td>\n",
       "      <td>0.000000</td>\n",
       "      <td>0.000000</td>\n",
       "      <td>1.000000</td>\n",
       "      <td>1.000000</td>\n",
       "      <td>0.000000</td>\n",
       "    </tr>\n",
       "    <tr>\n",
       "      <th>max</th>\n",
       "      <td>1.000000</td>\n",
       "      <td>1.000000</td>\n",
       "      <td>1.000000</td>\n",
       "      <td>1.000000</td>\n",
       "      <td>1.000000</td>\n",
       "      <td>1.000000</td>\n",
       "    </tr>\n",
       "  </tbody>\n",
       "</table>\n",
       "</div>"
      ],
      "text/plain": [
       "            anger     disgust        fear         joy     sadness    surprise\n",
       "count  781.000000  781.000000  781.000000  781.000000  781.000000  781.000000\n",
       "mean     0.089629    0.043534    0.174136    0.384123    0.286812    0.021767\n",
       "std      0.285832    0.204186    0.379469    0.486699    0.452563    0.146015\n",
       "min      0.000000    0.000000    0.000000    0.000000    0.000000    0.000000\n",
       "25%      0.000000    0.000000    0.000000    0.000000    0.000000    0.000000\n",
       "50%      0.000000    0.000000    0.000000    0.000000    0.000000    0.000000\n",
       "75%      0.000000    0.000000    0.000000    1.000000    1.000000    0.000000\n",
       "max      1.000000    1.000000    1.000000    1.000000    1.000000    1.000000"
      ]
     },
     "execution_count": 55,
     "metadata": {},
     "output_type": "execute_result"
    }
   ],
   "source": [
    "# basic statistics of our data frame\n",
    "df.describe()"
   ]
  },
  {
   "cell_type": "code",
   "execution_count": 56,
   "id": "54b0047c",
   "metadata": {},
   "outputs": [
    {
     "data": {
      "text/plain": [
       "anger       0.089629\n",
       "disgust     0.043534\n",
       "fear        0.174136\n",
       "joy         0.384123\n",
       "sadness     0.286812\n",
       "surprise    0.021767\n",
       "dtype: float64"
      ]
     },
     "execution_count": 56,
     "metadata": {},
     "output_type": "execute_result"
    }
   ],
   "source": [
    "df.mean() # mean values"
   ]
  },
  {
   "cell_type": "markdown",
   "id": "be57b2b1",
   "metadata": {},
   "source": [
    "## 3. Visualization with Hands-on Data Analysis"
   ]
  },
  {
   "cell_type": "code",
   "execution_count": 57,
   "id": "f8effe0f",
   "metadata": {},
   "outputs": [
    {
     "data": {
      "image/png": "[encoded data removed]",
      "text/plain": [
       "<Figure size 432x288 with 1 Axes>"
      ]
     },
     "metadata": {
      "needs_background": "light"
     },
     "output_type": "display_data"
    }
   ],
   "source": [
    "# Let's visualize these emotion counts\n",
    "import matplotlib.pyplot as plt\n",
    "import matplotlib as mpl\n",
    "\n",
    "\n",
    "df.sum()[['anger', 'disgust', 'fear', 'joy', 'sadness', 'surprise']].plot(kind='bar') \n",
    "# sum of each emotions, change color c = 'yellow'\n",
    "plt.xlabel('Emotions', fontsize=15)\n",
    "plt.ylabel('Count', fontsize=15)\n",
    "plt.xticks(fontsize = 15)\n",
    "plt.yticks(fontsize = 15)\n",
    "\n",
    "# save figure in pdf or high quality svg formats\n",
    "plt.savefig('./figures/emotion_counts_hist.pdf', bbox_inches='tight')\n",
    "plt.savefig('./figures/emotion_counts_hist.svg', format=\"svg\",transparent=True, bbox_inches='tight')\n",
    "\n",
    "plt.show()"
   ]
  },
  {
   "cell_type": "markdown",
   "id": "b76253b1",
   "metadata": {},
   "source": [
    "#### Modifying dataframes"
   ]
  },
  {
   "cell_type": "code",
   "execution_count": 58,
   "id": "d79e0bab",
   "metadata": {},
   "outputs": [],
   "source": [
    "# Regular expression is a sequence of characters that specifies a search pattern in text. \n",
    "import re # another library for regular expressions, we will cover this more later in the Summer School"
   ]
  },
  {
   "cell_type": "code",
   "execution_count": 59,
   "id": "9ad40329",
   "metadata": {},
   "outputs": [],
   "source": [
    "# Let's write a function that removes links and convert strings (tweets) to lower case characters\n",
    "\n",
    "def clean_tweets(tweet):\n",
    "    cleaned_tweet = re.sub(r\"www\\S+\", \"\", tweet) # remove links, starting with www without any space\n",
    "    cleaned_tweet = re.sub(r\"http[s]?\\S+\", \"\", cleaned_tweet) # remove links starting with http or https\n",
    "    cleaned_tweet = re.sub(r\"[^\\w\\s]\",\"\", cleaned_tweet) # remove punctuations; start of a string and not a word with space\n",
    "    cleaned_tweet = re.sub(r\"\\d+\", \"\", cleaned_tweet) # remove digits; 1 or more digits\n",
    "    # add or remove lines depending on your choice\n",
    "    return cleaned_tweet    "
   ]
  },
  {
   "cell_type": "code",
   "execution_count": 60,
   "id": "963d47cf",
   "metadata": {},
   "outputs": [],
   "source": [
    "# apply function to remove urls and chars\n",
    "df['cleaned_Tweet'] = df['Tweet'].apply(clean_tweets)"
   ]
  },
  {
   "cell_type": "code",
   "execution_count": 61,
   "id": "ccc9ee51",
   "metadata": {},
   "outputs": [
    {
     "data": {
      "text/plain": [
       "array(['If the blues were whiskey  Id stay drunk all the time',\n",
       "       'Witnessed pure beauty from Ft Lauderdale SolarEclispe ',\n",
       "       'gemmadanieIs Hahahahahahahah a want to move out as well '],\n",
       "      dtype=object)"
      ]
     },
     "execution_count": 61,
     "metadata": {},
     "output_type": "execute_result"
    }
   ],
   "source": [
    "# new values of Tweets\n",
    "df['cleaned_Tweet'].values[:3] #first three Tweets"
   ]
  },
  {
   "cell_type": "code",
   "execution_count": 62,
   "id": "0f64e195",
   "metadata": {},
   "outputs": [],
   "source": [
    "data_path = \"data/\" \n",
    "protest_df = pd.read_csv(data_path + \"Charlottesville_2017_protest_data_sample.csv\")"
   ]
  },
  {
   "cell_type": "code",
   "execution_count": 63,
   "id": "b7927cab",
   "metadata": {},
   "outputs": [
    {
     "data": {
      "text/plain": [
       "Index(['Date', 'User', 'Tweets', 'Likes', 'RTs', 'Followers', 'Friends', 'anx',\n",
       "       'anger', 'sad', 'risk'],\n",
       "      dtype='object')"
      ]
     },
     "execution_count": 63,
     "metadata": {},
     "output_type": "execute_result"
    }
   ],
   "source": [
    "protest_df.columns\n",
    "#.values"
   ]
  },
  {
   "cell_type": "code",
   "execution_count": 64,
   "id": "fa1ec291",
   "metadata": {},
   "outputs": [],
   "source": [
    "protest_df['Date'] = pd.to_datetime(protest_df['Date'])"
   ]
  },
  {
   "cell_type": "code",
   "execution_count": 65,
   "id": "0f8ecc67",
   "metadata": {},
   "outputs": [
    {
     "data": {
      "text/plain": [
       "46497"
      ]
     },
     "execution_count": 65,
     "metadata": {},
     "output_type": "execute_result"
    }
   ],
   "source": [
    "# number of tweets\n",
    "len(protest_df)"
   ]
  },
  {
   "cell_type": "code",
   "execution_count": 66,
   "id": "03b00a0e",
   "metadata": {},
   "outputs": [
    {
     "data": {
      "text/html": [
       "<div>\n",
       "<style scoped>\n",
       "    .dataframe tbody tr th:only-of-type {\n",
       "        vertical-align: middle;\n",
       "    }\n",
       "\n",
       "    .dataframe tbody tr th {\n",
       "        vertical-align: top;\n",
       "    }\n",
       "\n",
       "    .dataframe thead th {\n",
       "        text-align: right;\n",
       "    }\n",
       "</style>\n",
       "<table border=\"1\" class=\"dataframe\">\n",
       "  <thead>\n",
       "    <tr style=\"text-align: right;\">\n",
       "      <th></th>\n",
       "      <th>Tweets</th>\n",
       "    </tr>\n",
       "    <tr>\n",
       "      <th>Date</th>\n",
       "      <th></th>\n",
       "    </tr>\n",
       "  </thead>\n",
       "  <tbody>\n",
       "    <tr>\n",
       "      <th>2017-08-11</th>\n",
       "      <td>65</td>\n",
       "    </tr>\n",
       "    <tr>\n",
       "      <th>2017-08-12</th>\n",
       "      <td>9015</td>\n",
       "    </tr>\n",
       "    <tr>\n",
       "      <th>2017-08-13</th>\n",
       "      <td>9380</td>\n",
       "    </tr>\n",
       "    <tr>\n",
       "      <th>2017-08-14</th>\n",
       "      <td>7761</td>\n",
       "    </tr>\n",
       "    <tr>\n",
       "      <th>2017-08-15</th>\n",
       "      <td>5512</td>\n",
       "    </tr>\n",
       "    <tr>\n",
       "      <th>2017-08-16</th>\n",
       "      <td>6729</td>\n",
       "    </tr>\n",
       "    <tr>\n",
       "      <th>2017-08-17</th>\n",
       "      <td>4870</td>\n",
       "    </tr>\n",
       "    <tr>\n",
       "      <th>2017-08-18</th>\n",
       "      <td>3165</td>\n",
       "    </tr>\n",
       "  </tbody>\n",
       "</table>\n",
       "</div>"
      ],
      "text/plain": [
       "            Tweets\n",
       "Date              \n",
       "2017-08-11      65\n",
       "2017-08-12    9015\n",
       "2017-08-13    9380\n",
       "2017-08-14    7761\n",
       "2017-08-15    5512\n",
       "2017-08-16    6729\n",
       "2017-08-17    4870\n",
       "2017-08-18    3165"
      ]
     },
     "execution_count": 66,
     "metadata": {},
     "output_type": "execute_result"
    }
   ],
   "source": [
    "# tweets per day\n",
    "tweet_coount_per_day = protest_df[['Tweets']].groupby(protest_df['Date'].dt.date).count()\n",
    "tweet_coount_per_day"
   ]
  },
  {
   "cell_type": "code",
   "execution_count": 67,
   "id": "bbf29292",
   "metadata": {},
   "outputs": [
    {
     "data": {
      "text/html": [
       "<div>\n",
       "<style scoped>\n",
       "    .dataframe tbody tr th:only-of-type {\n",
       "        vertical-align: middle;\n",
       "    }\n",
       "\n",
       "    .dataframe tbody tr th {\n",
       "        vertical-align: top;\n",
       "    }\n",
       "\n",
       "    .dataframe thead th {\n",
       "        text-align: right;\n",
       "    }\n",
       "</style>\n",
       "<table border=\"1\" class=\"dataframe\">\n",
       "  <thead>\n",
       "    <tr style=\"text-align: right;\">\n",
       "      <th></th>\n",
       "      <th>User</th>\n",
       "    </tr>\n",
       "    <tr>\n",
       "      <th>Date</th>\n",
       "      <th></th>\n",
       "    </tr>\n",
       "  </thead>\n",
       "  <tbody>\n",
       "    <tr>\n",
       "      <th>2017-08-11</th>\n",
       "      <td>61</td>\n",
       "    </tr>\n",
       "    <tr>\n",
       "      <th>2017-08-12</th>\n",
       "      <td>7634</td>\n",
       "    </tr>\n",
       "    <tr>\n",
       "      <th>2017-08-13</th>\n",
       "      <td>7844</td>\n",
       "    </tr>\n",
       "    <tr>\n",
       "      <th>2017-08-14</th>\n",
       "      <td>6575</td>\n",
       "    </tr>\n",
       "    <tr>\n",
       "      <th>2017-08-15</th>\n",
       "      <td>4726</td>\n",
       "    </tr>\n",
       "    <tr>\n",
       "      <th>2017-08-16</th>\n",
       "      <td>5686</td>\n",
       "    </tr>\n",
       "    <tr>\n",
       "      <th>2017-08-17</th>\n",
       "      <td>4243</td>\n",
       "    </tr>\n",
       "    <tr>\n",
       "      <th>2017-08-18</th>\n",
       "      <td>2810</td>\n",
       "    </tr>\n",
       "  </tbody>\n",
       "</table>\n",
       "</div>"
      ],
      "text/plain": [
       "            User\n",
       "Date            \n",
       "2017-08-11    61\n",
       "2017-08-12  7634\n",
       "2017-08-13  7844\n",
       "2017-08-14  6575\n",
       "2017-08-15  4726\n",
       "2017-08-16  5686\n",
       "2017-08-17  4243\n",
       "2017-08-18  2810"
      ]
     },
     "execution_count": 67,
     "metadata": {},
     "output_type": "execute_result"
    }
   ],
   "source": [
    "# unique users per day\n",
    "user_count_per_day = protest_df.groupby(['Date'])[['User']].nunique() # number of unique users per day\n",
    "user_count_per_day"
   ]
  },
  {
   "cell_type": "code",
   "execution_count": 68,
   "id": "d0ed5585",
   "metadata": {},
   "outputs": [
    {
     "data": {
      "text/html": [
       "<div>\n",
       "<style scoped>\n",
       "    .dataframe tbody tr th:only-of-type {\n",
       "        vertical-align: middle;\n",
       "    }\n",
       "\n",
       "    .dataframe tbody tr th {\n",
       "        vertical-align: top;\n",
       "    }\n",
       "\n",
       "    .dataframe thead th {\n",
       "        text-align: right;\n",
       "    }\n",
       "</style>\n",
       "<table border=\"1\" class=\"dataframe\">\n",
       "  <thead>\n",
       "    <tr style=\"text-align: right;\">\n",
       "      <th></th>\n",
       "      <th>Tweets</th>\n",
       "    </tr>\n",
       "    <tr>\n",
       "      <th>User</th>\n",
       "      <th></th>\n",
       "    </tr>\n",
       "  </thead>\n",
       "  <tbody>\n",
       "    <tr>\n",
       "      <th>user_1095</th>\n",
       "      <td>37</td>\n",
       "    </tr>\n",
       "    <tr>\n",
       "      <th>user_2488</th>\n",
       "      <td>35</td>\n",
       "    </tr>\n",
       "    <tr>\n",
       "      <th>user_59</th>\n",
       "      <td>32</td>\n",
       "    </tr>\n",
       "    <tr>\n",
       "      <th>user_2044</th>\n",
       "      <td>31</td>\n",
       "    </tr>\n",
       "    <tr>\n",
       "      <th>user_830</th>\n",
       "      <td>29</td>\n",
       "    </tr>\n",
       "    <tr>\n",
       "      <th>...</th>\n",
       "      <td>...</td>\n",
       "    </tr>\n",
       "    <tr>\n",
       "      <th>user_21619</th>\n",
       "      <td>1</td>\n",
       "    </tr>\n",
       "    <tr>\n",
       "      <th>user_21618</th>\n",
       "      <td>1</td>\n",
       "    </tr>\n",
       "    <tr>\n",
       "      <th>user_21616</th>\n",
       "      <td>1</td>\n",
       "    </tr>\n",
       "    <tr>\n",
       "      <th>user_21615</th>\n",
       "      <td>1</td>\n",
       "    </tr>\n",
       "    <tr>\n",
       "      <th>user_25180</th>\n",
       "      <td>1</td>\n",
       "    </tr>\n",
       "  </tbody>\n",
       "</table>\n",
       "<p>33741 rows × 1 columns</p>\n",
       "</div>"
      ],
      "text/plain": [
       "            Tweets\n",
       "User              \n",
       "user_1095       37\n",
       "user_2488       35\n",
       "user_59         32\n",
       "user_2044       31\n",
       "user_830        29\n",
       "...            ...\n",
       "user_21619       1\n",
       "user_21618       1\n",
       "user_21616       1\n",
       "user_21615       1\n",
       "user_25180       1\n",
       "\n",
       "[33741 rows x 1 columns]"
      ]
     },
     "execution_count": 68,
     "metadata": {},
     "output_type": "execute_result"
    }
   ],
   "source": [
    "# Number of tweets per user\n",
    "protest_df.groupby(['User'])[['Tweets']].count().sort_values(by = 'Tweets',ascending = False)"
   ]
  },
  {
   "cell_type": "code",
   "execution_count": 69,
   "id": "0386cb41",
   "metadata": {},
   "outputs": [
    {
     "data": {
      "image/png": "[encoded data removed]",
      "text/plain": [
       "<Figure size 432x288 with 1 Axes>"
      ]
     },
     "metadata": {
      "needs_background": "light"
     },
     "output_type": "display_data"
    }
   ],
   "source": [
    "# Let's plot tweet counts per day by manipulating default visual settings\n",
    "\n",
    "ax = tweet_coount_per_day.plot(color = 'darkblue')\n",
    "user_count_per_day.plot(ax=ax, color = 'orange')\n",
    "\n",
    "plt.xlabel('Protes Dates', fontsize = 15)\n",
    "\n",
    "plt.xticks(rotation = 45, fontsize = 15) \n",
    "plt.yticks(fontsize = 15)\n",
    "plt.legend(['Tweets', 'Users'], fontsize = 15)\n",
    "\n",
    "# ymax = protest_df[['Tweets']].groupby(protest_df['Date/Time'].dt.date).count()['Tweets'].max() # max value of the y axis\n",
    "# ymin = protest_df[['Tweets']].groupby(protest_df['Date/Time'].dt.date).count()['Tweets'].min() # min value of the y axis\n",
    "\n",
    "plt.ylim(0, 10000) # give a range to the y axis\n",
    "ax.yaxis.set_major_formatter(mpl.ticker.StrMethodFormatter('{x:,.0f}')) # number format to thousands\n",
    "\n",
    "# save figure in pdf or high quality svg formats\n",
    "plt.savefig('./figures/tweet_user_counts_over_time.pdf', bbox_inches='tight')\n",
    "plt.savefig('./figures/tweet_user_counts_over_time.svg', format=\"svg\",transparent=True, bbox_inches='tight')\n",
    "\n",
    "plt.show()\n"
   ]
  },
  {
   "cell_type": "code",
   "execution_count": 70,
   "id": "b5ed07e4",
   "metadata": {},
   "outputs": [
    {
     "data": {
      "image/png": "[encoded data removed]",
      "text/plain": [
       "<Figure size 432x288 with 1 Axes>"
      ]
     },
     "metadata": {
      "needs_background": "light"
     },
     "output_type": "display_data"
    }
   ],
   "source": [
    "# Tweet and user counts\n",
    "ax = protest_df.groupby(['User'], as_index = False)[['Tweets']].count().sort_values(by = 'Tweets',ascending = False).groupby('Tweets').count().plot();\n",
    "\n",
    "plt.xlabel('Number of Tweets', fontsize = 15)\n",
    "plt.xticks(fontsize = 15) \n",
    "plt.yticks(fontsize = 15)\n",
    "plt.grid(color = 'lightgrey')\n",
    "plt.legend(['Number of Users'], fontsize = 15)\n",
    "\n",
    "ax.yaxis.set_major_formatter(mpl.ticker.StrMethodFormatter('{x:,.0f}')) # number format to thousands\n",
    "\n",
    "# save figure in pdf or high quality svg formats\n",
    "plt.savefig('./figures/number_of_tweets_users.pdf', bbox_inches='tight')\n",
    "plt.savefig('./figures/number_of_tweets_users.svg', format=\"svg\",transparent=True, bbox_inches='tight')\n",
    "\n",
    "plt.show()\n"
   ]
  },
  {
   "cell_type": "code",
   "execution_count": 71,
   "id": "a15fb986",
   "metadata": {},
   "outputs": [],
   "source": [
    "# Let's find out max anger and risk over time\n",
    "\n",
    "anger_risk_df = protest_df[['anger', 'risk']].groupby(protest_df['Date'].dt.date).max().reset_index()\n",
    "\n",
    "anger_risk_df['Date'] = pd.to_datetime(anger_risk_df['Date']).dt.strftime('%Y-%m-%d')\n",
    "\n",
    "dates = anger_risk_df['Date']"
   ]
  },
  {
   "cell_type": "code",
   "execution_count": 72,
   "id": "fafa5e5f",
   "metadata": {},
   "outputs": [
    {
     "data": {
      "image/png": "[encoded data removed]",
      "text/plain": [
       "<Figure size 432x288 with 2 Axes>"
      ]
     },
     "metadata": {
      "needs_background": "light"
     },
     "output_type": "display_data"
    }
   ],
   "source": [
    "# Plot anger and risk over time with a color map\n",
    "# Reference: https://matplotlib.org/2.0.2/examples/color/colormaps_reference.html\n",
    "plt.scatter(x=dates,\n",
    "            y=anger_risk_df['anger'],\n",
    "            c=anger_risk_df['risk'],\n",
    "            cmap='gist_heat')\n",
    "cb = plt.colorbar()\n",
    "\n",
    "cb.set_label('Risk', fontsize = 15) \n",
    "# .set_label(label='risk',size=15) # you can add ,weight='bold' if you choose bold\n",
    "for t in cb.ax.get_yticklabels():\n",
    "    t.set_fontsize(15)\n",
    "\n",
    "plt.title('Anger and Risk over Time', fontsize = 20, y = 1.08) # y is for changing the position of the title\n",
    "plt.ylabel('Anger', fontsize = 15)\n",
    "plt.xlabel('Protes Dates', fontsize = 15)\n",
    "plt.xticks(rotation = 45, fontsize = 15)\n",
    "plt.yticks(fontsize = 15)\n",
    "plt.ylim(0, 50)\n",
    "plt.clim(0,50)\n",
    "\n",
    "# save figure in pdf or high quality svg formats\n",
    "plt.savefig('./figures/anger_risk_over_time.pdf', bbox_inches='tight')\n",
    "plt.savefig('./figures/anger_risk_over_time.svg', format=\"svg\",transparent=True, bbox_inches='tight')\n",
    "\n",
    "plt.show()"
   ]
  },
  {
   "cell_type": "code",
   "execution_count": null,
   "id": "bdfe3551",
   "metadata": {},
   "outputs": [],
   "source": []
  }
 ],
 "metadata": {
  "kernelspec": {
   "display_name": "Python 3",
   "language": "python",
   "name": "python3"
  },
  "language_info": {
   "codemirror_mode": {
    "name": "ipython",
    "version": 3
   },
   "file_extension": ".py",
   "mimetype": "text/x-python",
   "name": "python",
   "nbconvert_exporter": "python",
   "pygments_lexer": "ipython3",
   "version": "3.8.8"
  }
 },
 "nbformat": 4,
 "nbformat_minor": 5
}
