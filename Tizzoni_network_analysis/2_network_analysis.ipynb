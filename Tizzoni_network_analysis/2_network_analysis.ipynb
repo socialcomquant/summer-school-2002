{
 "cells": [
  {
   "cell_type": "markdown",
   "metadata": {},
   "source": [
    "# Basics of network analysis "
   ]
  },
  {
   "cell_type": "code",
   "execution_count": null,
   "metadata": {},
   "outputs": [],
   "source": [
    "import networkx as nx\n",
    "import seaborn as sns"
   ]
  },
  {
   "cell_type": "code",
   "execution_count": null,
   "metadata": {
    "scrolled": true
   },
   "outputs": [],
   "source": [
    "%pylab inline"
   ]
  },
  {
   "cell_type": "markdown",
   "metadata": {},
   "source": [
    "## Connectivity and clustering of a graph\n",
    "\n",
    "We study the network of coauthorships of Astro-Ph, from the SNAP database."
   ]
  },
  {
   "cell_type": "code",
   "execution_count": null,
   "metadata": {},
   "outputs": [],
   "source": [
    "filepath = \"./network_data/ca-AstroPh.txt\""
   ]
  },
  {
   "cell_type": "code",
   "execution_count": null,
   "metadata": {},
   "outputs": [],
   "source": [
    "G = nx.Graph()"
   ]
  },
  {
   "cell_type": "code",
   "execution_count": null,
   "metadata": {},
   "outputs": [],
   "source": [
    "fh = open(filepath, \"r\")\n",
    "for line in fh.readlines():\n",
    "    s = line.strip().split()\n",
    "    if s[0] != \"#\":\n",
    "        origin = int(s[0])\n",
    "        dest = int(s[1])\n",
    "        G.add_edge(origin, dest)\n",
    "fh.close()"
   ]
  },
  {
   "cell_type": "code",
   "execution_count": null,
   "metadata": {},
   "outputs": [],
   "source": [
    "print(\"The graph has\", len(G), \"nodes and\", len(G.edges()), \"edges\")"
   ]
  },
  {
   "cell_type": "code",
   "execution_count": null,
   "metadata": {},
   "outputs": [],
   "source": [
    "print(\"Is the graph simply connected?\", nx.is_connected(G))"
   ]
  },
  {
   "cell_type": "markdown",
   "metadata": {},
   "source": [
    "### Show the components of the graph"
   ]
  },
  {
   "cell_type": "code",
   "execution_count": null,
   "metadata": {},
   "outputs": [],
   "source": [
    "print(\"The graph has\", nx.number_connected_components(G), \"connected components\")"
   ]
  },
  {
   "cell_type": "code",
   "execution_count": null,
   "metadata": {},
   "outputs": [],
   "source": [
    "for k in nx.connected_components(G):\n",
    "    print(len(k))"
   ]
  },
  {
   "cell_type": "markdown",
   "metadata": {},
   "source": [
    "### Extract the largest Connected Component as a subgraph"
   ]
  },
  {
   "cell_type": "code",
   "execution_count": null,
   "metadata": {},
   "outputs": [],
   "source": [
    "nx.connected_components(G)"
   ]
  },
  {
   "cell_type": "code",
   "execution_count": null,
   "metadata": {},
   "outputs": [],
   "source": [
    "graphs = list(nx.connected_components(G))"
   ]
  },
  {
   "cell_type": "code",
   "execution_count": null,
   "metadata": {},
   "outputs": [],
   "source": [
    "H = G.subgraph(graphs[0])"
   ]
  },
  {
   "cell_type": "code",
   "execution_count": null,
   "metadata": {},
   "outputs": [],
   "source": [
    "len(H)"
   ]
  },
  {
   "cell_type": "code",
   "execution_count": null,
   "metadata": {},
   "outputs": [],
   "source": [
    "print(len(G) - len(H))"
   ]
  },
  {
   "cell_type": "code",
   "execution_count": null,
   "metadata": {},
   "outputs": [],
   "source": [
    "print(\"Check that the graph is now connected\")\n",
    "nx.is_connected(H)"
   ]
  },
  {
   "cell_type": "markdown",
   "metadata": {},
   "source": [
    "## Global clustering coefficient"
   ]
  },
  {
   "cell_type": "markdown",
   "metadata": {},
   "source": [
    "The global clustering coefficient measures the number of triangles in the network and it's defined as: \n",
    "<center>\n",
    "$C_\\Delta = \\frac{3 \\times \\text{triangles}}{\\text{triplets}}$\n",
    "</center> "
   ]
  },
  {
   "cell_type": "code",
   "execution_count": null,
   "metadata": {
    "tags": []
   },
   "outputs": [],
   "source": [
    "nx.triangles(H)"
   ]
  },
  {
   "cell_type": "markdown",
   "metadata": {},
   "source": [
    "How many triangles are there in the whole network?"
   ]
  },
  {
   "cell_type": "code",
   "execution_count": null,
   "metadata": {},
   "outputs": [],
   "source": [
    "tt = sum(list(nx.triangles(H).values()))"
   ]
  },
  {
   "cell_type": "code",
   "execution_count": null,
   "metadata": {},
   "outputs": [],
   "source": [
    "tt / 3"
   ]
  },
  {
   "cell_type": "markdown",
   "metadata": {},
   "source": [
    "The transitivity is the fraction of all possible triangles in the network."
   ]
  },
  {
   "cell_type": "code",
   "execution_count": null,
   "metadata": {},
   "outputs": [],
   "source": [
    "nx.transitivity(H)"
   ]
  },
  {
   "cell_type": "markdown",
   "metadata": {},
   "source": [
    "## Average clustering coefficient\n",
    "\n",
    " <img src=\"figure/clust_coeff.png\" width=\"75%\">\n",
    " \n",
    "\n",
    "As an alternative to the global clustering coefficient, the overall level of clustering in a network is measured by Watts and Strogatz as the average of the local clustering coefficients of all the vertices $n$:\n",
    "\n",
    "<center>\n",
    "$\\bar{C} = \\frac{1}{n}\\sum_{i=1}^{n} C_i.$\n",
    "</center>\n",
    "\n",
    "The clustering coefficient essentially quantifies how ones \"friends\" are \"friends\" with each other.\n"
   ]
  },
  {
   "cell_type": "code",
   "execution_count": null,
   "metadata": {},
   "outputs": [],
   "source": [
    "print(\"The average clustering coefficient of H is\")\n",
    "nx.average_clustering(H)"
   ]
  },
  {
   "cell_type": "markdown",
   "metadata": {},
   "source": [
    "## Average sorthest path length\n",
    "### Warning! Calculating the shortest paths is intensive!! "
   ]
  },
  {
   "cell_type": "markdown",
   "metadata": {},
   "source": [
    "The graph is small world."
   ]
  },
  {
   "cell_type": "code",
   "execution_count": null,
   "metadata": {},
   "outputs": [],
   "source": [
    "nx.average_shortest_path_length(H)"
   ]
  },
  {
   "cell_type": "code",
   "execution_count": null,
   "metadata": {},
   "outputs": [],
   "source": [
    "math.log(len(H), 10)"
   ]
  },
  {
   "cell_type": "markdown",
   "metadata": {},
   "source": [
    "# Create an arbitrary graph G"
   ]
  },
  {
   "cell_type": "code",
   "execution_count": null,
   "metadata": {},
   "outputs": [],
   "source": [
    "G = nx.Graph()\n",
    "\n",
    "G.add_edges_from([(0,1),(0,4),(0,5),(1,3),(1,2),\n",
    "                  (1,4), (4,6), (4,7), (4,8), (4,9), \n",
    "                  (3,10), (10,11), (10,12), (12,13), \n",
    "                  (12,14), (12,15), (13,16), (16, 17), \n",
    "                  (16, 18), (8,19), (19, 20), (19,21), \n",
    "                  (19,22), (8,23), (8,24), (23,24)])\n",
    "pos = nx.fruchterman_reingold_layout(G);\n",
    "\n",
    "plt.figure(figsize=(8,8));\n",
    "plt.axis(\"off\");\n",
    "nx.draw_networkx_nodes(G, pos, node_size=300, node_color=\"lightgreen\");\n",
    "nx.draw_networkx_edges(G, pos, alpha=0.500);\n",
    "nx.draw_networkx_labels(G, pos, font_color='black');\n",
    "plt.show();"
   ]
  },
  {
   "cell_type": "markdown",
   "metadata": {},
   "source": [
    "Observe how the central nodes vary depending on the measure we're using."
   ]
  },
  {
   "cell_type": "code",
   "execution_count": null,
   "metadata": {},
   "outputs": [],
   "source": [
    "fig = plt.figure(figsize=(20,15));\n",
    "\n",
    "centralities = [list(nx.degree_centrality(G).values()), \n",
    "                list(nx.closeness_centrality(G).values()), \n",
    "                list(nx.betweenness_centrality(G).values()),\n",
    "                list(nx.eigenvector_centrality(G).values())]\n",
    "titles = ['Degree Centrality', 'Closeness Centrality', \n",
    "          'Betweenness Centrality', 'Eigenvector Centrality']\n",
    "\n",
    "for i in range(4):\n",
    "    ax = fig.add_subplot(2, 2, i+1);\n",
    "    nc = nx.draw_networkx_nodes(G, pos, node_size=300, cmap=plt.cm.RdYlBu_r,\n",
    "                            node_color=centralities[i]);\n",
    "    nx.draw_networkx_edges(G, pos, alpha=0.500);\n",
    "    nx.draw_networkx_labels(G, pos, font_color='white');\n",
    "    plt.title(titles[i]);\n",
    "    plt.axis('off');\n",
    "    plt.colorbar(nc);\n",
    "\n",
    "plt.show();"
   ]
  },
  {
   "cell_type": "markdown",
   "metadata": {},
   "source": [
    "# The Zachary Karate club"
   ]
  },
  {
   "cell_type": "markdown",
   "metadata": {},
   "source": [
    "This dataset, Zachary's Karate Club ([Zachary, 1977](https://www.jstor.org/stable/3629752)), is historically so important in network science, that NetworkX has even a function to import it! "
   ]
  },
  {
   "cell_type": "code",
   "execution_count": null,
   "metadata": {},
   "outputs": [],
   "source": [
    "K = nx.karate_club_graph()"
   ]
  },
  {
   "cell_type": "code",
   "execution_count": null,
   "metadata": {},
   "outputs": [],
   "source": [
    "pos = nx.fruchterman_reingold_layout(K);\n",
    "plt.figure(figsize=(8,8));\n",
    "plt.axis(\"off\");\n",
    "nx.draw_networkx_nodes(K, pos, node_size=300, node_color=\"black\");\n",
    "nx.draw_networkx_edges(K, pos, alpha=0.500);\n",
    "nx.draw_networkx_labels(K, pos, font_color=\"white\");\n",
    "\n",
    "\n",
    "plt.show();"
   ]
  },
  {
   "cell_type": "markdown",
   "metadata": {},
   "source": [
    "## Clustering functions \n",
    "\n",
    "We write a function that implements the Girvan-Newman algorithm.\n",
    "\n"
   ]
  },
  {
   "cell_type": "code",
   "execution_count": null,
   "metadata": {},
   "outputs": [],
   "source": [
    "def updateGraph1(G):\n",
    "\n",
    "    ebw = nc.edge_betweenness(G)\n",
    "    \n",
    "    maxs = 0\n",
    "    for k, v in ebw.items():\n",
    "        if maxs < v:\n",
    "            medge, maxs = k, v\n",
    "\n",
    "    G.remove_edge(medge[0], medge[1])"
   ]
  },
  {
   "cell_type": "code",
   "execution_count": null,
   "metadata": {},
   "outputs": [],
   "source": [
    "while nx.is_connected(G):\n",
    "\n",
    "    # we remove links until the graph is connected\n",
    "    updateGraph1(G)"
   ]
  },
  {
   "cell_type": "code",
   "execution_count": null,
   "metadata": {},
   "outputs": [],
   "source": [
    "nx.is_connected(G)"
   ]
  },
  {
   "cell_type": "code",
   "execution_count": null,
   "metadata": {},
   "outputs": [],
   "source": [
    "communities = [i for i in nx.connected_components(G)]\n",
    "communities"
   ]
  },
  {
   "cell_type": "code",
   "execution_count": null,
   "metadata": {},
   "outputs": [],
   "source": [
    "color_community = []\n",
    "\n",
    "for i in range(0, len(G)):\n",
    "\n",
    "    if i in communities[0]:\n",
    "        color_community.append(0)\n",
    "    else:\n",
    "        color_community.append(1)"
   ]
  },
  {
   "cell_type": "code",
   "execution_count": null,
   "metadata": {},
   "outputs": [],
   "source": [
    "plt.figure(figsize=(10, 8))\n",
    "\n",
    "nx.draw_networkx(\n",
    "    K,\n",
    "    pos,\n",
    "    node_color=color_community,\n",
    "    cmap=plt.cm.RdBu,\n",
    "    with_labels=True,\n",
    "    label_color='white'\n",
    ")"
   ]
  },
  {
   "cell_type": "code",
   "execution_count": null,
   "metadata": {},
   "outputs": [],
   "source": []
  }
 ],
 "metadata": {
  "kernelspec": {
   "display_name": "Python 3 (ipykernel)",
   "language": "python",
   "name": "python3"
  },
  "language_info": {
   "codemirror_mode": {
    "name": "ipython",
    "version": 3
   },
   "file_extension": ".py",
   "mimetype": "text/x-python",
   "name": "python",
   "nbconvert_exporter": "python",
   "pygments_lexer": "ipython3",
   "version": "3.8.2"
  },
  "toc": {
   "base_numbering": 1,
   "nav_menu": {},
   "number_sections": true,
   "sideBar": true,
   "skip_h1_title": false,
   "title_cell": "Table of Contents",
   "title_sidebar": "Contents",
   "toc_cell": false,
   "toc_position": {},
   "toc_section_display": true,
   "toc_window_display": true
  }
 },
 "nbformat": 4,
 "nbformat_minor": 4
}
