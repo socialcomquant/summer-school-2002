{
 "cells": [
  {
   "cell_type": "markdown",
   "id": "e576129f",
   "metadata": {},
   "source": [
    "---\n",
    "# SUMMER SCHOOL 2022:\n",
    "## Text mining and Natural Language Processing for Computational Social Sciences\n",
    "\n",
    "### SocialComQuant Project - Online Teaching Module: Text Representation Learning\n",
    "\n",
    "### André Panisson\n",
    "\n",
    "---\n"
   ]
  },
  {
   "cell_type": "code",
   "execution_count": 1,
   "id": "c1209634",
   "metadata": {},
   "outputs": [],
   "source": [
    "import warnings\n",
    "warnings.filterwarnings('ignore')"
   ]
  },
  {
   "cell_type": "markdown",
   "id": "265df17b",
   "metadata": {
    "tags": []
   },
   "source": [
    "## Load the dataset"
   ]
  },
  {
   "cell_type": "code",
   "execution_count": 2,
   "id": "0ea249e3-1a6b-4f0f-8bd9-305fe0a28781",
   "metadata": {},
   "outputs": [
    {
     "name": "stderr",
     "output_type": "stream",
     "text": [
      "Reusing dataset imdb (/home/panisson/.cache/huggingface/datasets/imdb/plain_text/1.0.0/2fdd8b9bcadd6e7055e742a706876ba43f19faee861df134affd7a3f60fc38a1)\n",
      "Loading cached split indices for dataset at /home/panisson/.cache/huggingface/datasets/imdb/plain_text/1.0.0/2fdd8b9bcadd6e7055e742a706876ba43f19faee861df134affd7a3f60fc38a1/cache-cc7bf445f84ad2a1.arrow and /home/panisson/.cache/huggingface/datasets/imdb/plain_text/1.0.0/2fdd8b9bcadd6e7055e742a706876ba43f19faee861df134affd7a3f60fc38a1/cache-6987fd269768b1cf.arrow\n"
     ]
    }
   ],
   "source": [
    "from datasets import load_dataset\n",
    "\n",
    "imdb = load_dataset(\"imdb\", split=\"train\")\n",
    "imdb = imdb.train_test_split(train_size=5000, test_size=5000, seed=42)"
   ]
  },
  {
   "cell_type": "code",
   "execution_count": 3,
   "id": "535ba459-d668-4d68-8c49-dccfdc8e8a00",
   "metadata": {},
   "outputs": [],
   "source": [
    "train_documents = imdb[\"train\"]['text']\n",
    "train_target = imdb[\"train\"]['label']\n",
    "\n",
    "test_documents = imdb[\"test\"]['text']\n",
    "test_target = imdb[\"test\"]['label']"
   ]
  },
  {
   "cell_type": "markdown",
   "id": "d606fb9d-c32b-40b9-bacf-15107101085e",
   "metadata": {},
   "source": [
    "# An Introduction to Word Embeddings"
   ]
  },
  {
   "cell_type": "markdown",
   "id": "ba2adce2-5a99-42da-99f3-620f4e256f2e",
   "metadata": {},
   "source": [
    "Many people would say the breakthrough of deep learning in Natural Language Processing started with the introduction of word embeddings. Rather than using the words themselves as features, neural network methods typically take as input dense, relatively low-dimensional vectors that model the meaning and usage of a word. Word embeddings were first popularized through the [Word2Vec](https://arxiv.org/abs/1301.3781) model, developed by Thomas Mikolov and colleagues at Google. Since then, scores of alternative approaches have been developed, such as [GloVe](https://nlp.stanford.edu/projects/glove/) and [FastText](https://fasttext.cc/) embeddings. In this notebook, we'll explore word embeddings with the original Word2Vec approach, as implemented in the [Gensim](https://radimrehurek.com/gensim/) library. "
   ]
  },
  {
   "cell_type": "markdown",
   "id": "4b0cad78-7b4b-49b2-b416-75c0c1fbc294",
   "metadata": {},
   "source": [
    "The rod vectors are obtained by training a neural network on the task of predicting a word from a their neighbors.\n",
    "For example, given the following phrase:\n",
    "```\n",
    "    The quick brown fox jumps\n",
    "```\n",
    "we set a window size (e.g. 2) and try to predict a word (e.g. brown) from their neighbors at distance 2 (the, quick, fox, jumps).\n",
    "\n",
    "This unsupervised approach of learning is called **skip-gram**."
   ]
  },
  {
   "cell_type": "markdown",
   "id": "c58d0f62-0d52-4fc7-b352-7706305f1308",
   "metadata": {},
   "source": [
    "### Download and test a pre-trained Word2Vec model\n",
    "\n",
    "Next, we will download a Word2Vec model with pre-trained vectors based on two datasets, one with Wikipedia articles and the Gigaword 5 dataset with 6B tokens.\n",
    "It has a vocabulary of 400k words."
   ]
  },
  {
   "cell_type": "code",
   "execution_count": 4,
   "id": "81d7b9c8",
   "metadata": {},
   "outputs": [],
   "source": [
    "from gensim.models.word2vec import Word2Vec\n",
    "import gensim.downloader as api"
   ]
  },
  {
   "cell_type": "code",
   "execution_count": 5,
   "id": "2324a9c4",
   "metadata": {},
   "outputs": [],
   "source": [
    "# download the model and return as object ready for use\n",
    "# model_glove_twitter = api.load(\"glove-twitter-100\")\n",
    "w2v = api.load(\"glove-wiki-gigaword-100\")"
   ]
  },
  {
   "cell_type": "code",
   "execution_count": 6,
   "id": "0c91ad7a-0953-469a-8db9-31c14be308c1",
   "metadata": {},
   "outputs": [
    {
     "data": {
      "text/plain": [
       "400000"
      ]
     },
     "execution_count": 6,
     "metadata": {},
     "output_type": "execute_result"
    }
   ],
   "source": [
    "len(w2v)"
   ]
  },
  {
   "cell_type": "markdown",
   "id": "89104527-80f8-4961-aa94-ad652447de22",
   "metadata": {},
   "source": [
    "In Word2Vec, each word is represented as a vector. \n",
    "In the case of the model we just downloaded, the vector are of size 25."
   ]
  },
  {
   "cell_type": "code",
   "execution_count": 7,
   "id": "9717e31a-5623-4a5e-b0ef-a5ed8ca87a19",
   "metadata": {},
   "outputs": [
    {
     "name": "stdout",
     "output_type": "stream",
     "text": [
      "[ 2.4904e-01  2.3423e-01  2.3476e-01 -2.2316e-01 -2.3160e-01  2.8909e-02\n",
      "  2.6808e-01  6.0467e-01 -5.2247e-01 -4.6531e-01  5.7831e-01 -2.1542e-01\n",
      " -1.8651e-01 -8.0568e-01  1.5249e-03  5.7291e-01 -3.1303e-01  9.1597e-01\n",
      " -1.2571e-02  1.0577e+00  4.7094e-01  2.7438e-01 -3.6912e-01 -8.3548e-01\n",
      "  7.9462e-01  5.0010e-01  1.9319e-01  2.7376e-01  2.1519e-01 -7.9754e-01\n",
      " -7.2414e-01  7.8378e-02  2.5171e-02 -2.6574e-01 -9.9393e-02 -4.3234e-01\n",
      " -5.5377e-01  3.5712e-01  1.7956e-01 -5.3916e-01  3.8338e-01  7.0359e-01\n",
      "  7.6757e-02  8.1165e-02 -9.7816e-02  3.0594e-01  4.9879e-01 -1.0690e-01\n",
      "  5.7092e-02 -6.6020e-01 -1.5238e-01 -9.8335e-02  6.6284e-01  6.5289e-01\n",
      "  3.1960e-01 -1.7919e+00  3.0483e-01  5.8955e-01  3.0529e-01 -1.1810e-02\n",
      " -3.6157e-01  9.3170e-01 -6.5981e-01 -2.4784e-01  4.3166e-01 -3.8846e-02\n",
      "  4.7463e-01 -2.9135e-02  3.8999e-01  8.9294e-02  7.2422e-01  4.0294e-01\n",
      " -5.5704e-02  1.6401e-01  6.6226e-01  6.6812e-01 -1.4608e-01 -3.1634e-01\n",
      "  1.7365e-01  2.9629e-01  1.5788e-01  3.1749e-01  2.6991e-01 -6.4028e-02\n",
      " -9.9376e-01 -2.7800e-01  4.4937e-01 -3.4077e-01 -7.4536e-01 -4.6839e-02\n",
      "  2.6373e-01  1.8334e-01  3.2750e-01  2.1991e-02 -6.1047e-01 -6.7460e-01\n",
      " -8.0762e-01 -1.1873e+00 -1.5702e-01  9.4930e-01]\n"
     ]
    }
   ],
   "source": [
    "print(w2v['amazing'])"
   ]
  },
  {
   "cell_type": "code",
   "execution_count": 8,
   "id": "5fbb2c75-224f-4f37-bd13-912ab4385fdd",
   "metadata": {},
   "outputs": [
    {
     "name": "stdout",
     "output_type": "stream",
     "text": [
      "[-0.18008    0.084106   0.72864   -0.77307   -0.60034   -0.19223\n",
      " -0.22914    0.42666   -0.12717   -0.0065352  0.83655   -0.065268\n",
      " -0.16575   -0.88205    0.1876     0.076791  -0.27967    0.91433\n",
      " -0.39398    0.66955    0.54149    0.32752   -0.094895  -0.51644\n",
      "  0.90136    0.54181    0.26746    0.68016    0.22842   -0.73537\n",
      " -0.20871   -0.059895   0.24477   -0.037463   0.068086  -0.42048\n",
      " -0.94419    0.34877    0.11188   -0.52052    0.53379    0.82981\n",
      "  0.36603   -0.095496  -0.05701    0.61821    0.58893   -0.025414\n",
      "  0.038517  -0.64536   -0.32316   -0.13728    0.73336    0.16069\n",
      "  0.1331    -1.1587     0.82379    0.47982    0.25612   -0.095601\n",
      "  0.21236    0.48335   -0.57491    0.12975    0.3161    -0.078513\n",
      "  0.33765   -0.28684   -0.15185    0.14687    0.68358   -0.30267\n",
      " -0.13771    0.06876    0.31156    0.57659   -0.31029   -0.10508\n",
      "  0.4543    -0.0074264  0.3042    -0.02276    0.017446   0.28472\n",
      " -0.35168   -0.0090702  0.24685   -0.14356   -0.37145   -0.35959\n",
      " -0.17115   -0.069143   0.33538    0.1673     0.3042    -0.49773\n",
      " -0.8218    -0.70383    0.094282   0.80785  ]\n"
     ]
    }
   ],
   "source": [
    "print(w2v['awesome'])"
   ]
  },
  {
   "cell_type": "markdown",
   "id": "cd9a9023-3cb5-4cf0-ad2a-6ee8bdfcfb6c",
   "metadata": {},
   "source": [
    "If two words are semantically similar, their corresponding vectors also are similar. "
   ]
  },
  {
   "cell_type": "code",
   "execution_count": 9,
   "id": "9541cd83-06d2-487a-85cf-ba1260701636",
   "metadata": {},
   "outputs": [
    {
     "data": {
      "text/plain": [
       "0.8062849"
      ]
     },
     "execution_count": 9,
     "metadata": {},
     "output_type": "execute_result"
    }
   ],
   "source": [
    "w2v.similarity(\"amazing\", \"awesome\")"
   ]
  },
  {
   "cell_type": "code",
   "execution_count": 10,
   "id": "6764153e-d6f7-4f5d-832d-cfbaacf1c269",
   "metadata": {},
   "outputs": [
    {
     "data": {
      "text/plain": [
       "0.57347816"
      ]
     },
     "execution_count": 10,
     "metadata": {},
     "output_type": "execute_result"
    }
   ],
   "source": [
    "w2v.similarity(\"amazing\", \"terrible\")"
   ]
  },
  {
   "cell_type": "markdown",
   "id": "653a2f72-9a76-48d4-b837-e494ee127c0a",
   "metadata": {},
   "source": [
    "We can get the words that are more similar to a query word. "
   ]
  },
  {
   "cell_type": "code",
   "execution_count": 11,
   "id": "08d103b8",
   "metadata": {},
   "outputs": [
    {
     "data": {
      "text/plain": [
       "[('incredible', 0.9194009900093079),\n",
       " ('fantastic', 0.8431944847106934),\n",
       " ('wonderful', 0.8312846422195435),\n",
       " ('astonishing', 0.8230014443397522),\n",
       " ('marvelous', 0.8176810145378113),\n",
       " ('awesome', 0.8062849044799805),\n",
       " ('unbelievable', 0.8006238341331482),\n",
       " ('remarkable', 0.7889993786811829),\n",
       " ('terrific', 0.7745215892791748),\n",
       " ('phenomenal', 0.7420392632484436)]"
      ]
     },
     "execution_count": 11,
     "metadata": {},
     "output_type": "execute_result"
    }
   ],
   "source": [
    "w2v.most_similar(\"amazing\", topn=10)"
   ]
  },
  {
   "cell_type": "code",
   "execution_count": 12,
   "id": "4f4677fb",
   "metadata": {},
   "outputs": [
    {
     "data": {
      "text/plain": [
       "[('spain', 0.7746186256408691),\n",
       " ('italian', 0.7569283843040466),\n",
       " ('portugal', 0.7421525716781616),\n",
       " ('germany', 0.740085244178772),\n",
       " ('greece', 0.7235243916511536),\n",
       " ('netherlands', 0.7212409973144531),\n",
       " ('france', 0.7163637280464172),\n",
       " ('austria', 0.7158599495887756),\n",
       " ('switzerland', 0.6981543302536011),\n",
       " ('brazil', 0.6805199384689331)]"
      ]
     },
     "execution_count": 12,
     "metadata": {},
     "output_type": "execute_result"
    }
   ],
   "source": [
    "w2v.most_similar(\"italy\", topn=10)"
   ]
  },
  {
   "cell_type": "code",
   "execution_count": 13,
   "id": "40b3755a",
   "metadata": {},
   "outputs": [
    {
     "data": {
      "text/plain": [
       "[('microsoft', 0.7449405789375305),\n",
       " ('ibm', 0.6821643114089966),\n",
       " ('intel', 0.6778087615966797),\n",
       " ('software', 0.6775422692298889),\n",
       " ('dell', 0.6741442680358887),\n",
       " ('pc', 0.6678153276443481),\n",
       " ('macintosh', 0.66175377368927),\n",
       " ('iphone', 0.6595611572265625),\n",
       " ('ipod', 0.6534676551818848),\n",
       " ('hewlett', 0.6516579389572144)]"
      ]
     },
     "execution_count": 13,
     "metadata": {},
     "output_type": "execute_result"
    }
   ],
   "source": [
    "w2v.most_similar(\"apple\", topn=10)"
   ]
  },
  {
   "cell_type": "markdown",
   "id": "5260b919-3a78-44af-982f-79a4d2b80865",
   "metadata": {},
   "source": [
    "We can also apply mathematical operations with these vectors.\n",
    "\n",
    "For example, this is the result of the operation **king - man + woman**:"
   ]
  },
  {
   "cell_type": "code",
   "execution_count": 14,
   "id": "e63c8683-da45-467f-98bb-b78dbdc208c1",
   "metadata": {},
   "outputs": [
    {
     "data": {
      "text/plain": [
       "[('queen', 0.7698541283607483)]"
      ]
     },
     "execution_count": 14,
     "metadata": {},
     "output_type": "execute_result"
    }
   ],
   "source": [
    "w2v.most_similar(positive=['king', 'woman'], negative=['man'], topn=1)"
   ]
  },
  {
   "cell_type": "markdown",
   "id": "4ab2ea6a-2772-4833-9fce-1989b87f1d8f",
   "metadata": {
    "tags": []
   },
   "source": [
    "## Text classification with Word2Vec\n",
    "\n",
    "Next, we will use Word2Vec for text classification.\n",
    "\n",
    "To use word vectors to classify an entire document, the vectors must be aggregated in some way.\n",
    "\n",
    "**Doc2Vec** aggregates the word vectors using a different approach.\n",
    "More specifically, the document vectors are obtained by training a neural network on the task of predicting a probability distribution of words in a paragraph given a randomly-sampled word from the paragraph."
   ]
  },
  {
   "cell_type": "code",
   "execution_count": 15,
   "id": "32af74a7",
   "metadata": {},
   "outputs": [],
   "source": [
    "from gensim.models.doc2vec import Doc2Vec, TaggedDocument\n",
    "from gensim.utils import tokenize"
   ]
  },
  {
   "cell_type": "code",
   "execution_count": 16,
   "id": "89b9d490",
   "metadata": {},
   "outputs": [],
   "source": [
    "tagged_documents = [TaggedDocument(list(tokenize(doc, lower=True)), [i]) for i, doc in enumerate(train_documents)]"
   ]
  },
  {
   "cell_type": "code",
   "execution_count": 17,
   "id": "fb39007a",
   "metadata": {},
   "outputs": [],
   "source": [
    "d2v_model = Doc2Vec(tagged_documents, vector_size=128, window=5, min_count=1, epochs=5)"
   ]
  },
  {
   "cell_type": "code",
   "execution_count": 18,
   "id": "da32193d",
   "metadata": {},
   "outputs": [],
   "source": [
    "d2v_model.save('imdb.d2v')"
   ]
  },
  {
   "cell_type": "code",
   "execution_count": 19,
   "id": "094cc661",
   "metadata": {},
   "outputs": [
    {
     "data": {
      "text/plain": [
       "array([ 4.43560146e-02,  1.07237529e-02, -2.48773396e-02,  7.74463639e-02,\n",
       "        1.09992258e-01, -1.06930090e-02, -1.40104488e-01,  2.94656903e-02,\n",
       "       -1.17057189e-02, -6.50692880e-02,  2.15232867e-04, -6.25962839e-02,\n",
       "        6.92457408e-02, -9.61824730e-02,  7.70040080e-02,  5.68704791e-02,\n",
       "       -7.03112110e-02,  2.14376114e-02, -1.81014806e-01,  2.28004772e-02,\n",
       "        6.37447089e-02,  1.10183626e-01, -2.78918874e-02, -1.50088966e-01,\n",
       "       -6.35171235e-02,  1.59137547e-01, -5.78059480e-02,  1.21804290e-01,\n",
       "       -3.07591893e-02,  1.72338504e-02, -2.75277533e-02, -2.64373217e-02,\n",
       "       -2.18272805e-02,  7.06714317e-02, -9.82569829e-02,  8.88837427e-02,\n",
       "        7.24403709e-02,  3.88153158e-02,  1.85619459e-01, -4.35999110e-02,\n",
       "        8.47816318e-02,  6.09291829e-02, -8.66904296e-03, -1.61540613e-01,\n",
       "        6.06684014e-02,  5.99862747e-02,  1.92776889e-01, -1.91790499e-02,\n",
       "       -1.68763250e-01, -5.21087237e-02,  1.65187120e-01,  2.44594514e-02,\n",
       "        8.73784348e-03,  7.90362209e-02,  2.19595488e-02,  1.32412344e-01,\n",
       "        7.17233866e-02,  6.32365644e-02, -1.11041032e-01, -1.14920273e-01,\n",
       "       -2.68688835e-02,  5.70919253e-02,  1.96553543e-01,  1.67965934e-01,\n",
       "        1.82987172e-02,  7.39048570e-02,  2.76330858e-01,  5.22996895e-02,\n",
       "        2.98526585e-02, -1.47220090e-01, -7.10741132e-02, -1.39901832e-01,\n",
       "       -1.95624784e-01, -9.53117833e-02, -1.10588074e-01, -1.66749600e-02,\n",
       "       -2.84808967e-02,  4.65324558e-02, -6.02203142e-03,  1.59459963e-01,\n",
       "       -1.00552984e-01,  3.99146117e-02,  1.80256680e-01, -3.09693478e-02,\n",
       "       -7.63669088e-02, -1.36755735e-01,  1.39225855e-01,  5.51039353e-02,\n",
       "        5.83308749e-02,  7.58233219e-02, -1.25282072e-02, -5.60718365e-02,\n",
       "       -1.11312181e-01, -9.51945782e-02, -3.71170454e-02, -1.04406878e-01,\n",
       "        3.31921242e-02, -5.40933535e-02, -2.84856977e-03, -5.20325899e-02,\n",
       "       -2.52498128e-02, -4.00032885e-02, -9.45978910e-02, -1.09428419e-02,\n",
       "       -5.33506535e-02,  3.74023779e-03,  3.06089502e-02, -4.87363078e-02,\n",
       "        3.66599672e-03,  8.19264650e-02,  3.28055061e-02, -1.64547563e-01,\n",
       "       -6.05364656e-03, -8.34989250e-02, -1.18422270e-01,  5.14389090e-02,\n",
       "        2.01479737e-02,  2.57268660e-02,  1.27485484e-01,  7.75979832e-02,\n",
       "       -5.30492216e-02,  4.86520417e-02, -7.75194168e-02,  1.78801283e-01,\n",
       "       -9.33561567e-03, -4.31187823e-02, -1.51751225e-03,  7.81001821e-02],\n",
       "      dtype=float32)"
      ]
     },
     "execution_count": 19,
     "metadata": {},
     "output_type": "execute_result"
    }
   ],
   "source": [
    "d2v_model.infer_vector(tagged_documents[0].words)"
   ]
  },
  {
   "cell_type": "code",
   "execution_count": 20,
   "id": "e1e7db94",
   "metadata": {},
   "outputs": [],
   "source": [
    "X = [d2v_model.infer_vector(doc.words) for doc in tagged_documents]"
   ]
  },
  {
   "cell_type": "markdown",
   "id": "58a34ec1",
   "metadata": {
    "tags": []
   },
   "source": [
    "## Training\n",
    "Next, we train a text classifier on the preprocessed training data. We're going to experiment with Logistic Regression."
   ]
  },
  {
   "cell_type": "code",
   "execution_count": 21,
   "id": "2ab6ff7f",
   "metadata": {},
   "outputs": [],
   "source": [
    "from sklearn.linear_model import LogisticRegression\n",
    "from sklearn.model_selection import cross_val_score"
   ]
  },
  {
   "cell_type": "markdown",
   "id": "67642388",
   "metadata": {},
   "source": [
    "### Model selection"
   ]
  },
  {
   "cell_type": "code",
   "execution_count": 22,
   "id": "0ec0ccad",
   "metadata": {},
   "outputs": [
    {
     "name": "stdout",
     "output_type": "stream",
     "text": [
      "Model performance achieved an accuracy of 0.7434 with C=0.1.\n",
      "Model performance achieved an accuracy of 0.7520 with C=1.\n",
      "Model performance achieved an accuracy of 0.7602 with C=5.\n"
     ]
    }
   ],
   "source": [
    "model = LogisticRegression(max_iter=200)\n",
    "\n",
    "Cs = [0.1, 1, 5]\n",
    "for C in Cs:\n",
    "    model.C = C\n",
    "    scores = cross_val_score(model, X, train_target)\n",
    "    print(f\"Model performance achieved an accuracy of {scores.mean():.4f} with C={C}.\")"
   ]
  },
  {
   "cell_type": "code",
   "execution_count": 23,
   "id": "54f2a689",
   "metadata": {},
   "outputs": [],
   "source": [
    "model = LogisticRegression(C=5, max_iter=200)\n",
    "model.fit(X, train_target);"
   ]
  },
  {
   "cell_type": "markdown",
   "id": "d4735d2e",
   "metadata": {},
   "source": [
    "## Testing"
   ]
  },
  {
   "cell_type": "code",
   "execution_count": 24,
   "id": "d90c5cf5",
   "metadata": {},
   "outputs": [],
   "source": [
    "from sklearn.metrics import confusion_matrix, accuracy_score"
   ]
  },
  {
   "cell_type": "code",
   "execution_count": 25,
   "id": "d5e01829",
   "metadata": {},
   "outputs": [],
   "source": [
    "tagged_documents_test = [TaggedDocument(list(tokenize(doc, lower=True)), [i])\n",
    "                         for i, doc in enumerate(test_documents)]"
   ]
  },
  {
   "cell_type": "code",
   "execution_count": 26,
   "id": "c15c37cc",
   "metadata": {},
   "outputs": [],
   "source": [
    "X_test = [d2v_model.infer_vector(doc.words) for doc in tagged_documents_test]"
   ]
  },
  {
   "cell_type": "code",
   "execution_count": 27,
   "id": "0af12867",
   "metadata": {},
   "outputs": [],
   "source": [
    "true_labels = test_target\n",
    "pred_labels = model.predict(X_test)"
   ]
  },
  {
   "cell_type": "code",
   "execution_count": 28,
   "id": "5aca7291",
   "metadata": {},
   "outputs": [
    {
     "name": "stdout",
     "output_type": "stream",
     "text": [
      "[[1906  588]\n",
      " [ 602 1904]]\n"
     ]
    }
   ],
   "source": [
    "cm = confusion_matrix(true_labels, pred_labels)\n",
    "print(cm)"
   ]
  },
  {
   "cell_type": "code",
   "execution_count": 29,
   "id": "465617a4-7bc5-48fe-aedc-a42e1a369207",
   "metadata": {},
   "outputs": [
    {
     "data": {
      "text/plain": [
       "[Text(0, 0.5, 'True'), Text(0, 1.5, 'False')]"
      ]
     },
     "execution_count": 29,
     "metadata": {},
     "output_type": "execute_result"
    },
    {
     "data": {
      "image/png": "[encoded data removed]",
      "text/plain": [
       "<Figure size 432x288 with 1 Axes>"
      ]
     },
     "metadata": {
      "needs_background": "light"
     },
     "output_type": "display_data"
    }
   ],
   "source": [
    "import seaborn as sns\n",
    "ax = sns.heatmap(cm, annot=True, cmap='BuPu', fmt='g', cbar=False)\n",
    "ax.set_xlabel('\\nPredicted Values')\n",
    "ax.set_ylabel('Actual Values ');\n",
    "ax.xaxis.set_ticklabels(['True','False'])\n",
    "ax.yaxis.set_ticklabels(['True','False'])"
   ]
  },
  {
   "cell_type": "code",
   "execution_count": 30,
   "id": "1d83dfca",
   "metadata": {},
   "outputs": [
    {
     "data": {
      "text/plain": [
       "0.762"
      ]
     },
     "execution_count": 30,
     "metadata": {},
     "output_type": "execute_result"
    }
   ],
   "source": [
    "accuracy_score(true_labels, pred_labels)"
   ]
  },
  {
   "cell_type": "code",
   "execution_count": null,
   "id": "e064b523",
   "metadata": {},
   "outputs": [],
   "source": []
  }
 ],
 "metadata": {
  "kernelspec": {
   "display_name": "transformers",
   "language": "python",
   "name": "transformers"
  },
  "language_info": {
   "codemirror_mode": {
    "name": "ipython",
    "version": 3
   },
   "file_extension": ".py",
   "mimetype": "text/x-python",
   "name": "python",
   "nbconvert_exporter": "python",
   "pygments_lexer": "ipython3",
   "version": "3.8.13"
  }
 },
 "nbformat": 4,
 "nbformat_minor": 5
}
