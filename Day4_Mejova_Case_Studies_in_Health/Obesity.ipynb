{
 "cells": [
  {
   "cell_type": "code",
   "execution_count": 1,
   "metadata": {
    "id": "tTDp-kMw9mev"
   },
   "outputs": [
    {
     "data": {
      "text/html": [
       "<style>.container { width:100% !important; }</style>"
      ],
      "text/plain": [
       "<IPython.core.display.HTML object>"
      ]
     },
     "metadata": {},
     "output_type": "display_data"
    }
   ],
   "source": [
    "from datetime import datetime, date\n",
    "import pandas as pd\n",
    "import numpy as np\n",
    "from scipy import stats\n",
    "import re, os, nltk, math, csv, json\n",
    "import matplotlib.pyplot as plt\n",
    "from nltk.tokenize import RegexpTokenizer\n",
    "from nltk.corpus import stopwords\n",
    "from collections import Counter\n",
    "\n",
    "from IPython.core.display import display, HTML\n",
    "display(HTML(\"<style>.container { width:100% !important; }</style>\"))"
   ]
  },
  {
   "cell_type": "code",
   "execution_count": null,
   "metadata": {
    "colab": {
     "base_uri": "https://localhost:8080/"
    },
    "executionInfo": {
     "elapsed": 23296,
     "status": "ok",
     "timestamp": 1657630305260,
     "user": {
      "displayName": "Yelena Mejova",
      "userId": "11766611928577248962"
     },
     "user_tz": -120
    },
    "id": "UeEcmd8i-87o",
    "outputId": "e67cf00e-4091-4db4-f66a-05e8f150992f"
   },
   "outputs": [
    {
     "name": "stdout",
     "output_type": "stream",
     "text": [
      "Mounted at /content/drive\n"
     ]
    }
   ],
   "source": [
    "# Google Drive - This will prompt you to click a link to authorize\n",
    "# (don't execute if running on own machine)\n",
    "from google.colab import drive, auth, files\n",
    "from oauth2client.client import GoogleCredentials\n",
    "drive.mount('/content/drive')"
   ]
  },
  {
   "cell_type": "code",
   "execution_count": null,
   "metadata": {
    "colab": {
     "base_uri": "https://localhost:8080/"
    },
    "executionInfo": {
     "elapsed": 5,
     "status": "ok",
     "timestamp": 1657630307208,
     "user": {
      "displayName": "Yelena Mejova",
      "userId": "11766611928577248962"
     },
     "user_tz": -120
    },
    "id": "0EXu_wQx_GNR",
    "outputId": "6d880757-e9e2-48b4-8348-ee949ab9cc2b"
   },
   "outputs": [
    {
     "data": {
      "text/plain": [
       "['Data', 'Resources_geolocation', 'Resources_nutrition', 'Untitled0.ipynb']"
      ]
     },
     "execution_count": 4,
     "metadata": {},
     "output_type": "execute_result"
    }
   ],
   "source": [
    "# Google Drive - Navigate to directory\n",
    "# (don't execute if running on own machine)\n",
    "os.chdir('drive/MyDrive/SocialComQuant22/')\n",
    "os.listdir('.')"
   ]
  },
  {
   "cell_type": "markdown",
   "metadata": {
    "id": "d2QRtJy6_gP6"
   },
   "source": [
    "# NLP for health - case study of Obesity\n",
    "\n",
    "In public health research, sometimes we want to extract health-relevant signals, and relate them to some health outcome. In this example, we will learn to:\n",
    "1. Geo-locate tweets to GeoNames locations\n",
    "2. Apply a food dictionary to extract caloric information\n",
    "3. Correlate this caloric information to known obesity rates\n"
   ]
  },
  {
   "cell_type": "code",
   "execution_count": 2,
   "metadata": {
    "id": "K9YbwqZN_F8W"
   },
   "outputs": [],
   "source": [
    "# Read in the file containing tweet information\n",
    "tweets = pd.read_csv(\"Data/tweet_sample.tsv\", sep=\"\\t\", lineterminator='\\n',\n",
    "                  low_memory=False, quoting=csv.QUOTE_NONE, escapechar=None, header=None, \n",
    "                  names=[\"text\", \"id\", \"created_at\", \"lang\", \"retweeted_status_id\", \"retweeted_status_user_id\", \n",
    "                         \"user_id\", \"user_name\", \"followers_count\", \"friends_count\", \"statuses_count\", \n",
    "                         \"location\", \"user_created_at\", \"youtube_ids\"],\n",
    "                  dtype={'id': object, 'retweeted_status_user_id': object, 'retweeted_status_id': object, 'user_id': object})"
   ]
  },
  {
   "cell_type": "code",
   "execution_count": 3,
   "metadata": {
    "colab": {
     "base_uri": "https://localhost:8080/"
    },
    "executionInfo": {
     "elapsed": 378,
     "status": "ok",
     "timestamp": 1657630472092,
     "user": {
      "displayName": "Yelena Mejova",
      "userId": "11766611928577248962"
     },
     "user_tz": -120
    },
    "id": "-dD0FMM2Khyj",
    "outputId": "5ca47f92-2755-48f3-88e4-18575c3515d4"
   },
   "outputs": [
    {
     "data": {
      "text/plain": [
       "(10000, 14)"
      ]
     },
     "execution_count": 3,
     "metadata": {},
     "output_type": "execute_result"
    }
   ],
   "source": [
    "tweets.shape"
   ]
  },
  {
   "cell_type": "code",
   "execution_count": 4,
   "metadata": {
    "colab": {
     "base_uri": "https://localhost:8080/"
    },
    "executionInfo": {
     "elapsed": 385,
     "status": "ok",
     "timestamp": 1657630478131,
     "user": {
      "displayName": "Yelena Mejova",
      "userId": "11766611928577248962"
     },
     "user_tz": -120
    },
    "id": "Y4mB8A5-X0Or",
    "outputId": "1b566153-73c6-4b30-ea3e-1f9dd5b3ee93"
   },
   "outputs": [
    {
     "data": {
      "text/plain": [
       "(10000, 14)"
      ]
     },
     "execution_count": 4,
     "metadata": {},
     "output_type": "execute_result"
    }
   ],
   "source": [
    "tweets = tweets.drop_duplicates(\"id\")\n",
    "tweets.shape"
   ]
  },
  {
   "cell_type": "code",
   "execution_count": 5,
   "metadata": {
    "colab": {
     "base_uri": "https://localhost:8080/",
     "height": 565
    },
    "executionInfo": {
     "elapsed": 378,
     "status": "ok",
     "timestamp": 1657630485210,
     "user": {
      "displayName": "Yelena Mejova",
      "userId": "11766611928577248962"
     },
     "user_tz": -120
    },
    "id": "HDbKQqJlKliy",
    "outputId": "1fc1222c-91f3-49ae-9090-10af08231d76"
   },
   "outputs": [
    {
     "data": {
      "text/html": [
       "<div>\n",
       "<style scoped>\n",
       "    .dataframe tbody tr th:only-of-type {\n",
       "        vertical-align: middle;\n",
       "    }\n",
       "\n",
       "    .dataframe tbody tr th {\n",
       "        vertical-align: top;\n",
       "    }\n",
       "\n",
       "    .dataframe thead th {\n",
       "        text-align: right;\n",
       "    }\n",
       "</style>\n",
       "<table border=\"1\" class=\"dataframe\">\n",
       "  <thead>\n",
       "    <tr style=\"text-align: right;\">\n",
       "      <th></th>\n",
       "      <th>text</th>\n",
       "      <th>id</th>\n",
       "      <th>created_at</th>\n",
       "      <th>lang</th>\n",
       "      <th>retweeted_status_id</th>\n",
       "      <th>retweeted_status_user_id</th>\n",
       "      <th>user_id</th>\n",
       "      <th>user_name</th>\n",
       "      <th>followers_count</th>\n",
       "      <th>friends_count</th>\n",
       "      <th>statuses_count</th>\n",
       "      <th>location</th>\n",
       "      <th>user_created_at</th>\n",
       "      <th>youtube_ids</th>\n",
       "    </tr>\n",
       "  </thead>\n",
       "  <tbody>\n",
       "    <tr>\n",
       "      <th>6860</th>\n",
       "      <td>ICYMI: Try these fiber-full appetizer recipes ...</td>\n",
       "      <td>1205566682040848384</td>\n",
       "      <td>Fri Dec 13 19:14:30 +0000 2019</td>\n",
       "      <td>en</td>\n",
       "      <td>NaN</td>\n",
       "      <td>NaN</td>\n",
       "      <td>593845461</td>\n",
       "      <td>CtrCommHealth&amp;Prev</td>\n",
       "      <td>434.0</td>\n",
       "      <td>324.0</td>\n",
       "      <td>2135.0</td>\n",
       "      <td>46 Prince Street, Rochester NY</td>\n",
       "      <td>Tue May 29 14:43:53 +0000 2012</td>\n",
       "      <td>8HAPrrvFF48</td>\n",
       "    </tr>\n",
       "    <tr>\n",
       "      <th>4281</th>\n",
       "      <td>What’s Cooking Good Looking?! 👨‍🍳   https://t....</td>\n",
       "      <td>1235224358030897154</td>\n",
       "      <td>Wed Mar 04 15:23:30 +0000 2020</td>\n",
       "      <td>en</td>\n",
       "      <td>1.2352167754296607e+18</td>\n",
       "      <td>53430736.0</td>\n",
       "      <td>626381897</td>\n",
       "      <td>DJBRIT (DJSUSIESKY)</td>\n",
       "      <td>1883.0</td>\n",
       "      <td>2166.0</td>\n",
       "      <td>5919.0</td>\n",
       "      <td>None</td>\n",
       "      <td>Wed Jul 04 11:24:47 +0000 2012</td>\n",
       "      <td>dyhvMFFBNyg</td>\n",
       "    </tr>\n",
       "    <tr>\n",
       "      <th>9925</th>\n",
       "      <td>Did I just eat real chicken, 5yrs vegan!!! | T...</td>\n",
       "      <td>1204629433790939137</td>\n",
       "      <td>Wed Dec 11 05:10:12 +0000 2019</td>\n",
       "      <td>en</td>\n",
       "      <td>1.2046287659276247e+18</td>\n",
       "      <td>42851808.0</td>\n",
       "      <td>2256664812</td>\n",
       "      <td>MRX</td>\n",
       "      <td>3210.0</td>\n",
       "      <td>212.0</td>\n",
       "      <td>171290.0</td>\n",
       "      <td>New Jersey</td>\n",
       "      <td>Sat Dec 21 16:17:07 +0000 2013</td>\n",
       "      <td>_ngTKoHBHX8</td>\n",
       "    </tr>\n",
       "    <tr>\n",
       "      <th>7417</th>\n",
       "      <td>KETO WEEK 38! | SHOW UP💪 https://t.co/hau5sveG...</td>\n",
       "      <td>1176195281899200512</td>\n",
       "      <td>Mon Sep 23 18:03:02 +0000 2019</td>\n",
       "      <td>en</td>\n",
       "      <td>NaN</td>\n",
       "      <td>NaN</td>\n",
       "      <td>733441806591873024</td>\n",
       "      <td>Julie Hadley</td>\n",
       "      <td>3.0</td>\n",
       "      <td>18.0</td>\n",
       "      <td>34.0</td>\n",
       "      <td>None</td>\n",
       "      <td>Thu May 19 23:38:48 +0000 2016</td>\n",
       "      <td>eRQ7piyjtK4</td>\n",
       "    </tr>\n",
       "    <tr>\n",
       "      <th>1486</th>\n",
       "      <td>RT @CartoonCornerWB: Tune in as the Student Do...</td>\n",
       "      <td>1273760439491575808</td>\n",
       "      <td>Thu Jun 18 23:32:08 +0000 2020</td>\n",
       "      <td>en</td>\n",
       "      <td>1.2737513772573983e+18</td>\n",
       "      <td>145861154.0</td>\n",
       "      <td>724369792937779200</td>\n",
       "      <td>Healing Heat Therapy</td>\n",
       "      <td>3261.0</td>\n",
       "      <td>5004.0</td>\n",
       "      <td>48782.0</td>\n",
       "      <td>Colorado Springs, CO</td>\n",
       "      <td>Sun Apr 24 22:49:51 +0000 2016</td>\n",
       "      <td>UwWR51yFqks</td>\n",
       "    </tr>\n",
       "  </tbody>\n",
       "</table>\n",
       "</div>"
      ],
      "text/plain": [
       "                                                   text                   id  \\\n",
       "6860  ICYMI: Try these fiber-full appetizer recipes ...  1205566682040848384   \n",
       "4281  What’s Cooking Good Looking?! 👨‍🍳   https://t....  1235224358030897154   \n",
       "9925  Did I just eat real chicken, 5yrs vegan!!! | T...  1204629433790939137   \n",
       "7417  KETO WEEK 38! | SHOW UP💪 https://t.co/hau5sveG...  1176195281899200512   \n",
       "1486  RT @CartoonCornerWB: Tune in as the Student Do...  1273760439491575808   \n",
       "\n",
       "                          created_at lang     retweeted_status_id  \\\n",
       "6860  Fri Dec 13 19:14:30 +0000 2019   en                     NaN   \n",
       "4281  Wed Mar 04 15:23:30 +0000 2020   en  1.2352167754296607e+18   \n",
       "9925  Wed Dec 11 05:10:12 +0000 2019   en  1.2046287659276247e+18   \n",
       "7417  Mon Sep 23 18:03:02 +0000 2019   en                     NaN   \n",
       "1486  Thu Jun 18 23:32:08 +0000 2020   en  1.2737513772573983e+18   \n",
       "\n",
       "     retweeted_status_user_id             user_id             user_name  \\\n",
       "6860                      NaN           593845461    CtrCommHealth&Prev   \n",
       "4281               53430736.0           626381897   DJBRIT (DJSUSIESKY)   \n",
       "9925               42851808.0          2256664812                   MRX   \n",
       "7417                      NaN  733441806591873024          Julie Hadley   \n",
       "1486              145861154.0  724369792937779200  Healing Heat Therapy   \n",
       "\n",
       "      followers_count  friends_count  statuses_count  \\\n",
       "6860            434.0          324.0          2135.0   \n",
       "4281           1883.0         2166.0          5919.0   \n",
       "9925           3210.0          212.0        171290.0   \n",
       "7417              3.0           18.0            34.0   \n",
       "1486           3261.0         5004.0         48782.0   \n",
       "\n",
       "                            location                 user_created_at  \\\n",
       "6860  46 Prince Street, Rochester NY  Tue May 29 14:43:53 +0000 2012   \n",
       "4281                            None  Wed Jul 04 11:24:47 +0000 2012   \n",
       "9925                      New Jersey  Sat Dec 21 16:17:07 +0000 2013   \n",
       "7417                            None  Thu May 19 23:38:48 +0000 2016   \n",
       "1486            Colorado Springs, CO  Sun Apr 24 22:49:51 +0000 2016   \n",
       "\n",
       "      youtube_ids  \n",
       "6860  8HAPrrvFF48  \n",
       "4281  dyhvMFFBNyg  \n",
       "9925  _ngTKoHBHX8  \n",
       "7417  eRQ7piyjtK4  \n",
       "1486  UwWR51yFqks  "
      ]
     },
     "execution_count": 5,
     "metadata": {},
     "output_type": "execute_result"
    }
   ],
   "source": [
    "tweets.sample(5)"
   ]
  },
  {
   "cell_type": "markdown",
   "metadata": {
    "id": "2ItSSADWLnX9"
   },
   "source": [
    "## 1.1 Geo-location"
   ]
  },
  {
   "cell_type": "code",
   "execution_count": 6,
   "metadata": {
    "colab": {
     "base_uri": "https://localhost:8080/"
    },
    "executionInfo": {
     "elapsed": 438,
     "status": "ok",
     "timestamp": 1657630491327,
     "user": {
      "displayName": "Yelena Mejova",
      "userId": "11766611928577248962"
     },
     "user_tz": -120
    },
    "id": "pcvDPK70Kmye",
    "outputId": "24f867c3-15c6-4cfc-f98f-8d65f647b6ad"
   },
   "outputs": [
    {
     "data": {
      "text/plain": [
       "(6696, 14)"
      ]
     },
     "execution_count": 6,
     "metadata": {},
     "output_type": "execute_result"
    }
   ],
   "source": [
    "# Pick only tweets with non-empty location field\n",
    "tweets_withlocs = tweets[tweets.location!=\"None\"]\n",
    "tweets_withlocs.shape"
   ]
  },
  {
   "cell_type": "markdown",
   "metadata": {
    "id": "s285IxZFLxIh"
   },
   "source": [
    "### Define functions to look up GeoNames entities from text\n",
    "\n",
    "Read in information necessary for geolocation (may take a minute)"
   ]
  },
  {
   "cell_type": "code",
   "execution_count": 7,
   "metadata": {
    "id": "tdd_6VtmLIsv"
   },
   "outputs": [],
   "source": [
    "# Dictionary mapping (lower-case) strings of locations to ids of places\n",
    "locdictionary = json.load(open('Resources_geolocation/locdictionary.json'))\n",
    "# Data frame mapping ids of places to metadata about these places\n",
    "locationdata = pd.read_csv(\"Resources_geolocation/countriesdatap.tsv.gz\", sep='\\t', low_memory=False, index_col=\"geonameid\")"
   ]
  },
  {
   "cell_type": "code",
   "execution_count": 8,
   "metadata": {
    "colab": {
     "base_uri": "https://localhost:8080/"
    },
    "executionInfo": {
     "elapsed": 381,
     "status": "ok",
     "timestamp": 1657630534226,
     "user": {
      "displayName": "Yelena Mejova",
      "userId": "11766611928577248962"
     },
     "user_tz": -120
    },
    "id": "5aPgqjPSMpj-",
    "outputId": "f6871919-5303-405a-da89-3dbc2da809d2"
   },
   "outputs": [
    {
     "name": "stderr",
     "output_type": "stream",
     "text": [
      "[nltk_data] Downloading package stopwords to\n",
      "[nltk_data]     /Users/ymejova/nltk_data...\n",
      "[nltk_data]   Package stopwords is already up-to-date!\n"
     ]
    }
   ],
   "source": [
    "# Stopwords to remove spurious matches\n",
    "nltk.download('stopwords')\n",
    "engstopwords = stopwords.words('english')\n",
    "numbers = {'zero','one','two','three','four','five','six','seven','eight','nine','ten',\n",
    "           'eleven','twelve','thirteen','fourteen','fifteen','sixteen','seventeen','eighteen',\n",
    "           'nineteen','twenty','thirty','fourty','fifty','sixty','seventy','eighty','ninety',\n",
    "           'hundred','thousand','million','billion','zillion'}"
   ]
  },
  {
   "cell_type": "code",
   "execution_count": 9,
   "metadata": {
    "id": "qiBUcA9MMpho"
   },
   "outputs": [],
   "source": [
    "# Lookup functions ######################################################\n",
    "\n",
    "# Turn tokens into a sequence of n-grams\n",
    "def word_ngrams(tokens, ngrams):\n",
    "    min_n, max_n = 1, ngrams\n",
    "    if max_n != 1:\n",
    "        original_tokens = tokens\n",
    "        tokens = []\n",
    "        n_original_tokens = len(original_tokens)\n",
    "        for n in range(min_n, min(max_n + 1, n_original_tokens + 1)):\n",
    "            for i in range(n_original_tokens - n + 1):\n",
    "                tokens.append(\" \".join(original_tokens[i: i + n]))\n",
    "    return tokens\n",
    "\n",
    "# Finds all the longest string matches for a piece of text\n",
    "tokenizer = RegexpTokenizer(r'\\w+')\n",
    "def find_names(text):\n",
    "    tokens = word_ngrams(tokenizer.tokenize(text.lower()), 5)\n",
    "    m = set()\n",
    "    for token in tokens:\n",
    "        if token in locdictionary:\n",
    "            m.add(token)\n",
    "    # filter out matched places that are substrings of another matched place\n",
    "    k_list = list(m)\n",
    "    for i, k in enumerate(k_list):\n",
    "        for k2 in k_list[:i]:\n",
    "            if k in k2 and k in m:\n",
    "                m.remove(k)\n",
    "        for k2 in k_list[i+1:]:\n",
    "            if k in k2 and k in m:\n",
    "                m.remove(k)\n",
    "    return m\n",
    "\n",
    "# Finds the best match for the text\n",
    "# For speed reasons, returns only the geonamesid which can be used to index into locationdata\n",
    "def find_best_match(text):\n",
    "    # Try finding all the matches\n",
    "    mymatches = find_names(text)\n",
    "    bestmatch = None\n",
    "    matcharray = []\n",
    "    matchedids = []\n",
    "    foundcountry = None\n",
    "    countrymatches = None\n",
    "    # Put all the matches in one array\n",
    "    for foundloc in mymatches:\n",
    "        matchedids = matchedids + locdictionary[foundloc]\n",
    "    # If there is more than 1 match, and there is a match to a country, constrain all other matches to that country\n",
    "    if len(matchedids) > 1:\n",
    "        matchedlocations = locationdata.loc[matchedids]\n",
    "        if pd.DataFrame.any(matchedlocations.featurecode==\"PCLI\"):\n",
    "            foundcountry = matchedlocations[matchedlocations.featurecode==\"PCLI\"].iloc[0].countrycode\n",
    "            countrymatches = matchedlocations[matchedlocations.countrycode==foundcountry]\n",
    "    # For each word match, find the most populous one\n",
    "    for foundloc in mymatches:\n",
    "        # Handle special cases\n",
    "        if len(foundloc) < 2:\n",
    "            continue\n",
    "        if (foundloc in engstopwords) | (foundloc in numbers):\n",
    "            continue\n",
    "        if (foundloc==\"new york\") | (foundloc==\"ny\") | (foundloc==\"ny ny\") | (foundloc==\"new york ny\") | (foundloc==\"nyc\"):\n",
    "            matcharray.append(5128581) # city, not state\n",
    "        if (foundloc==\"he his\") | (foundloc==\"she her\") | (foundloc==\"he\") | (foundloc==\"his\") | \\\n",
    "        (foundloc==\"she\") | (foundloc==\"her\") | (foundloc==\"they\") | (foundloc==\"them\") | (foundloc==\"they them\"):\n",
    "            continue\n",
    "        if (foundloc==\"none\") | (foundloc==\"null\") | (foundloc==\"na\") | (foundloc==\"nan\"):\n",
    "            continue\n",
    "        if (foundloc==\"secret\") | (foundloc==\"zone\") | (foundloc==\"hell\") | (foundloc==\"landing\") | (foundloc==\"rainbow\") |\\\n",
    "        (foundloc==\"south\") | (foundloc==\"north\") | (foundloc==\"east\") | (foundloc==\"west\") | \\\n",
    "        (foundloc==\"southeast\") | (foundloc==\"northeast\") | (foundloc==\"southwest\") | (foundloc==\"northwest\") | \\\n",
    "        (foundloc==\"se\") | (foundloc==\"ne\") | (foundloc==\"sw\") | (foundloc==\"nw\"):\n",
    "            continue\n",
    "        else:\n",
    "            matchedlocations = locationdata.loc[locdictionary[foundloc],:]\n",
    "            if foundcountry: # Remove matches that are not in the country we found\n",
    "                matchedlocations = matchedlocations[matchedlocations.countrycode==foundcountry]\n",
    "            if matchedlocations.shape[0] > 0:\n",
    "                foundmatch = matchedlocations.sort_values(by=\"population\",ascending=False).index[0]\n",
    "                matcharray.append(foundmatch)\n",
    "    # Among all the matches, find the least populous one\n",
    "    if len(matcharray) > 0:\n",
    "        allmatches = locationdata.loc[matcharray]\n",
    "        bestmatch = allmatches.sort_values(by=\"population\",ascending=True).index[0]\n",
    "    return bestmatch"
   ]
  },
  {
   "cell_type": "markdown",
   "metadata": {
    "id": "zbhAxTndFCGx"
   },
   "source": [
    "### Apply GeoNames tagging to our data\n",
    "\n",
    "(may take a minutes)"
   ]
  },
  {
   "cell_type": "code",
   "execution_count": 10,
   "metadata": {
    "colab": {
     "base_uri": "https://localhost:8080/"
    },
    "executionInfo": {
     "elapsed": 18526,
     "status": "ok",
     "timestamp": 1657630563364,
     "user": {
      "displayName": "Yelena Mejova",
      "userId": "11766611928577248962"
     },
     "user_tz": -120
    },
    "id": "H6q3q8dRNHXn",
    "outputId": "8b89c700-929a-4abe-fc8f-ab06a7a8104e"
   },
   "outputs": [
    {
     "name": "stderr",
     "output_type": "stream",
     "text": [
      "/var/folders/12/9ngr75n132qbdvxgkxdfxpnh0000gn/T/ipykernel_54260/1024083383.py:2: SettingWithCopyWarning: \n",
      "A value is trying to be set on a copy of a slice from a DataFrame.\n",
      "Try using .loc[row_indexer,col_indexer] = value instead\n",
      "\n",
      "See the caveats in the documentation: https://pandas.pydata.org/pandas-docs/stable/user_guide/indexing.html#returning-a-view-versus-a-copy\n",
      "  tweets_withlocs[\"geonameid\"] = tweets_withlocs[\"location\"].apply(lambda x: find_best_match(x))\n"
     ]
    }
   ],
   "source": [
    "# Find the geonames IDs of best matches\n",
    "tweets_withlocs[\"geonameid\"] = tweets_withlocs[\"location\"].apply(lambda x: find_best_match(x))"
   ]
  },
  {
   "cell_type": "code",
   "execution_count": 11,
   "metadata": {
    "colab": {
     "base_uri": "https://localhost:8080/"
    },
    "executionInfo": {
     "elapsed": 360,
     "status": "ok",
     "timestamp": 1657630658446,
     "user": {
      "displayName": "Yelena Mejova",
      "userId": "11766611928577248962"
     },
     "user_tz": -120
    },
    "id": "CbyFGrrENRQ-",
    "outputId": "4f7bd705-a6ff-4fb7-f9a1-7d806a698dfd"
   },
   "outputs": [
    {
     "data": {
      "text/plain": [
       "(6159, 15)"
      ]
     },
     "execution_count": 11,
     "metadata": {},
     "output_type": "execute_result"
    }
   ],
   "source": [
    "# Number of records that have non-empty matches\n",
    "tweets_withlocs = tweets_withlocs[~tweets_withlocs[\"geonameid\"].isna()]\n",
    "tweets_withlocs.shape"
   ]
  },
  {
   "cell_type": "code",
   "execution_count": 12,
   "metadata": {
    "colab": {
     "base_uri": "https://localhost:8080/"
    },
    "executionInfo": {
     "elapsed": 886,
     "status": "ok",
     "timestamp": 1657630675598,
     "user": {
      "displayName": "Yelena Mejova",
      "userId": "11766611928577248962"
     },
     "user_tz": -120
    },
    "id": "jeA4meuiNcfh",
    "outputId": "e96dd22b-45bf-4cc6-8515-66b11cf19da6"
   },
   "outputs": [
    {
     "data": {
      "text/plain": [
       "(6159, 26)"
      ]
     },
     "execution_count": 12,
     "metadata": {},
     "output_type": "execute_result"
    }
   ],
   "source": [
    "# Join with the rest of information on the location\n",
    "interesting_columns = ['geonameid', 'name', 'asciiname', 'latitude', 'longitude',\n",
    "       'featureclass', 'featurecode', 'countrycode', 'cc2', 'admin1code', 'population', 'timezone']\n",
    "tweets_withlocs_info = tweets_withlocs.merge(locationdata.reset_index()[interesting_columns], on=\"geonameid\")\n",
    "tweets_withlocs_info.shape"
   ]
  },
  {
   "cell_type": "code",
   "execution_count": 13,
   "metadata": {
    "colab": {
     "base_uri": "https://localhost:8080/",
     "height": 734
    },
    "executionInfo": {
     "elapsed": 368,
     "status": "ok",
     "timestamp": 1657630678358,
     "user": {
      "displayName": "Yelena Mejova",
      "userId": "11766611928577248962"
     },
     "user_tz": -120
    },
    "id": "bVnxVXlPOGBV",
    "outputId": "8d41442c-ab33-4870-f990-5829179cc629"
   },
   "outputs": [
    {
     "data": {
      "text/html": [
       "<div>\n",
       "<style scoped>\n",
       "    .dataframe tbody tr th:only-of-type {\n",
       "        vertical-align: middle;\n",
       "    }\n",
       "\n",
       "    .dataframe tbody tr th {\n",
       "        vertical-align: top;\n",
       "    }\n",
       "\n",
       "    .dataframe thead th {\n",
       "        text-align: right;\n",
       "    }\n",
       "</style>\n",
       "<table border=\"1\" class=\"dataframe\">\n",
       "  <thead>\n",
       "    <tr style=\"text-align: right;\">\n",
       "      <th></th>\n",
       "      <th>text</th>\n",
       "      <th>id</th>\n",
       "      <th>created_at</th>\n",
       "      <th>lang</th>\n",
       "      <th>retweeted_status_id</th>\n",
       "      <th>retweeted_status_user_id</th>\n",
       "      <th>user_id</th>\n",
       "      <th>user_name</th>\n",
       "      <th>followers_count</th>\n",
       "      <th>friends_count</th>\n",
       "      <th>...</th>\n",
       "      <th>asciiname</th>\n",
       "      <th>latitude</th>\n",
       "      <th>longitude</th>\n",
       "      <th>featureclass</th>\n",
       "      <th>featurecode</th>\n",
       "      <th>countrycode</th>\n",
       "      <th>cc2</th>\n",
       "      <th>admin1code</th>\n",
       "      <th>population</th>\n",
       "      <th>timezone</th>\n",
       "    </tr>\n",
       "  </thead>\n",
       "  <tbody>\n",
       "    <tr>\n",
       "      <th>1044</th>\n",
       "      <td>20 Min Chair Exercises Sitting Down Workout - ...</td>\n",
       "      <td>1164486246212734977</td>\n",
       "      <td>Thu Aug 22 10:35:30 +0000 2019</td>\n",
       "      <td>en</td>\n",
       "      <td>NaN</td>\n",
       "      <td>NaN</td>\n",
       "      <td>922961141650939909</td>\n",
       "      <td>HAZELS-ART</td>\n",
       "      <td>380.0</td>\n",
       "      <td>2025.0</td>\n",
       "      <td>...</td>\n",
       "      <td>England</td>\n",
       "      <td>52.16045</td>\n",
       "      <td>-0.70312</td>\n",
       "      <td>A</td>\n",
       "      <td>ADM1</td>\n",
       "      <td>GB</td>\n",
       "      <td>NaN</td>\n",
       "      <td>ENG</td>\n",
       "      <td>55268067</td>\n",
       "      <td>Europe/London</td>\n",
       "    </tr>\n",
       "    <tr>\n",
       "      <th>4980</th>\n",
       "      <td>Things are looking up with my weightloss, so I...</td>\n",
       "      <td>1267599761898536960</td>\n",
       "      <td>Mon Jun 01 23:31:48 +0000 2020</td>\n",
       "      <td>en</td>\n",
       "      <td>NaN</td>\n",
       "      <td>NaN</td>\n",
       "      <td>1137223008433500160</td>\n",
       "      <td>Jessie Rae 🚵‍♀️</td>\n",
       "      <td>7.0</td>\n",
       "      <td>26.0</td>\n",
       "      <td>...</td>\n",
       "      <td>Nevada</td>\n",
       "      <td>39.25021</td>\n",
       "      <td>-116.75119</td>\n",
       "      <td>A</td>\n",
       "      <td>ADM1</td>\n",
       "      <td>US</td>\n",
       "      <td>NaN</td>\n",
       "      <td>NV</td>\n",
       "      <td>2399532</td>\n",
       "      <td>America/Los_Angeles</td>\n",
       "    </tr>\n",
       "    <tr>\n",
       "      <th>1290</th>\n",
       "      <td>#ASPARTAME in #DIET SODA KILLS (AND it makes y...</td>\n",
       "      <td>1268600219790446598</td>\n",
       "      <td>Thu Jun 04 17:47:16 +0000 2020</td>\n",
       "      <td>en</td>\n",
       "      <td>NaN</td>\n",
       "      <td>NaN</td>\n",
       "      <td>22080308</td>\n",
       "      <td>Mary Nash Stoddard</td>\n",
       "      <td>1141.0</td>\n",
       "      <td>1200.0</td>\n",
       "      <td>...</td>\n",
       "      <td>Dallas County</td>\n",
       "      <td>32.76663</td>\n",
       "      <td>-96.77787</td>\n",
       "      <td>A</td>\n",
       "      <td>ADM2</td>\n",
       "      <td>US</td>\n",
       "      <td>NaN</td>\n",
       "      <td>TX</td>\n",
       "      <td>2368139</td>\n",
       "      <td>America/Chicago</td>\n",
       "    </tr>\n",
       "    <tr>\n",
       "      <th>535</th>\n",
       "      <td>Dr. Greger, https://t.co/sHOPIC6usX - Keto Die...</td>\n",
       "      <td>1216691666586873857</td>\n",
       "      <td>Mon Jan 13 12:01:13 +0000 2020</td>\n",
       "      <td>en</td>\n",
       "      <td>NaN</td>\n",
       "      <td>NaN</td>\n",
       "      <td>560326393</td>\n",
       "      <td>Inspiration</td>\n",
       "      <td>6.0</td>\n",
       "      <td>10.0</td>\n",
       "      <td>...</td>\n",
       "      <td>United States</td>\n",
       "      <td>39.76000</td>\n",
       "      <td>-98.50000</td>\n",
       "      <td>A</td>\n",
       "      <td>PCLI</td>\n",
       "      <td>US</td>\n",
       "      <td>NaN</td>\n",
       "      <td>00</td>\n",
       "      <td>327167434</td>\n",
       "      <td>NaN</td>\n",
       "    </tr>\n",
       "    <tr>\n",
       "      <th>4364</th>\n",
       "      <td>When Rappers Go #Vegan 🔥🔥🔥https://t.co/gtXU3HRR1q</td>\n",
       "      <td>1177063730049429504</td>\n",
       "      <td>Thu Sep 26 03:33:56 +0000 2019</td>\n",
       "      <td>en</td>\n",
       "      <td>NaN</td>\n",
       "      <td>NaN</td>\n",
       "      <td>2164861759</td>\n",
       "      <td>Donaldknottz Ⓥ</td>\n",
       "      <td>1185.0</td>\n",
       "      <td>1941.0</td>\n",
       "      <td>...</td>\n",
       "      <td>Massachusetts</td>\n",
       "      <td>42.36565</td>\n",
       "      <td>-71.10832</td>\n",
       "      <td>A</td>\n",
       "      <td>ADM1</td>\n",
       "      <td>US</td>\n",
       "      <td>NaN</td>\n",
       "      <td>MA</td>\n",
       "      <td>6433422</td>\n",
       "      <td>America/New_York</td>\n",
       "    </tr>\n",
       "  </tbody>\n",
       "</table>\n",
       "<p>5 rows × 26 columns</p>\n",
       "</div>"
      ],
      "text/plain": [
       "                                                   text                   id  \\\n",
       "1044  20 Min Chair Exercises Sitting Down Workout - ...  1164486246212734977   \n",
       "4980  Things are looking up with my weightloss, so I...  1267599761898536960   \n",
       "1290  #ASPARTAME in #DIET SODA KILLS (AND it makes y...  1268600219790446598   \n",
       "535   Dr. Greger, https://t.co/sHOPIC6usX - Keto Die...  1216691666586873857   \n",
       "4364  When Rappers Go #Vegan 🔥🔥🔥https://t.co/gtXU3HRR1q  1177063730049429504   \n",
       "\n",
       "                          created_at lang retweeted_status_id  \\\n",
       "1044  Thu Aug 22 10:35:30 +0000 2019   en                 NaN   \n",
       "4980  Mon Jun 01 23:31:48 +0000 2020   en                 NaN   \n",
       "1290  Thu Jun 04 17:47:16 +0000 2020   en                 NaN   \n",
       "535   Mon Jan 13 12:01:13 +0000 2020   en                 NaN   \n",
       "4364  Thu Sep 26 03:33:56 +0000 2019   en                 NaN   \n",
       "\n",
       "     retweeted_status_user_id              user_id           user_name  \\\n",
       "1044                      NaN   922961141650939909          HAZELS-ART   \n",
       "4980                      NaN  1137223008433500160     Jessie Rae 🚵‍♀️   \n",
       "1290                      NaN             22080308  Mary Nash Stoddard   \n",
       "535                       NaN            560326393         Inspiration   \n",
       "4364                      NaN           2164861759      Donaldknottz Ⓥ   \n",
       "\n",
       "      followers_count  friends_count  ...      asciiname  latitude  longitude  \\\n",
       "1044            380.0         2025.0  ...        England  52.16045   -0.70312   \n",
       "4980              7.0           26.0  ...         Nevada  39.25021 -116.75119   \n",
       "1290           1141.0         1200.0  ...  Dallas County  32.76663  -96.77787   \n",
       "535               6.0           10.0  ...  United States  39.76000  -98.50000   \n",
       "4364           1185.0         1941.0  ...  Massachusetts  42.36565  -71.10832   \n",
       "\n",
       "     featureclass  featurecode countrycode  cc2  admin1code  population  \\\n",
       "1044            A         ADM1          GB  NaN         ENG    55268067   \n",
       "4980            A         ADM1          US  NaN          NV     2399532   \n",
       "1290            A         ADM2          US  NaN          TX     2368139   \n",
       "535             A         PCLI          US  NaN          00   327167434   \n",
       "4364            A         ADM1          US  NaN          MA     6433422   \n",
       "\n",
       "                 timezone  \n",
       "1044        Europe/London  \n",
       "4980  America/Los_Angeles  \n",
       "1290      America/Chicago  \n",
       "535                   NaN  \n",
       "4364     America/New_York  \n",
       "\n",
       "[5 rows x 26 columns]"
      ]
     },
     "execution_count": 13,
     "metadata": {},
     "output_type": "execute_result"
    }
   ],
   "source": [
    "tweets_withlocs_info.sample(5)"
   ]
  },
  {
   "cell_type": "code",
   "execution_count": 14,
   "metadata": {
    "colab": {
     "base_uri": "https://localhost:8080/",
     "height": 442
    },
    "executionInfo": {
     "elapsed": 8,
     "status": "ok",
     "timestamp": 1657630913423,
     "user": {
      "displayName": "Yelena Mejova",
      "userId": "11766611928577248962"
     },
     "user_tz": -120
    },
    "id": "Sn63UlvRfuYJ",
    "outputId": "cd0029f2-a69d-4fb1-a475-937dca287c3f"
   },
   "outputs": [
    {
     "data": {
      "text/html": [
       "<div>\n",
       "<style scoped>\n",
       "    .dataframe tbody tr th:only-of-type {\n",
       "        vertical-align: middle;\n",
       "    }\n",
       "\n",
       "    .dataframe tbody tr th {\n",
       "        vertical-align: top;\n",
       "    }\n",
       "\n",
       "    .dataframe thead th {\n",
       "        text-align: right;\n",
       "    }\n",
       "</style>\n",
       "<table border=\"1\" class=\"dataframe\">\n",
       "  <thead>\n",
       "    <tr style=\"text-align: right;\">\n",
       "      <th></th>\n",
       "      <th>location</th>\n",
       "      <th>name</th>\n",
       "      <th>asciiname</th>\n",
       "      <th>admin1code</th>\n",
       "      <th>countrycode</th>\n",
       "      <th>latitude</th>\n",
       "      <th>longitude</th>\n",
       "    </tr>\n",
       "  </thead>\n",
       "  <tbody>\n",
       "    <tr>\n",
       "      <th>4204</th>\n",
       "      <td>Indianapolis, IN US</td>\n",
       "      <td>Indianapolis</td>\n",
       "      <td>Indianapolis</td>\n",
       "      <td>IN</td>\n",
       "      <td>US</td>\n",
       "      <td>39.76838</td>\n",
       "      <td>-86.15804</td>\n",
       "    </tr>\n",
       "    <tr>\n",
       "      <th>5533</th>\n",
       "      <td>NJ • VA • CHI</td>\n",
       "      <td>Chittoor</td>\n",
       "      <td>Chittoor</td>\n",
       "      <td>2.0</td>\n",
       "      <td>IN</td>\n",
       "      <td>13.41667</td>\n",
       "      <td>79.00000</td>\n",
       "    </tr>\n",
       "    <tr>\n",
       "      <th>2507</th>\n",
       "      <td>Washington, USA</td>\n",
       "      <td>Washington</td>\n",
       "      <td>Washington</td>\n",
       "      <td>WA</td>\n",
       "      <td>US</td>\n",
       "      <td>47.50012</td>\n",
       "      <td>-120.50147</td>\n",
       "    </tr>\n",
       "    <tr>\n",
       "      <th>4573</th>\n",
       "      <td>Belluno, Veneto</td>\n",
       "      <td>Provincia di Belluno</td>\n",
       "      <td>Provincia di Belluno</td>\n",
       "      <td>20.0</td>\n",
       "      <td>IT</td>\n",
       "      <td>46.25000</td>\n",
       "      <td>12.13333</td>\n",
       "    </tr>\n",
       "    <tr>\n",
       "      <th>2521</th>\n",
       "      <td>St Louis, Missouri</td>\n",
       "      <td>St. Louis</td>\n",
       "      <td>St. Louis</td>\n",
       "      <td>MO</td>\n",
       "      <td>US</td>\n",
       "      <td>38.63162</td>\n",
       "      <td>-90.24925</td>\n",
       "    </tr>\n",
       "    <tr>\n",
       "      <th>4866</th>\n",
       "      <td>Canton, Ohio USA</td>\n",
       "      <td>Canton</td>\n",
       "      <td>Canton</td>\n",
       "      <td>OH</td>\n",
       "      <td>US</td>\n",
       "      <td>40.79895</td>\n",
       "      <td>-81.37845</td>\n",
       "    </tr>\n",
       "    <tr>\n",
       "      <th>5466</th>\n",
       "      <td>Dix Hills, NY</td>\n",
       "      <td>Dix Hills</td>\n",
       "      <td>Dix Hills</td>\n",
       "      <td>NY</td>\n",
       "      <td>US</td>\n",
       "      <td>40.80482</td>\n",
       "      <td>-73.33623</td>\n",
       "    </tr>\n",
       "    <tr>\n",
       "      <th>5340</th>\n",
       "      <td>Dublin City, Ireland</td>\n",
       "      <td>Dublin</td>\n",
       "      <td>Dublin</td>\n",
       "      <td>L</td>\n",
       "      <td>IE</td>\n",
       "      <td>53.33306</td>\n",
       "      <td>-6.24889</td>\n",
       "    </tr>\n",
       "    <tr>\n",
       "      <th>3055</th>\n",
       "      <td>Ljubljana, Slovenia</td>\n",
       "      <td>Mestna Občina Ljubljana</td>\n",
       "      <td>Mestna Obcina Ljubljana</td>\n",
       "      <td>61</td>\n",
       "      <td>SI</td>\n",
       "      <td>46.05918</td>\n",
       "      <td>14.50916</td>\n",
       "    </tr>\n",
       "    <tr>\n",
       "      <th>5032</th>\n",
       "      <td>Croydon, England</td>\n",
       "      <td>Croydon</td>\n",
       "      <td>Croydon</td>\n",
       "      <td>ENG</td>\n",
       "      <td>GB</td>\n",
       "      <td>51.37664</td>\n",
       "      <td>-0.10574</td>\n",
       "    </tr>\n",
       "  </tbody>\n",
       "</table>\n",
       "</div>"
      ],
      "text/plain": [
       "                  location                     name                asciiname  \\\n",
       "4204   Indianapolis, IN US             Indianapolis             Indianapolis   \n",
       "5533         NJ • VA • CHI                 Chittoor                 Chittoor   \n",
       "2507       Washington, USA               Washington               Washington   \n",
       "4573       Belluno, Veneto     Provincia di Belluno     Provincia di Belluno   \n",
       "2521    St Louis, Missouri                St. Louis                St. Louis   \n",
       "4866      Canton, Ohio USA                   Canton                   Canton   \n",
       "5466         Dix Hills, NY                Dix Hills                Dix Hills   \n",
       "5340  Dublin City, Ireland                   Dublin                   Dublin   \n",
       "3055   Ljubljana, Slovenia  Mestna Občina Ljubljana  Mestna Obcina Ljubljana   \n",
       "5032      Croydon, England                  Croydon                  Croydon   \n",
       "\n",
       "     admin1code countrycode  latitude  longitude  \n",
       "4204         IN          US  39.76838  -86.15804  \n",
       "5533        2.0          IN  13.41667   79.00000  \n",
       "2507         WA          US  47.50012 -120.50147  \n",
       "4573       20.0          IT  46.25000   12.13333  \n",
       "2521         MO          US  38.63162  -90.24925  \n",
       "4866         OH          US  40.79895  -81.37845  \n",
       "5466         NY          US  40.80482  -73.33623  \n",
       "5340          L          IE  53.33306   -6.24889  \n",
       "3055         61          SI  46.05918   14.50916  \n",
       "5032        ENG          GB  51.37664   -0.10574  "
      ]
     },
     "execution_count": 14,
     "metadata": {},
     "output_type": "execute_result"
    }
   ],
   "source": [
    "# How good are the matches? Let's examine a sample\n",
    "tweets_withlocs_info[['location', 'name', 'asciiname', 'admin1code', 'countrycode', 'latitude', 'longitude']].sample(10)"
   ]
  },
  {
   "cell_type": "code",
   "execution_count": 15,
   "metadata": {
    "colab": {
     "base_uri": "https://localhost:8080/"
    },
    "executionInfo": {
     "elapsed": 380,
     "status": "ok",
     "timestamp": 1657630696730,
     "user": {
      "displayName": "Yelena Mejova",
      "userId": "11766611928577248962"
     },
     "user_tz": -120
    },
    "id": "C0ami7BFOIKL",
    "outputId": "bef60b20-d449-4bf4-879e-23be06b8c867"
   },
   "outputs": [
    {
     "data": {
      "text/plain": [
       "(3256, 26)"
      ]
     },
     "execution_count": 15,
     "metadata": {},
     "output_type": "execute_result"
    }
   ],
   "source": [
    "# Select only the tweets within US \n",
    "tweets_withlocs_info_US = tweets_withlocs_info[tweets_withlocs_info.countrycode==\"US\"]\n",
    "tweets_withlocs_info_US.shape"
   ]
  },
  {
   "cell_type": "code",
   "execution_count": 16,
   "metadata": {
    "colab": {
     "base_uri": "https://localhost:8080/"
    },
    "executionInfo": {
     "elapsed": 412,
     "status": "ok",
     "timestamp": 1657630699710,
     "user": {
      "displayName": "Yelena Mejova",
      "userId": "11766611928577248962"
     },
     "user_tz": -120
    },
    "id": "ERbYAG-lOU6_",
    "outputId": "973a6fd7-9744-4269-e768-327e7a9e663c"
   },
   "outputs": [
    {
     "data": {
      "text/plain": [
       "00    457\n",
       "CA    385\n",
       "TX    277\n",
       "NY    230\n",
       "WA    180\n",
       "FL    169\n",
       "IL    163\n",
       "PA     84\n",
       "MD     80\n",
       "NJ     78\n",
       "NC     77\n",
       "MI     77\n",
       "OH     74\n",
       "GA     71\n",
       "MO     66\n",
       "CO     52\n",
       "OR     51\n",
       "AZ     51\n",
       "NE     46\n",
       "MA     45\n",
       "AK     45\n",
       "VA     39\n",
       "TN     33\n",
       "NV     29\n",
       "KS     29\n",
       "IN     27\n",
       "MN     26\n",
       "SC     24\n",
       "LA     21\n",
       "WI     20\n",
       "CT     19\n",
       "AR     19\n",
       "MS     19\n",
       "AL     18\n",
       "NM     18\n",
       "DC     14\n",
       "KY     13\n",
       "ID     13\n",
       "UT     12\n",
       "OK     12\n",
       "MT     11\n",
       "IA     10\n",
       "ND     10\n",
       "SD      9\n",
       "HI      9\n",
       "VT      6\n",
       "ME      5\n",
       "DE      4\n",
       "WY      4\n",
       "NH      3\n",
       "RI      3\n",
       "WV      2\n",
       "Name: admin1code, dtype: int64"
      ]
     },
     "execution_count": 16,
     "metadata": {},
     "output_type": "execute_result"
    }
   ],
   "source": [
    "# How much data do we have for each state?\n",
    "tweets_withlocs_info_US.admin1code.value_counts()"
   ]
  },
  {
   "cell_type": "code",
   "execution_count": 17,
   "metadata": {
    "colab": {
     "base_uri": "https://localhost:8080/"
    },
    "executionInfo": {
     "elapsed": 348,
     "status": "ok",
     "timestamp": 1657630775655,
     "user": {
      "displayName": "Yelena Mejova",
      "userId": "11766611928577248962"
     },
     "user_tz": -120
    },
    "id": "qIFKpMp8fXjU",
    "outputId": "c959cfe2-ed18-4a73-f16e-a73de16f5d23"
   },
   "outputs": [
    {
     "data": {
      "text/plain": [
       "United States    457\n",
       "New York City    158\n",
       "Chicago          118\n",
       "Seattle          118\n",
       "California        74\n",
       "                ... \n",
       "Marcus Hook        1\n",
       "Huntington         1\n",
       "Shallotte          1\n",
       "Redmond            1\n",
       "Strongsville       1\n",
       "Name: asciiname, Length: 626, dtype: int64"
      ]
     },
     "execution_count": 17,
     "metadata": {},
     "output_type": "execute_result"
    }
   ],
   "source": [
    "# What are the most popular locations?\n",
    "tweets_withlocs_info_US.asciiname.value_counts()"
   ]
  },
  {
   "cell_type": "code",
   "execution_count": 18,
   "metadata": {
    "colab": {
     "base_uri": "https://localhost:8080/"
    },
    "executionInfo": {
     "elapsed": 953,
     "status": "ok",
     "timestamp": 1657642093584,
     "user": {
      "displayName": "Yelena Mejova",
      "userId": "11766611928577248962"
     },
     "user_tz": -120
    },
    "id": "DV1vI56ZKqPg",
    "outputId": "95264d1f-1cc1-4954-e5aa-7327360c61c1"
   },
   "outputs": [
    {
     "name": "stdout",
     "output_type": "stream",
     "text": [
      "{'boundingbox': ['41.5985476', '41.696634', '-91.6157854', '-91.4630645'],\n",
      " 'class': 'boundary',\n",
      " 'display_name': 'Iowa City, Johnson County, Iowa, United States',\n",
      " 'icon': 'https://nominatim.openstreetmap.org/ui/mapicons/poi_boundary_administrative.p.20.png',\n",
      " 'importance': 0.8643105953463947,\n",
      " 'lat': '41.6612561',\n",
      " 'licence': 'Data © OpenStreetMap contributors, ODbL 1.0. '\n",
      "            'https://osm.org/copyright',\n",
      " 'lon': '-91.5299106',\n",
      " 'osm_id': 128462,\n",
      " 'osm_type': 'relation',\n",
      " 'place_id': 297910113,\n",
      " 'type': 'administrative'}\n"
     ]
    }
   ],
   "source": [
    "# Another way to geolocate, using a service\n",
    "from geopy.geocoders import Nominatim\n",
    "from pprint import pprint\n",
    "app = Nominatim(user_agent=\"tutorial\")\n",
    "location = app.geocode(\"Iowa City, Iowa\").raw\n",
    "pprint(location)"
   ]
  },
  {
   "cell_type": "markdown",
   "metadata": {
    "id": "67S7rAG5OxzT"
   },
   "source": [
    "## 1.2 Linking text to nutritional information\n",
    "\n",
    "Read in the nutrition / food list"
   ]
  },
  {
   "cell_type": "code",
   "execution_count": 19,
   "metadata": {
    "colab": {
     "base_uri": "https://localhost:8080/"
    },
    "executionInfo": {
     "elapsed": 2749,
     "status": "ok",
     "timestamp": 1657631380343,
     "user": {
      "displayName": "Yelena Mejova",
      "userId": "11766611928577248962"
     },
     "user_tz": -120
    },
    "id": "GoOSJEZNhfFv",
    "outputId": "27b904e3-4d04-4788-da0c-644358012937"
   },
   "outputs": [
    {
     "data": {
      "text/plain": [
       "(909604, 2)"
      ]
     },
     "execution_count": 19,
     "metadata": {},
     "output_type": "execute_result"
    }
   ],
   "source": [
    "# Read in a large dataset of food-related tweets with their geo-location at state level\n",
    "food_tweets = pd.read_csv(\"Resources_nutrition/food_tweets.txt\", sep=\"\\t\")\n",
    "food_tweets.columns = [\"text\",\"state\"]\n",
    "food_tweets.shape"
   ]
  },
  {
   "cell_type": "code",
   "execution_count": 20,
   "metadata": {
    "colab": {
     "base_uri": "https://localhost:8080/",
     "height": 206
    },
    "executionInfo": {
     "elapsed": 384,
     "status": "ok",
     "timestamp": 1657631397338,
     "user": {
      "displayName": "Yelena Mejova",
      "userId": "11766611928577248962"
     },
     "user_tz": -120
    },
    "id": "DLSk3R5yh6AM",
    "outputId": "afb6cfce-a85d-4fd4-93f9-fdd7748c2138"
   },
   "outputs": [
    {
     "data": {
      "text/html": [
       "<div>\n",
       "<style scoped>\n",
       "    .dataframe tbody tr th:only-of-type {\n",
       "        vertical-align: middle;\n",
       "    }\n",
       "\n",
       "    .dataframe tbody tr th {\n",
       "        vertical-align: top;\n",
       "    }\n",
       "\n",
       "    .dataframe thead th {\n",
       "        text-align: right;\n",
       "    }\n",
       "</style>\n",
       "<table border=\"1\" class=\"dataframe\">\n",
       "  <thead>\n",
       "    <tr style=\"text-align: right;\">\n",
       "      <th></th>\n",
       "      <th>text</th>\n",
       "      <th>state</th>\n",
       "    </tr>\n",
       "  </thead>\n",
       "  <tbody>\n",
       "    <tr>\n",
       "      <th>518203</th>\n",
       "      <td>@Bradley_2012_ naw we gotta put meat on the ta...</td>\n",
       "      <td>AL</td>\n",
       "    </tr>\n",
       "    <tr>\n",
       "      <th>530714</th>\n",
       "      <td>So many good things to eat in here (@ Iavarone...</td>\n",
       "      <td>NY</td>\n",
       "    </tr>\n",
       "    <tr>\n",
       "      <th>155331</th>\n",
       "      <td>I've now been to Starbucks three times in less...</td>\n",
       "      <td>IL</td>\n",
       "    </tr>\n",
       "    <tr>\n",
       "      <th>595085</th>\n",
       "      <td>So glad the Devereux's like food as much as I ...</td>\n",
       "      <td>NY</td>\n",
       "    </tr>\n",
       "    <tr>\n",
       "      <th>434111</th>\n",
       "      <td>I could have gone to community college and exp...</td>\n",
       "      <td>VA</td>\n",
       "    </tr>\n",
       "  </tbody>\n",
       "</table>\n",
       "</div>"
      ],
      "text/plain": [
       "                                                     text state\n",
       "518203  @Bradley_2012_ naw we gotta put meat on the ta...    AL\n",
       "530714  So many good things to eat in here (@ Iavarone...    NY\n",
       "155331  I've now been to Starbucks three times in less...    IL\n",
       "595085  So glad the Devereux's like food as much as I ...    NY\n",
       "434111  I could have gone to community college and exp...    VA"
      ]
     },
     "execution_count": 20,
     "metadata": {},
     "output_type": "execute_result"
    }
   ],
   "source": [
    "food_tweets.sample(5)"
   ]
  },
  {
   "cell_type": "code",
   "execution_count": 21,
   "metadata": {
    "colab": {
     "base_uri": "https://localhost:8080/"
    },
    "executionInfo": {
     "elapsed": 823,
     "status": "ok",
     "timestamp": 1657631488476,
     "user": {
      "displayName": "Yelena Mejova",
      "userId": "11766611928577248962"
     },
     "user_tz": -120
    },
    "id": "86qfcSxhOdcJ",
    "outputId": "ab91ac32-9eed-4921-a6d6-609d606cb61c"
   },
   "outputs": [
    {
     "data": {
      "text/plain": [
       "(474, 2)"
      ]
     },
     "execution_count": 21,
     "metadata": {},
     "output_type": "execute_result"
    }
   ],
   "source": [
    "# Read in a list of popular foods with caloric info per 100 grams\n",
    "caloriedata = pd.read_csv(\"Resources_nutrition/top_500_foods_calories.txt\", sep=\"\\t\")\n",
    "caloriedata.columns = [\"food\", \"energy\"]\n",
    "caloriedata = caloriedata.drop_duplicates(\"food\")\n",
    "caloriedata.shape"
   ]
  },
  {
   "cell_type": "code",
   "execution_count": 22,
   "metadata": {
    "colab": {
     "base_uri": "https://localhost:8080/",
     "height": 363
    },
    "executionInfo": {
     "elapsed": 488,
     "status": "ok",
     "timestamp": 1657631503330,
     "user": {
      "displayName": "Yelena Mejova",
      "userId": "11766611928577248962"
     },
     "user_tz": -120
    },
    "id": "TeUGXHmVRiOU",
    "outputId": "a20d5653-3478-43eb-909c-d49c461ec8bf"
   },
   "outputs": [
    {
     "data": {
      "text/html": [
       "<div>\n",
       "<style scoped>\n",
       "    .dataframe tbody tr th:only-of-type {\n",
       "        vertical-align: middle;\n",
       "    }\n",
       "\n",
       "    .dataframe tbody tr th {\n",
       "        vertical-align: top;\n",
       "    }\n",
       "\n",
       "    .dataframe thead th {\n",
       "        text-align: right;\n",
       "    }\n",
       "</style>\n",
       "<table border=\"1\" class=\"dataframe\">\n",
       "  <thead>\n",
       "    <tr style=\"text-align: right;\">\n",
       "      <th></th>\n",
       "      <th>food</th>\n",
       "      <th>energy</th>\n",
       "    </tr>\n",
       "  </thead>\n",
       "  <tbody>\n",
       "    <tr>\n",
       "      <th>253</th>\n",
       "      <td>bologna</td>\n",
       "      <td>247.000000</td>\n",
       "    </tr>\n",
       "    <tr>\n",
       "      <th>271</th>\n",
       "      <td>quail</td>\n",
       "      <td>107.100000</td>\n",
       "    </tr>\n",
       "    <tr>\n",
       "      <th>263</th>\n",
       "      <td>chicken liver</td>\n",
       "      <td>196.880000</td>\n",
       "    </tr>\n",
       "    <tr>\n",
       "      <th>391</th>\n",
       "      <td>gourd</td>\n",
       "      <td>91.235294</td>\n",
       "    </tr>\n",
       "    <tr>\n",
       "      <th>97</th>\n",
       "      <td>salsa</td>\n",
       "      <td>31.920000</td>\n",
       "    </tr>\n",
       "    <tr>\n",
       "      <th>425</th>\n",
       "      <td>apricots</td>\n",
       "      <td>48.000000</td>\n",
       "    </tr>\n",
       "    <tr>\n",
       "      <th>393</th>\n",
       "      <td>durian</td>\n",
       "      <td>239.250000</td>\n",
       "    </tr>\n",
       "    <tr>\n",
       "      <th>438</th>\n",
       "      <td>chestnuts</td>\n",
       "      <td>82.400000</td>\n",
       "    </tr>\n",
       "    <tr>\n",
       "      <th>127</th>\n",
       "      <td>grapes</td>\n",
       "      <td>67.000000</td>\n",
       "    </tr>\n",
       "    <tr>\n",
       "      <th>205</th>\n",
       "      <td>cabbages</td>\n",
       "      <td>20.920000</td>\n",
       "    </tr>\n",
       "  </tbody>\n",
       "</table>\n",
       "</div>"
      ],
      "text/plain": [
       "              food      energy\n",
       "253        bologna  247.000000\n",
       "271          quail  107.100000\n",
       "263  chicken liver  196.880000\n",
       "391          gourd   91.235294\n",
       "97           salsa   31.920000\n",
       "425       apricots   48.000000\n",
       "393         durian  239.250000\n",
       "438      chestnuts   82.400000\n",
       "127         grapes   67.000000\n",
       "205       cabbages   20.920000"
      ]
     },
     "execution_count": 22,
     "metadata": {},
     "output_type": "execute_result"
    }
   ],
   "source": [
    "caloriedata.sample(10)"
   ]
  },
  {
   "cell_type": "markdown",
   "metadata": {
    "id": "KQPpYupbFSfB"
   },
   "source": [
    "### Define functions to find longest foods in text"
   ]
  },
  {
   "cell_type": "code",
   "execution_count": 23,
   "metadata": {
    "colab": {
     "base_uri": "https://localhost:8080/"
    },
    "executionInfo": {
     "elapsed": 1,
     "status": "ok",
     "timestamp": 1657633066842,
     "user": {
      "displayName": "Yelena Mejova",
      "userId": "11766611928577248962"
     },
     "user_tz": -120
    },
    "id": "K1i901ZJ5SVb",
    "outputId": "a32b1d04-118b-4a41-f94a-9a0a355daa24"
   },
   "outputs": [
    {
     "data": {
      "text/plain": [
       "(474, 2)"
      ]
     },
     "execution_count": 23,
     "metadata": {},
     "output_type": "execute_result"
    }
   ],
   "source": [
    "# Remove special characters from food names\n",
    "caloriedata.food = caloriedata.food.apply(lambda x: re.sub(r'\\W+', ' ', x))\n",
    "caloriedata = caloriedata.drop_duplicates(\"food\")\n",
    "caloriedata.shape"
   ]
  },
  {
   "cell_type": "code",
   "execution_count": 24,
   "metadata": {
    "id": "uz-cbbwr5SSl"
   },
   "outputs": [],
   "source": [
    "# Create a dictionary of foods\n",
    "foodhash = {k:v for k, v in zip(caloriedata.food, [1] * len(caloriedata.food))}"
   ]
  },
  {
   "cell_type": "code",
   "execution_count": 25,
   "metadata": {
    "id": "PvLPo-QE5wKf"
   },
   "outputs": [],
   "source": [
    "# Regular expression for removing URLs\n",
    "re_url = re.compile(r'https?:\\/\\/.*[\\r\\n]*', flags=re.U)\n",
    "# Tokenizer for breaking text into words\n",
    "tokenizer = RegexpTokenizer(r'\\w+')\n",
    "\n",
    "def findfoods (x):\n",
    "  # Remove URLs\n",
    "  x = re_url.sub('', x)\n",
    "  # Tokenize text into words\n",
    "  words = tokenizer.tokenize(x.lower())\n",
    "\n",
    "  # Match all substrings with the list of foods\n",
    "  l = len(words)\n",
    "  matches = []\n",
    "  for n in range(l):\n",
    "    for i in range(n+1):\n",
    "      phrase = \" \".join(words[i:l-n+i])\n",
    "      if phrase in foodhash:\n",
    "        matches.append(phrase)\n",
    "\n",
    "  # Remove duplicates\n",
    "  matches = list(dict.fromkeys(matches))\n",
    "  # Sort by length\n",
    "  matches = sorted(matches, key=len)\n",
    "  # Throw away matches that are substrings of other matches\n",
    "  umatches = []\n",
    "  for i in range(len(matches)):\n",
    "    if not any(matches[i] in x for x in matches[(i+1):]):\n",
    "      umatches.append(matches[i])\n",
    "\n",
    "  return umatches"
   ]
  },
  {
   "cell_type": "code",
   "execution_count": 26,
   "metadata": {
    "colab": {
     "base_uri": "https://localhost:8080/"
    },
    "executionInfo": {
     "elapsed": 2,
     "status": "ok",
     "timestamp": 1657633067948,
     "user": {
      "displayName": "Yelena Mejova",
      "userId": "11766611928577248962"
     },
     "user_tz": -120
    },
    "id": "LDgUvt4Oj_-x",
    "outputId": "f5280bcc-f359-47da-df7c-48706a5c45e8"
   },
   "outputs": [
    {
     "data": {
      "text/plain": [
       "['cookie', 'chocolate', 'peanut butter']"
      ]
     },
     "execution_count": 26,
     "metadata": {},
     "output_type": "execute_result"
    }
   ],
   "source": [
    "x = \"I love my chocolate peanut butter cookie in the morning\"\n",
    "findfoods(x)"
   ]
  },
  {
   "cell_type": "markdown",
   "metadata": {
    "id": "xPvSVoCQFayN"
   },
   "source": [
    "### Apply food discovery to our data"
   ]
  },
  {
   "cell_type": "code",
   "execution_count": 27,
   "metadata": {
    "id": "DgLWx1WE55px"
   },
   "outputs": [],
   "source": [
    "# Run food discovery on the text of our data - takes about 3 minutes\n",
    "food_tweets[\"food\"] = food_tweets.text.apply(lambda x: findfoods(x))"
   ]
  },
  {
   "cell_type": "code",
   "execution_count": 28,
   "metadata": {
    "colab": {
     "base_uri": "https://localhost:8080/"
    },
    "executionInfo": {
     "elapsed": 434,
     "status": "ok",
     "timestamp": 1657633293985,
     "user": {
      "displayName": "Yelena Mejova",
      "userId": "11766611928577248962"
     },
     "user_tz": -120
    },
    "id": "eMwDRqLU5-10",
    "outputId": "98d6f6a8-946f-4c01-fc26-246942479765"
   },
   "outputs": [
    {
     "data": {
      "text/plain": [
       "(141482, 3)"
      ]
     },
     "execution_count": 28,
     "metadata": {},
     "output_type": "execute_result"
    }
   ],
   "source": [
    "# How many tweets have matches?\n",
    "food_tweets = food_tweets[food_tweets.food.str.len()>0]\n",
    "food_tweets.shape"
   ]
  },
  {
   "cell_type": "code",
   "execution_count": 29,
   "metadata": {
    "colab": {
     "base_uri": "https://localhost:8080/",
     "height": 424
    },
    "executionInfo": {
     "elapsed": 8,
     "status": "ok",
     "timestamp": 1657633295870,
     "user": {
      "displayName": "Yelena Mejova",
      "userId": "11766611928577248962"
     },
     "user_tz": -120
    },
    "id": "rdbc2M_iCFKd",
    "outputId": "6a8ddee7-11aa-4625-aa1e-38a4a1e37faf"
   },
   "outputs": [
    {
     "data": {
      "text/html": [
       "<div>\n",
       "<style scoped>\n",
       "    .dataframe tbody tr th:only-of-type {\n",
       "        vertical-align: middle;\n",
       "    }\n",
       "\n",
       "    .dataframe tbody tr th {\n",
       "        vertical-align: top;\n",
       "    }\n",
       "\n",
       "    .dataframe thead th {\n",
       "        text-align: right;\n",
       "    }\n",
       "</style>\n",
       "<table border=\"1\" class=\"dataframe\">\n",
       "  <thead>\n",
       "    <tr style=\"text-align: right;\">\n",
       "      <th></th>\n",
       "      <th>index</th>\n",
       "      <th>food</th>\n",
       "    </tr>\n",
       "  </thead>\n",
       "  <tbody>\n",
       "    <tr>\n",
       "      <th>0</th>\n",
       "      <td>13</td>\n",
       "      <td>turnips</td>\n",
       "    </tr>\n",
       "    <tr>\n",
       "      <th>1</th>\n",
       "      <td>17</td>\n",
       "      <td>fries</td>\n",
       "    </tr>\n",
       "    <tr>\n",
       "      <th>2</th>\n",
       "      <td>23</td>\n",
       "      <td>corn</td>\n",
       "    </tr>\n",
       "    <tr>\n",
       "      <th>3</th>\n",
       "      <td>30</td>\n",
       "      <td>cheese</td>\n",
       "    </tr>\n",
       "    <tr>\n",
       "      <th>4</th>\n",
       "      <td>34</td>\n",
       "      <td>chili</td>\n",
       "    </tr>\n",
       "    <tr>\n",
       "      <th>...</th>\n",
       "      <td>...</td>\n",
       "      <td>...</td>\n",
       "    </tr>\n",
       "    <tr>\n",
       "      <th>141477</th>\n",
       "      <td>909579</td>\n",
       "      <td>snack</td>\n",
       "    </tr>\n",
       "    <tr>\n",
       "      <th>141478</th>\n",
       "      <td>909585</td>\n",
       "      <td>sausage</td>\n",
       "    </tr>\n",
       "    <tr>\n",
       "      <th>141479</th>\n",
       "      <td>909593</td>\n",
       "      <td>biscuits</td>\n",
       "    </tr>\n",
       "    <tr>\n",
       "      <th>141480</th>\n",
       "      <td>909594</td>\n",
       "      <td>fruit</td>\n",
       "    </tr>\n",
       "    <tr>\n",
       "      <th>141481</th>\n",
       "      <td>909601</td>\n",
       "      <td>strawberries</td>\n",
       "    </tr>\n",
       "  </tbody>\n",
       "</table>\n",
       "<p>141482 rows × 2 columns</p>\n",
       "</div>"
      ],
      "text/plain": [
       "         index          food\n",
       "0           13       turnips\n",
       "1           17         fries\n",
       "2           23          corn\n",
       "3           30        cheese\n",
       "4           34         chili\n",
       "...        ...           ...\n",
       "141477  909579         snack\n",
       "141478  909585       sausage\n",
       "141479  909593      biscuits\n",
       "141480  909594         fruit\n",
       "141481  909601  strawberries\n",
       "\n",
       "[141482 rows x 2 columns]"
      ]
     },
     "execution_count": 29,
     "metadata": {},
     "output_type": "execute_result"
    }
   ],
   "source": [
    "# Make a mapping between foods and tweets\n",
    "tweets_food_list = food_tweets.reset_index()[[\"index\",\"food\"]].explode(\"food\").drop_duplicates(\"index\")\n",
    "tweets_food_list"
   ]
  },
  {
   "cell_type": "code",
   "execution_count": 30,
   "metadata": {
    "colab": {
     "base_uri": "https://localhost:8080/"
    },
    "executionInfo": {
     "elapsed": 5,
     "status": "ok",
     "timestamp": 1657633297904,
     "user": {
      "displayName": "Yelena Mejova",
      "userId": "11766611928577248962"
     },
     "user_tz": -120
    },
    "id": "bmtqTlVwCFH3",
    "outputId": "fd9f8e0c-b70f-41e0-c2c3-519e313675cc"
   },
   "outputs": [
    {
     "data": {
      "text/plain": [
       "(141482, 3)"
      ]
     },
     "execution_count": 30,
     "metadata": {},
     "output_type": "execute_result"
    }
   ],
   "source": [
    "# Merge with list of calories\n",
    "tweets_food_list_calories = tweets_food_list.merge(caloriedata, on=\"food\")\n",
    "tweets_food_list_calories.shape"
   ]
  },
  {
   "cell_type": "code",
   "execution_count": 31,
   "metadata": {
    "colab": {
     "base_uri": "https://localhost:8080/",
     "height": 424
    },
    "executionInfo": {
     "elapsed": 7,
     "status": "ok",
     "timestamp": 1657633299102,
     "user": {
      "displayName": "Yelena Mejova",
      "userId": "11766611928577248962"
     },
     "user_tz": -120
    },
    "id": "88UnGO4N6D8m",
    "outputId": "1f055347-a474-4cfd-a785-0a57c038cc6b"
   },
   "outputs": [
    {
     "data": {
      "text/html": [
       "<div>\n",
       "<style scoped>\n",
       "    .dataframe tbody tr th:only-of-type {\n",
       "        vertical-align: middle;\n",
       "    }\n",
       "\n",
       "    .dataframe tbody tr th {\n",
       "        vertical-align: top;\n",
       "    }\n",
       "\n",
       "    .dataframe thead th {\n",
       "        text-align: right;\n",
       "    }\n",
       "</style>\n",
       "<table border=\"1\" class=\"dataframe\">\n",
       "  <thead>\n",
       "    <tr style=\"text-align: right;\">\n",
       "      <th></th>\n",
       "      <th>index</th>\n",
       "      <th>energy</th>\n",
       "    </tr>\n",
       "  </thead>\n",
       "  <tbody>\n",
       "    <tr>\n",
       "      <th>0</th>\n",
       "      <td>13</td>\n",
       "      <td>32.24</td>\n",
       "    </tr>\n",
       "    <tr>\n",
       "      <th>1</th>\n",
       "      <td>17</td>\n",
       "      <td>312.00</td>\n",
       "    </tr>\n",
       "    <tr>\n",
       "      <th>2</th>\n",
       "      <td>23</td>\n",
       "      <td>168.72</td>\n",
       "    </tr>\n",
       "    <tr>\n",
       "      <th>3</th>\n",
       "      <td>30</td>\n",
       "      <td>402.00</td>\n",
       "    </tr>\n",
       "    <tr>\n",
       "      <th>4</th>\n",
       "      <td>34</td>\n",
       "      <td>156.76</td>\n",
       "    </tr>\n",
       "    <tr>\n",
       "      <th>...</th>\n",
       "      <td>...</td>\n",
       "      <td>...</td>\n",
       "    </tr>\n",
       "    <tr>\n",
       "      <th>141477</th>\n",
       "      <td>909579</td>\n",
       "      <td>132.88</td>\n",
       "    </tr>\n",
       "    <tr>\n",
       "      <th>141478</th>\n",
       "      <td>909585</td>\n",
       "      <td>346.00</td>\n",
       "    </tr>\n",
       "    <tr>\n",
       "      <th>141479</th>\n",
       "      <td>909593</td>\n",
       "      <td>353.00</td>\n",
       "    </tr>\n",
       "    <tr>\n",
       "      <th>141480</th>\n",
       "      <td>909594</td>\n",
       "      <td>52.00</td>\n",
       "    </tr>\n",
       "    <tr>\n",
       "      <th>141481</th>\n",
       "      <td>909601</td>\n",
       "      <td>32.00</td>\n",
       "    </tr>\n",
       "  </tbody>\n",
       "</table>\n",
       "<p>141482 rows × 2 columns</p>\n",
       "</div>"
      ],
      "text/plain": [
       "         index  energy\n",
       "0           13   32.24\n",
       "1           17  312.00\n",
       "2           23  168.72\n",
       "3           30  402.00\n",
       "4           34  156.76\n",
       "...        ...     ...\n",
       "141477  909579  132.88\n",
       "141478  909585  346.00\n",
       "141479  909593  353.00\n",
       "141480  909594   52.00\n",
       "141481  909601   32.00\n",
       "\n",
       "[141482 rows x 2 columns]"
      ]
     },
     "execution_count": 31,
     "metadata": {},
     "output_type": "execute_result"
    }
   ],
   "source": [
    "# Calculate average caloric value per tweet\n",
    "tweet_calorie_average = tweets_food_list_calories.groupby(\"index\").energy.mean().reset_index()\n",
    "tweet_calorie_average"
   ]
  },
  {
   "cell_type": "code",
   "execution_count": 32,
   "metadata": {
    "colab": {
     "base_uri": "https://localhost:8080/",
     "height": 206
    },
    "executionInfo": {
     "elapsed": 6,
     "status": "ok",
     "timestamp": 1657633300610,
     "user": {
      "displayName": "Yelena Mejova",
      "userId": "11766611928577248962"
     },
     "user_tz": -120
    },
    "id": "21G-H_0sCy5N",
    "outputId": "0d96465a-2ed1-4e77-e43d-a76f523cbdeb"
   },
   "outputs": [
    {
     "data": {
      "text/html": [
       "<div>\n",
       "<style scoped>\n",
       "    .dataframe tbody tr th:only-of-type {\n",
       "        vertical-align: middle;\n",
       "    }\n",
       "\n",
       "    .dataframe tbody tr th {\n",
       "        vertical-align: top;\n",
       "    }\n",
       "\n",
       "    .dataframe thead th {\n",
       "        text-align: right;\n",
       "    }\n",
       "</style>\n",
       "<table border=\"1\" class=\"dataframe\">\n",
       "  <thead>\n",
       "    <tr style=\"text-align: right;\">\n",
       "      <th></th>\n",
       "      <th>index</th>\n",
       "      <th>text</th>\n",
       "      <th>state</th>\n",
       "      <th>food</th>\n",
       "      <th>energy</th>\n",
       "    </tr>\n",
       "  </thead>\n",
       "  <tbody>\n",
       "    <tr>\n",
       "      <th>0</th>\n",
       "      <td>13</td>\n",
       "      <td>Turnips smell like chocolate chip cookies when...</td>\n",
       "      <td>NY</td>\n",
       "      <td>[turnips, cookies, chocolate]</td>\n",
       "      <td>32.24</td>\n",
       "    </tr>\n",
       "    <tr>\n",
       "      <th>1</th>\n",
       "      <td>17</td>\n",
       "      <td>@WayLynnTaylor ya I'm eating French fries and ...</td>\n",
       "      <td>MA</td>\n",
       "      <td>[fries, pickles]</td>\n",
       "      <td>312.00</td>\n",
       "    </tr>\n",
       "    <tr>\n",
       "      <th>2</th>\n",
       "      <td>23</td>\n",
       "      <td>Luckiest girl in the world!  David is cooking ...</td>\n",
       "      <td>FL</td>\n",
       "      <td>[corn, steak, broccoli]</td>\n",
       "      <td>168.72</td>\n",
       "    </tr>\n",
       "    <tr>\n",
       "      <th>3</th>\n",
       "      <td>30</td>\n",
       "      <td>What's better then laying in bed watching movi...</td>\n",
       "      <td>IN</td>\n",
       "      <td>[cheese]</td>\n",
       "      <td>402.00</td>\n",
       "    </tr>\n",
       "    <tr>\n",
       "      <th>4</th>\n",
       "      <td>34</td>\n",
       "      <td>Eating some yummy chili on this cold  rainy eve</td>\n",
       "      <td>OH</td>\n",
       "      <td>[chili]</td>\n",
       "      <td>156.76</td>\n",
       "    </tr>\n",
       "  </tbody>\n",
       "</table>\n",
       "</div>"
      ],
      "text/plain": [
       "   index                                               text state  \\\n",
       "0     13  Turnips smell like chocolate chip cookies when...    NY   \n",
       "1     17  @WayLynnTaylor ya I'm eating French fries and ...    MA   \n",
       "2     23  Luckiest girl in the world!  David is cooking ...    FL   \n",
       "3     30  What's better then laying in bed watching movi...    IN   \n",
       "4     34   Eating some yummy chili on this cold  rainy eve     OH   \n",
       "\n",
       "                            food  energy  \n",
       "0  [turnips, cookies, chocolate]   32.24  \n",
       "1               [fries, pickles]  312.00  \n",
       "2        [corn, steak, broccoli]  168.72  \n",
       "3                       [cheese]  402.00  \n",
       "4                        [chili]  156.76  "
      ]
     },
     "execution_count": 32,
     "metadata": {},
     "output_type": "execute_result"
    }
   ],
   "source": [
    "# Merge with original document list\n",
    "food_tweets_energy = food_tweets.reset_index().merge(tweet_calorie_average, on=\"index\")\n",
    "food_tweets_energy.head()"
   ]
  },
  {
   "cell_type": "code",
   "execution_count": 33,
   "metadata": {
    "colab": {
     "base_uri": "https://localhost:8080/",
     "height": 1000
    },
    "executionInfo": {
     "elapsed": 380,
     "status": "ok",
     "timestamp": 1657633364698,
     "user": {
      "displayName": "Yelena Mejova",
      "userId": "11766611928577248962"
     },
     "user_tz": -120
    },
    "id": "FDK7DxRcCy2W",
    "outputId": "e4663789-7b6c-4f7b-aebc-3b468eb13760"
   },
   "outputs": [
    {
     "data": {
      "text/html": [
       "<div>\n",
       "<style scoped>\n",
       "    .dataframe tbody tr th:only-of-type {\n",
       "        vertical-align: middle;\n",
       "    }\n",
       "\n",
       "    .dataframe tbody tr th {\n",
       "        vertical-align: top;\n",
       "    }\n",
       "\n",
       "    .dataframe thead th {\n",
       "        text-align: right;\n",
       "    }\n",
       "</style>\n",
       "<table border=\"1\" class=\"dataframe\">\n",
       "  <thead>\n",
       "    <tr style=\"text-align: right;\">\n",
       "      <th></th>\n",
       "      <th>state</th>\n",
       "      <th>energy</th>\n",
       "    </tr>\n",
       "  </thead>\n",
       "  <tbody>\n",
       "    <tr>\n",
       "      <th>34</th>\n",
       "      <td>None</td>\n",
       "      <td>191.622561</td>\n",
       "    </tr>\n",
       "    <tr>\n",
       "      <th>10</th>\n",
       "      <td>HI</td>\n",
       "      <td>192.730679</td>\n",
       "    </tr>\n",
       "    <tr>\n",
       "      <th>0</th>\n",
       "      <td>AK</td>\n",
       "      <td>197.826718</td>\n",
       "    </tr>\n",
       "    <tr>\n",
       "      <th>33</th>\n",
       "      <td>NY</td>\n",
       "      <td>199.192885</td>\n",
       "    </tr>\n",
       "    <tr>\n",
       "      <th>47</th>\n",
       "      <td>WA</td>\n",
       "      <td>199.401039</td>\n",
       "    </tr>\n",
       "    <tr>\n",
       "      <th>50</th>\n",
       "      <td>WY</td>\n",
       "      <td>200.093617</td>\n",
       "    </tr>\n",
       "    <tr>\n",
       "      <th>6</th>\n",
       "      <td>CT</td>\n",
       "      <td>201.323906</td>\n",
       "    </tr>\n",
       "    <tr>\n",
       "      <th>40</th>\n",
       "      <td>SC</td>\n",
       "      <td>201.850475</td>\n",
       "    </tr>\n",
       "    <tr>\n",
       "      <th>8</th>\n",
       "      <td>FL</td>\n",
       "      <td>201.871676</td>\n",
       "    </tr>\n",
       "    <tr>\n",
       "      <th>5</th>\n",
       "      <td>CO</td>\n",
       "      <td>202.286818</td>\n",
       "    </tr>\n",
       "    <tr>\n",
       "      <th>25</th>\n",
       "      <td>MT</td>\n",
       "      <td>202.569845</td>\n",
       "    </tr>\n",
       "    <tr>\n",
       "      <th>32</th>\n",
       "      <td>NV</td>\n",
       "      <td>202.813129</td>\n",
       "    </tr>\n",
       "    <tr>\n",
       "      <th>21</th>\n",
       "      <td>MI</td>\n",
       "      <td>203.651862</td>\n",
       "    </tr>\n",
       "    <tr>\n",
       "      <th>16</th>\n",
       "      <td>KY</td>\n",
       "      <td>203.771025</td>\n",
       "    </tr>\n",
       "    <tr>\n",
       "      <th>11</th>\n",
       "      <td>IA</td>\n",
       "      <td>204.378691</td>\n",
       "    </tr>\n",
       "    <tr>\n",
       "      <th>4</th>\n",
       "      <td>CA</td>\n",
       "      <td>204.681571</td>\n",
       "    </tr>\n",
       "    <tr>\n",
       "      <th>37</th>\n",
       "      <td>OR</td>\n",
       "      <td>205.244864</td>\n",
       "    </tr>\n",
       "    <tr>\n",
       "      <th>19</th>\n",
       "      <td>MD</td>\n",
       "      <td>205.337607</td>\n",
       "    </tr>\n",
       "    <tr>\n",
       "      <th>30</th>\n",
       "      <td>NJ</td>\n",
       "      <td>205.369294</td>\n",
       "    </tr>\n",
       "    <tr>\n",
       "      <th>45</th>\n",
       "      <td>VA</td>\n",
       "      <td>205.785155</td>\n",
       "    </tr>\n",
       "    <tr>\n",
       "      <th>20</th>\n",
       "      <td>ME</td>\n",
       "      <td>205.861353</td>\n",
       "    </tr>\n",
       "    <tr>\n",
       "      <th>31</th>\n",
       "      <td>NM</td>\n",
       "      <td>206.729702</td>\n",
       "    </tr>\n",
       "    <tr>\n",
       "      <th>18</th>\n",
       "      <td>MA</td>\n",
       "      <td>206.862014</td>\n",
       "    </tr>\n",
       "    <tr>\n",
       "      <th>48</th>\n",
       "      <td>WI</td>\n",
       "      <td>206.977330</td>\n",
       "    </tr>\n",
       "    <tr>\n",
       "      <th>13</th>\n",
       "      <td>IL</td>\n",
       "      <td>207.754616</td>\n",
       "    </tr>\n",
       "    <tr>\n",
       "      <th>38</th>\n",
       "      <td>PA</td>\n",
       "      <td>208.009216</td>\n",
       "    </tr>\n",
       "    <tr>\n",
       "      <th>26</th>\n",
       "      <td>NC</td>\n",
       "      <td>208.100045</td>\n",
       "    </tr>\n",
       "    <tr>\n",
       "      <th>3</th>\n",
       "      <td>AZ</td>\n",
       "      <td>208.108498</td>\n",
       "    </tr>\n",
       "    <tr>\n",
       "      <th>49</th>\n",
       "      <td>WV</td>\n",
       "      <td>208.247773</td>\n",
       "    </tr>\n",
       "    <tr>\n",
       "      <th>22</th>\n",
       "      <td>MN</td>\n",
       "      <td>208.527322</td>\n",
       "    </tr>\n",
       "    <tr>\n",
       "      <th>35</th>\n",
       "      <td>OH</td>\n",
       "      <td>208.613183</td>\n",
       "    </tr>\n",
       "    <tr>\n",
       "      <th>17</th>\n",
       "      <td>LA</td>\n",
       "      <td>209.595710</td>\n",
       "    </tr>\n",
       "    <tr>\n",
       "      <th>9</th>\n",
       "      <td>GA</td>\n",
       "      <td>209.597050</td>\n",
       "    </tr>\n",
       "    <tr>\n",
       "      <th>23</th>\n",
       "      <td>MO</td>\n",
       "      <td>210.149910</td>\n",
       "    </tr>\n",
       "    <tr>\n",
       "      <th>44</th>\n",
       "      <td>UT</td>\n",
       "      <td>210.910789</td>\n",
       "    </tr>\n",
       "    <tr>\n",
       "      <th>24</th>\n",
       "      <td>MS</td>\n",
       "      <td>210.996808</td>\n",
       "    </tr>\n",
       "    <tr>\n",
       "      <th>29</th>\n",
       "      <td>NH</td>\n",
       "      <td>211.224343</td>\n",
       "    </tr>\n",
       "    <tr>\n",
       "      <th>36</th>\n",
       "      <td>OK</td>\n",
       "      <td>211.565634</td>\n",
       "    </tr>\n",
       "    <tr>\n",
       "      <th>7</th>\n",
       "      <td>DE</td>\n",
       "      <td>212.489683</td>\n",
       "    </tr>\n",
       "    <tr>\n",
       "      <th>42</th>\n",
       "      <td>TN</td>\n",
       "      <td>212.712849</td>\n",
       "    </tr>\n",
       "    <tr>\n",
       "      <th>39</th>\n",
       "      <td>RI</td>\n",
       "      <td>212.955311</td>\n",
       "    </tr>\n",
       "    <tr>\n",
       "      <th>43</th>\n",
       "      <td>TX</td>\n",
       "      <td>213.256224</td>\n",
       "    </tr>\n",
       "    <tr>\n",
       "      <th>14</th>\n",
       "      <td>IN</td>\n",
       "      <td>213.306546</td>\n",
       "    </tr>\n",
       "    <tr>\n",
       "      <th>1</th>\n",
       "      <td>AL</td>\n",
       "      <td>214.491647</td>\n",
       "    </tr>\n",
       "    <tr>\n",
       "      <th>27</th>\n",
       "      <td>ND</td>\n",
       "      <td>215.340260</td>\n",
       "    </tr>\n",
       "    <tr>\n",
       "      <th>2</th>\n",
       "      <td>AR</td>\n",
       "      <td>215.836862</td>\n",
       "    </tr>\n",
       "    <tr>\n",
       "      <th>46</th>\n",
       "      <td>VT</td>\n",
       "      <td>216.207197</td>\n",
       "    </tr>\n",
       "    <tr>\n",
       "      <th>15</th>\n",
       "      <td>KS</td>\n",
       "      <td>217.614478</td>\n",
       "    </tr>\n",
       "    <tr>\n",
       "      <th>28</th>\n",
       "      <td>NE</td>\n",
       "      <td>218.022436</td>\n",
       "    </tr>\n",
       "    <tr>\n",
       "      <th>41</th>\n",
       "      <td>SD</td>\n",
       "      <td>222.773266</td>\n",
       "    </tr>\n",
       "    <tr>\n",
       "      <th>12</th>\n",
       "      <td>ID</td>\n",
       "      <td>223.159940</td>\n",
       "    </tr>\n",
       "  </tbody>\n",
       "</table>\n",
       "</div>"
      ],
      "text/plain": [
       "   state      energy\n",
       "34  None  191.622561\n",
       "10    HI  192.730679\n",
       "0     AK  197.826718\n",
       "33    NY  199.192885\n",
       "47    WA  199.401039\n",
       "50    WY  200.093617\n",
       "6     CT  201.323906\n",
       "40    SC  201.850475\n",
       "8     FL  201.871676\n",
       "5     CO  202.286818\n",
       "25    MT  202.569845\n",
       "32    NV  202.813129\n",
       "21    MI  203.651862\n",
       "16    KY  203.771025\n",
       "11    IA  204.378691\n",
       "4     CA  204.681571\n",
       "37    OR  205.244864\n",
       "19    MD  205.337607\n",
       "30    NJ  205.369294\n",
       "45    VA  205.785155\n",
       "20    ME  205.861353\n",
       "31    NM  206.729702\n",
       "18    MA  206.862014\n",
       "48    WI  206.977330\n",
       "13    IL  207.754616\n",
       "38    PA  208.009216\n",
       "26    NC  208.100045\n",
       "3     AZ  208.108498\n",
       "49    WV  208.247773\n",
       "22    MN  208.527322\n",
       "35    OH  208.613183\n",
       "17    LA  209.595710\n",
       "9     GA  209.597050\n",
       "23    MO  210.149910\n",
       "44    UT  210.910789\n",
       "24    MS  210.996808\n",
       "29    NH  211.224343\n",
       "36    OK  211.565634\n",
       "7     DE  212.489683\n",
       "42    TN  212.712849\n",
       "39    RI  212.955311\n",
       "43    TX  213.256224\n",
       "14    IN  213.306546\n",
       "1     AL  214.491647\n",
       "27    ND  215.340260\n",
       "2     AR  215.836862\n",
       "46    VT  216.207197\n",
       "15    KS  217.614478\n",
       "28    NE  218.022436\n",
       "41    SD  222.773266\n",
       "12    ID  223.159940"
      ]
     },
     "execution_count": 33,
     "metadata": {},
     "output_type": "execute_result"
    }
   ],
   "source": [
    "# Aggregate by state and calculate the average caloric value\n",
    "tweet_calorie_average = food_tweets_energy.groupby(\"state\").energy.mean().reset_index()\n",
    "tweet_calorie_average.sort_values(by=\"energy\")"
   ]
  },
  {
   "cell_type": "markdown",
   "metadata": {
    "id": "CVGGsGmPqIil"
   },
   "source": [
    "## 1.3 Comparing to health statistics"
   ]
  },
  {
   "cell_type": "code",
   "execution_count": 34,
   "metadata": {
    "colab": {
     "base_uri": "https://localhost:8080/",
     "height": 1000
    },
    "executionInfo": {
     "elapsed": 1423,
     "status": "ok",
     "timestamp": 1657633376747,
     "user": {
      "displayName": "Yelena Mejova",
      "userId": "11766611928577248962"
     },
     "user_tz": -120
    },
    "id": "cgpOGMmLCyzO",
    "outputId": "6b9f0a1a-447a-4b69-df55-7e9b427b9a68"
   },
   "outputs": [
    {
     "data": {
      "text/html": [
       "<div>\n",
       "<style scoped>\n",
       "    .dataframe tbody tr th:only-of-type {\n",
       "        vertical-align: middle;\n",
       "    }\n",
       "\n",
       "    .dataframe tbody tr th {\n",
       "        vertical-align: top;\n",
       "    }\n",
       "\n",
       "    .dataframe thead th {\n",
       "        text-align: right;\n",
       "    }\n",
       "</style>\n",
       "<table border=\"1\" class=\"dataframe\">\n",
       "  <thead>\n",
       "    <tr style=\"text-align: right;\">\n",
       "      <th></th>\n",
       "      <th>state_long</th>\n",
       "      <th>state</th>\n",
       "      <th>obesity</th>\n",
       "      <th>population</th>\n",
       "    </tr>\n",
       "  </thead>\n",
       "  <tbody>\n",
       "    <tr>\n",
       "      <th>0</th>\n",
       "      <td>Alabama</td>\n",
       "      <td>AL</td>\n",
       "      <td>36.1</td>\n",
       "      <td>4949697</td>\n",
       "    </tr>\n",
       "    <tr>\n",
       "      <th>1</th>\n",
       "      <td>Alaska</td>\n",
       "      <td>AK</td>\n",
       "      <td>30.5</td>\n",
       "      <td>720763</td>\n",
       "    </tr>\n",
       "    <tr>\n",
       "      <th>2</th>\n",
       "      <td>Arizona</td>\n",
       "      <td>AZ</td>\n",
       "      <td>31.4</td>\n",
       "      <td>7640796</td>\n",
       "    </tr>\n",
       "    <tr>\n",
       "      <th>3</th>\n",
       "      <td>Arkansas</td>\n",
       "      <td>AR</td>\n",
       "      <td>37.4</td>\n",
       "      <td>3042017</td>\n",
       "    </tr>\n",
       "    <tr>\n",
       "      <th>4</th>\n",
       "      <td>California</td>\n",
       "      <td>CA</td>\n",
       "      <td>26.3</td>\n",
       "      <td>39664128</td>\n",
       "    </tr>\n",
       "    <tr>\n",
       "      <th>5</th>\n",
       "      <td>Colorado</td>\n",
       "      <td>CO</td>\n",
       "      <td>23.8</td>\n",
       "      <td>5961083</td>\n",
       "    </tr>\n",
       "    <tr>\n",
       "      <th>6</th>\n",
       "      <td>Connecticut</td>\n",
       "      <td>CT</td>\n",
       "      <td>29.1</td>\n",
       "      <td>3546588</td>\n",
       "    </tr>\n",
       "    <tr>\n",
       "      <th>7</th>\n",
       "      <td>Delaware</td>\n",
       "      <td>DE</td>\n",
       "      <td>34.4</td>\n",
       "      <td>998619</td>\n",
       "    </tr>\n",
       "    <tr>\n",
       "      <th>8</th>\n",
       "      <td>Florida</td>\n",
       "      <td>FL</td>\n",
       "      <td>27.0</td>\n",
       "      <td>22177997</td>\n",
       "    </tr>\n",
       "    <tr>\n",
       "      <th>9</th>\n",
       "      <td>Georgia</td>\n",
       "      <td>GA</td>\n",
       "      <td>33.1</td>\n",
       "      <td>10936299</td>\n",
       "    </tr>\n",
       "    <tr>\n",
       "      <th>10</th>\n",
       "      <td>Hawaii</td>\n",
       "      <td>HI</td>\n",
       "      <td>25.0</td>\n",
       "      <td>1401709</td>\n",
       "    </tr>\n",
       "    <tr>\n",
       "      <th>11</th>\n",
       "      <td>Idaho</td>\n",
       "      <td>ID</td>\n",
       "      <td>29.5</td>\n",
       "      <td>1896652</td>\n",
       "    </tr>\n",
       "    <tr>\n",
       "      <th>12</th>\n",
       "      <td>Illinois</td>\n",
       "      <td>IL</td>\n",
       "      <td>31.6</td>\n",
       "      <td>12518071</td>\n",
       "    </tr>\n",
       "    <tr>\n",
       "      <th>13</th>\n",
       "      <td>Indiana</td>\n",
       "      <td>IN</td>\n",
       "      <td>35.3</td>\n",
       "      <td>6842385</td>\n",
       "    </tr>\n",
       "    <tr>\n",
       "      <th>14</th>\n",
       "      <td>Iowa</td>\n",
       "      <td>IA</td>\n",
       "      <td>33.9</td>\n",
       "      <td>3174426</td>\n",
       "    </tr>\n",
       "    <tr>\n",
       "      <th>15</th>\n",
       "      <td>Kansas</td>\n",
       "      <td>KS</td>\n",
       "      <td>35.2</td>\n",
       "      <td>2919179</td>\n",
       "    </tr>\n",
       "    <tr>\n",
       "      <th>16</th>\n",
       "      <td>Kentucky</td>\n",
       "      <td>KY</td>\n",
       "      <td>36.5</td>\n",
       "      <td>4487233</td>\n",
       "    </tr>\n",
       "    <tr>\n",
       "      <th>17</th>\n",
       "      <td>Louisiana</td>\n",
       "      <td>LA</td>\n",
       "      <td>35.9</td>\n",
       "      <td>4616106</td>\n",
       "    </tr>\n",
       "    <tr>\n",
       "      <th>18</th>\n",
       "      <td>Maine</td>\n",
       "      <td>ME</td>\n",
       "      <td>31.7</td>\n",
       "      <td>1359677</td>\n",
       "    </tr>\n",
       "    <tr>\n",
       "      <th>19</th>\n",
       "      <td>Maryland</td>\n",
       "      <td>MD</td>\n",
       "      <td>32.3</td>\n",
       "      <td>6075314</td>\n",
       "    </tr>\n",
       "    <tr>\n",
       "      <th>20</th>\n",
       "      <td>Massachusetts</td>\n",
       "      <td>MA</td>\n",
       "      <td>25.2</td>\n",
       "      <td>6922107</td>\n",
       "    </tr>\n",
       "    <tr>\n",
       "      <th>21</th>\n",
       "      <td>Michigan</td>\n",
       "      <td>MI</td>\n",
       "      <td>36.0</td>\n",
       "      <td>9995212</td>\n",
       "    </tr>\n",
       "    <tr>\n",
       "      <th>22</th>\n",
       "      <td>Minnesota</td>\n",
       "      <td>MN</td>\n",
       "      <td>30.1</td>\n",
       "      <td>5739781</td>\n",
       "    </tr>\n",
       "    <tr>\n",
       "      <th>23</th>\n",
       "      <td>Mississippi</td>\n",
       "      <td>MS</td>\n",
       "      <td>40.8</td>\n",
       "      <td>2961536</td>\n",
       "    </tr>\n",
       "    <tr>\n",
       "      <th>24</th>\n",
       "      <td>Missouri</td>\n",
       "      <td>MO</td>\n",
       "      <td>34.8</td>\n",
       "      <td>6184843</td>\n",
       "    </tr>\n",
       "    <tr>\n",
       "      <th>25</th>\n",
       "      <td>Montana</td>\n",
       "      <td>MT</td>\n",
       "      <td>28.3</td>\n",
       "      <td>1093117</td>\n",
       "    </tr>\n",
       "    <tr>\n",
       "      <th>26</th>\n",
       "      <td>Nebraska</td>\n",
       "      <td>NE</td>\n",
       "      <td>34.1</td>\n",
       "      <td>1960790</td>\n",
       "    </tr>\n",
       "    <tr>\n",
       "      <th>27</th>\n",
       "      <td>Nevada</td>\n",
       "      <td>NV</td>\n",
       "      <td>30.6</td>\n",
       "      <td>3238601</td>\n",
       "    </tr>\n",
       "    <tr>\n",
       "      <th>28</th>\n",
       "      <td>New Hampshire</td>\n",
       "      <td>NH</td>\n",
       "      <td>31.8</td>\n",
       "      <td>1378449</td>\n",
       "    </tr>\n",
       "    <tr>\n",
       "      <th>29</th>\n",
       "      <td>New Jersey</td>\n",
       "      <td>NJ</td>\n",
       "      <td>27.3</td>\n",
       "      <td>8870685</td>\n",
       "    </tr>\n",
       "    <tr>\n",
       "      <th>30</th>\n",
       "      <td>New Mexico</td>\n",
       "      <td>NM</td>\n",
       "      <td>31.7</td>\n",
       "      <td>2109093</td>\n",
       "    </tr>\n",
       "    <tr>\n",
       "      <th>31</th>\n",
       "      <td>New York</td>\n",
       "      <td>NY</td>\n",
       "      <td>27.1</td>\n",
       "      <td>19223191</td>\n",
       "    </tr>\n",
       "    <tr>\n",
       "      <th>32</th>\n",
       "      <td>North Carolina</td>\n",
       "      <td>NC</td>\n",
       "      <td>34.0</td>\n",
       "      <td>10807491</td>\n",
       "    </tr>\n",
       "    <tr>\n",
       "      <th>33</th>\n",
       "      <td>North Dakota</td>\n",
       "      <td>ND</td>\n",
       "      <td>34.8</td>\n",
       "      <td>774008</td>\n",
       "    </tr>\n",
       "    <tr>\n",
       "      <th>34</th>\n",
       "      <td>Ohio</td>\n",
       "      <td>OH</td>\n",
       "      <td>34.8</td>\n",
       "      <td>11727377</td>\n",
       "    </tr>\n",
       "    <tr>\n",
       "      <th>35</th>\n",
       "      <td>Oklahoma</td>\n",
       "      <td>OK</td>\n",
       "      <td>36.8</td>\n",
       "      <td>4007179</td>\n",
       "    </tr>\n",
       "    <tr>\n",
       "      <th>36</th>\n",
       "      <td>Oregon</td>\n",
       "      <td>OR</td>\n",
       "      <td>29.0</td>\n",
       "      <td>4325290</td>\n",
       "    </tr>\n",
       "    <tr>\n",
       "      <th>37</th>\n",
       "      <td>Pennsylvania</td>\n",
       "      <td>PA</td>\n",
       "      <td>33.2</td>\n",
       "      <td>12805190</td>\n",
       "    </tr>\n",
       "    <tr>\n",
       "      <th>38</th>\n",
       "      <td>Rhode Island</td>\n",
       "      <td>RI</td>\n",
       "      <td>30.0</td>\n",
       "      <td>1062583</td>\n",
       "    </tr>\n",
       "    <tr>\n",
       "      <th>39</th>\n",
       "      <td>South Carolina</td>\n",
       "      <td>SC</td>\n",
       "      <td>35.4</td>\n",
       "      <td>5342388</td>\n",
       "    </tr>\n",
       "    <tr>\n",
       "      <th>40</th>\n",
       "      <td>South Dakota</td>\n",
       "      <td>SD</td>\n",
       "      <td>33.0</td>\n",
       "      <td>902542</td>\n",
       "    </tr>\n",
       "    <tr>\n",
       "      <th>41</th>\n",
       "      <td>Tennessee</td>\n",
       "      <td>TN</td>\n",
       "      <td>36.5</td>\n",
       "      <td>7001803</td>\n",
       "    </tr>\n",
       "    <tr>\n",
       "      <th>42</th>\n",
       "      <td>Texas</td>\n",
       "      <td>TX</td>\n",
       "      <td>34.0</td>\n",
       "      <td>30097526</td>\n",
       "    </tr>\n",
       "    <tr>\n",
       "      <th>43</th>\n",
       "      <td>Utah</td>\n",
       "      <td>UT</td>\n",
       "      <td>29.2</td>\n",
       "      <td>3363182</td>\n",
       "    </tr>\n",
       "    <tr>\n",
       "      <th>44</th>\n",
       "      <td>Vermont</td>\n",
       "      <td>VT</td>\n",
       "      <td>26.6</td>\n",
       "      <td>622882</td>\n",
       "    </tr>\n",
       "    <tr>\n",
       "      <th>45</th>\n",
       "      <td>Virginia</td>\n",
       "      <td>VA</td>\n",
       "      <td>31.9</td>\n",
       "      <td>8638218</td>\n",
       "    </tr>\n",
       "    <tr>\n",
       "      <th>46</th>\n",
       "      <td>Washington</td>\n",
       "      <td>WA</td>\n",
       "      <td>28.3</td>\n",
       "      <td>7887965</td>\n",
       "    </tr>\n",
       "    <tr>\n",
       "      <th>47</th>\n",
       "      <td>West Virginia</td>\n",
       "      <td>WV</td>\n",
       "      <td>39.7</td>\n",
       "      <td>1755715</td>\n",
       "    </tr>\n",
       "    <tr>\n",
       "      <th>48</th>\n",
       "      <td>Wisconsin</td>\n",
       "      <td>WI</td>\n",
       "      <td>34.2</td>\n",
       "      <td>5867518</td>\n",
       "    </tr>\n",
       "    <tr>\n",
       "      <th>49</th>\n",
       "      <td>Wyoming</td>\n",
       "      <td>WY</td>\n",
       "      <td>29.7</td>\n",
       "      <td>582233</td>\n",
       "    </tr>\n",
       "  </tbody>\n",
       "</table>\n",
       "</div>"
      ],
      "text/plain": [
       "        state_long state  obesity  population\n",
       "0          Alabama    AL     36.1     4949697\n",
       "1           Alaska    AK     30.5      720763\n",
       "2          Arizona    AZ     31.4     7640796\n",
       "3         Arkansas    AR     37.4     3042017\n",
       "4       California    CA     26.3    39664128\n",
       "5         Colorado    CO     23.8     5961083\n",
       "6      Connecticut    CT     29.1     3546588\n",
       "7         Delaware    DE     34.4      998619\n",
       "8          Florida    FL     27.0    22177997\n",
       "9          Georgia    GA     33.1    10936299\n",
       "10          Hawaii    HI     25.0     1401709\n",
       "11           Idaho    ID     29.5     1896652\n",
       "12        Illinois    IL     31.6    12518071\n",
       "13         Indiana    IN     35.3     6842385\n",
       "14            Iowa    IA     33.9     3174426\n",
       "15          Kansas    KS     35.2     2919179\n",
       "16        Kentucky    KY     36.5     4487233\n",
       "17       Louisiana    LA     35.9     4616106\n",
       "18           Maine    ME     31.7     1359677\n",
       "19        Maryland    MD     32.3     6075314\n",
       "20   Massachusetts    MA     25.2     6922107\n",
       "21        Michigan    MI     36.0     9995212\n",
       "22       Minnesota    MN     30.1     5739781\n",
       "23     Mississippi    MS     40.8     2961536\n",
       "24        Missouri    MO     34.8     6184843\n",
       "25         Montana    MT     28.3     1093117\n",
       "26        Nebraska    NE     34.1     1960790\n",
       "27          Nevada    NV     30.6     3238601\n",
       "28   New Hampshire    NH     31.8     1378449\n",
       "29      New Jersey    NJ     27.3     8870685\n",
       "30      New Mexico    NM     31.7     2109093\n",
       "31        New York    NY     27.1    19223191\n",
       "32  North Carolina    NC     34.0    10807491\n",
       "33    North Dakota    ND     34.8      774008\n",
       "34            Ohio    OH     34.8    11727377\n",
       "35        Oklahoma    OK     36.8     4007179\n",
       "36          Oregon    OR     29.0     4325290\n",
       "37    Pennsylvania    PA     33.2    12805190\n",
       "38    Rhode Island    RI     30.0     1062583\n",
       "39  South Carolina    SC     35.4     5342388\n",
       "40    South Dakota    SD     33.0      902542\n",
       "41       Tennessee    TN     36.5     7001803\n",
       "42           Texas    TX     34.0    30097526\n",
       "43            Utah    UT     29.2     3363182\n",
       "44         Vermont    VT     26.6      622882\n",
       "45        Virginia    VA     31.9     8638218\n",
       "46      Washington    WA     28.3     7887965\n",
       "47   West Virginia    WV     39.7     1755715\n",
       "48       Wisconsin    WI     34.2     5867518\n",
       "49         Wyoming    WY     29.7      582233"
      ]
     },
     "execution_count": 34,
     "metadata": {},
     "output_type": "execute_result"
    }
   ],
   "source": [
    "# Read in known statistics on obesity\n",
    "stateobesity = pd.read_csv(\"Resources_nutrition/state_obesity_rate_2022.csv\")\n",
    "stateobesity"
   ]
  },
  {
   "cell_type": "code",
   "execution_count": 35,
   "metadata": {
    "colab": {
     "base_uri": "https://localhost:8080/",
     "height": 1000
    },
    "executionInfo": {
     "elapsed": 3,
     "status": "ok",
     "timestamp": 1657633378658,
     "user": {
      "displayName": "Yelena Mejova",
      "userId": "11766611928577248962"
     },
     "user_tz": -120
    },
    "id": "DciZ4iX6Cywn",
    "outputId": "d2687e92-f174-4e57-a669-089b1354c4c0"
   },
   "outputs": [
    {
     "data": {
      "text/html": [
       "<div>\n",
       "<style scoped>\n",
       "    .dataframe tbody tr th:only-of-type {\n",
       "        vertical-align: middle;\n",
       "    }\n",
       "\n",
       "    .dataframe tbody tr th {\n",
       "        vertical-align: top;\n",
       "    }\n",
       "\n",
       "    .dataframe thead th {\n",
       "        text-align: right;\n",
       "    }\n",
       "</style>\n",
       "<table border=\"1\" class=\"dataframe\">\n",
       "  <thead>\n",
       "    <tr style=\"text-align: right;\">\n",
       "      <th></th>\n",
       "      <th>state_long</th>\n",
       "      <th>state</th>\n",
       "      <th>obesity</th>\n",
       "      <th>population</th>\n",
       "      <th>energy</th>\n",
       "    </tr>\n",
       "  </thead>\n",
       "  <tbody>\n",
       "    <tr>\n",
       "      <th>10</th>\n",
       "      <td>Hawaii</td>\n",
       "      <td>HI</td>\n",
       "      <td>25.0</td>\n",
       "      <td>1401709</td>\n",
       "      <td>192.730679</td>\n",
       "    </tr>\n",
       "    <tr>\n",
       "      <th>1</th>\n",
       "      <td>Alaska</td>\n",
       "      <td>AK</td>\n",
       "      <td>30.5</td>\n",
       "      <td>720763</td>\n",
       "      <td>197.826718</td>\n",
       "    </tr>\n",
       "    <tr>\n",
       "      <th>31</th>\n",
       "      <td>New York</td>\n",
       "      <td>NY</td>\n",
       "      <td>27.1</td>\n",
       "      <td>19223191</td>\n",
       "      <td>199.192885</td>\n",
       "    </tr>\n",
       "    <tr>\n",
       "      <th>46</th>\n",
       "      <td>Washington</td>\n",
       "      <td>WA</td>\n",
       "      <td>28.3</td>\n",
       "      <td>7887965</td>\n",
       "      <td>199.401039</td>\n",
       "    </tr>\n",
       "    <tr>\n",
       "      <th>49</th>\n",
       "      <td>Wyoming</td>\n",
       "      <td>WY</td>\n",
       "      <td>29.7</td>\n",
       "      <td>582233</td>\n",
       "      <td>200.093617</td>\n",
       "    </tr>\n",
       "    <tr>\n",
       "      <th>6</th>\n",
       "      <td>Connecticut</td>\n",
       "      <td>CT</td>\n",
       "      <td>29.1</td>\n",
       "      <td>3546588</td>\n",
       "      <td>201.323906</td>\n",
       "    </tr>\n",
       "    <tr>\n",
       "      <th>39</th>\n",
       "      <td>South Carolina</td>\n",
       "      <td>SC</td>\n",
       "      <td>35.4</td>\n",
       "      <td>5342388</td>\n",
       "      <td>201.850475</td>\n",
       "    </tr>\n",
       "    <tr>\n",
       "      <th>8</th>\n",
       "      <td>Florida</td>\n",
       "      <td>FL</td>\n",
       "      <td>27.0</td>\n",
       "      <td>22177997</td>\n",
       "      <td>201.871676</td>\n",
       "    </tr>\n",
       "    <tr>\n",
       "      <th>5</th>\n",
       "      <td>Colorado</td>\n",
       "      <td>CO</td>\n",
       "      <td>23.8</td>\n",
       "      <td>5961083</td>\n",
       "      <td>202.286818</td>\n",
       "    </tr>\n",
       "    <tr>\n",
       "      <th>25</th>\n",
       "      <td>Montana</td>\n",
       "      <td>MT</td>\n",
       "      <td>28.3</td>\n",
       "      <td>1093117</td>\n",
       "      <td>202.569845</td>\n",
       "    </tr>\n",
       "    <tr>\n",
       "      <th>27</th>\n",
       "      <td>Nevada</td>\n",
       "      <td>NV</td>\n",
       "      <td>30.6</td>\n",
       "      <td>3238601</td>\n",
       "      <td>202.813129</td>\n",
       "    </tr>\n",
       "    <tr>\n",
       "      <th>21</th>\n",
       "      <td>Michigan</td>\n",
       "      <td>MI</td>\n",
       "      <td>36.0</td>\n",
       "      <td>9995212</td>\n",
       "      <td>203.651862</td>\n",
       "    </tr>\n",
       "    <tr>\n",
       "      <th>16</th>\n",
       "      <td>Kentucky</td>\n",
       "      <td>KY</td>\n",
       "      <td>36.5</td>\n",
       "      <td>4487233</td>\n",
       "      <td>203.771025</td>\n",
       "    </tr>\n",
       "    <tr>\n",
       "      <th>14</th>\n",
       "      <td>Iowa</td>\n",
       "      <td>IA</td>\n",
       "      <td>33.9</td>\n",
       "      <td>3174426</td>\n",
       "      <td>204.378691</td>\n",
       "    </tr>\n",
       "    <tr>\n",
       "      <th>4</th>\n",
       "      <td>California</td>\n",
       "      <td>CA</td>\n",
       "      <td>26.3</td>\n",
       "      <td>39664128</td>\n",
       "      <td>204.681571</td>\n",
       "    </tr>\n",
       "    <tr>\n",
       "      <th>36</th>\n",
       "      <td>Oregon</td>\n",
       "      <td>OR</td>\n",
       "      <td>29.0</td>\n",
       "      <td>4325290</td>\n",
       "      <td>205.244864</td>\n",
       "    </tr>\n",
       "    <tr>\n",
       "      <th>19</th>\n",
       "      <td>Maryland</td>\n",
       "      <td>MD</td>\n",
       "      <td>32.3</td>\n",
       "      <td>6075314</td>\n",
       "      <td>205.337607</td>\n",
       "    </tr>\n",
       "    <tr>\n",
       "      <th>29</th>\n",
       "      <td>New Jersey</td>\n",
       "      <td>NJ</td>\n",
       "      <td>27.3</td>\n",
       "      <td>8870685</td>\n",
       "      <td>205.369294</td>\n",
       "    </tr>\n",
       "    <tr>\n",
       "      <th>45</th>\n",
       "      <td>Virginia</td>\n",
       "      <td>VA</td>\n",
       "      <td>31.9</td>\n",
       "      <td>8638218</td>\n",
       "      <td>205.785155</td>\n",
       "    </tr>\n",
       "    <tr>\n",
       "      <th>18</th>\n",
       "      <td>Maine</td>\n",
       "      <td>ME</td>\n",
       "      <td>31.7</td>\n",
       "      <td>1359677</td>\n",
       "      <td>205.861353</td>\n",
       "    </tr>\n",
       "    <tr>\n",
       "      <th>30</th>\n",
       "      <td>New Mexico</td>\n",
       "      <td>NM</td>\n",
       "      <td>31.7</td>\n",
       "      <td>2109093</td>\n",
       "      <td>206.729702</td>\n",
       "    </tr>\n",
       "    <tr>\n",
       "      <th>20</th>\n",
       "      <td>Massachusetts</td>\n",
       "      <td>MA</td>\n",
       "      <td>25.2</td>\n",
       "      <td>6922107</td>\n",
       "      <td>206.862014</td>\n",
       "    </tr>\n",
       "    <tr>\n",
       "      <th>48</th>\n",
       "      <td>Wisconsin</td>\n",
       "      <td>WI</td>\n",
       "      <td>34.2</td>\n",
       "      <td>5867518</td>\n",
       "      <td>206.977330</td>\n",
       "    </tr>\n",
       "    <tr>\n",
       "      <th>12</th>\n",
       "      <td>Illinois</td>\n",
       "      <td>IL</td>\n",
       "      <td>31.6</td>\n",
       "      <td>12518071</td>\n",
       "      <td>207.754616</td>\n",
       "    </tr>\n",
       "    <tr>\n",
       "      <th>37</th>\n",
       "      <td>Pennsylvania</td>\n",
       "      <td>PA</td>\n",
       "      <td>33.2</td>\n",
       "      <td>12805190</td>\n",
       "      <td>208.009216</td>\n",
       "    </tr>\n",
       "    <tr>\n",
       "      <th>32</th>\n",
       "      <td>North Carolina</td>\n",
       "      <td>NC</td>\n",
       "      <td>34.0</td>\n",
       "      <td>10807491</td>\n",
       "      <td>208.100045</td>\n",
       "    </tr>\n",
       "    <tr>\n",
       "      <th>2</th>\n",
       "      <td>Arizona</td>\n",
       "      <td>AZ</td>\n",
       "      <td>31.4</td>\n",
       "      <td>7640796</td>\n",
       "      <td>208.108498</td>\n",
       "    </tr>\n",
       "    <tr>\n",
       "      <th>47</th>\n",
       "      <td>West Virginia</td>\n",
       "      <td>WV</td>\n",
       "      <td>39.7</td>\n",
       "      <td>1755715</td>\n",
       "      <td>208.247773</td>\n",
       "    </tr>\n",
       "    <tr>\n",
       "      <th>22</th>\n",
       "      <td>Minnesota</td>\n",
       "      <td>MN</td>\n",
       "      <td>30.1</td>\n",
       "      <td>5739781</td>\n",
       "      <td>208.527322</td>\n",
       "    </tr>\n",
       "    <tr>\n",
       "      <th>34</th>\n",
       "      <td>Ohio</td>\n",
       "      <td>OH</td>\n",
       "      <td>34.8</td>\n",
       "      <td>11727377</td>\n",
       "      <td>208.613183</td>\n",
       "    </tr>\n",
       "    <tr>\n",
       "      <th>17</th>\n",
       "      <td>Louisiana</td>\n",
       "      <td>LA</td>\n",
       "      <td>35.9</td>\n",
       "      <td>4616106</td>\n",
       "      <td>209.595710</td>\n",
       "    </tr>\n",
       "    <tr>\n",
       "      <th>9</th>\n",
       "      <td>Georgia</td>\n",
       "      <td>GA</td>\n",
       "      <td>33.1</td>\n",
       "      <td>10936299</td>\n",
       "      <td>209.597050</td>\n",
       "    </tr>\n",
       "    <tr>\n",
       "      <th>24</th>\n",
       "      <td>Missouri</td>\n",
       "      <td>MO</td>\n",
       "      <td>34.8</td>\n",
       "      <td>6184843</td>\n",
       "      <td>210.149910</td>\n",
       "    </tr>\n",
       "    <tr>\n",
       "      <th>43</th>\n",
       "      <td>Utah</td>\n",
       "      <td>UT</td>\n",
       "      <td>29.2</td>\n",
       "      <td>3363182</td>\n",
       "      <td>210.910789</td>\n",
       "    </tr>\n",
       "    <tr>\n",
       "      <th>23</th>\n",
       "      <td>Mississippi</td>\n",
       "      <td>MS</td>\n",
       "      <td>40.8</td>\n",
       "      <td>2961536</td>\n",
       "      <td>210.996808</td>\n",
       "    </tr>\n",
       "    <tr>\n",
       "      <th>28</th>\n",
       "      <td>New Hampshire</td>\n",
       "      <td>NH</td>\n",
       "      <td>31.8</td>\n",
       "      <td>1378449</td>\n",
       "      <td>211.224343</td>\n",
       "    </tr>\n",
       "    <tr>\n",
       "      <th>35</th>\n",
       "      <td>Oklahoma</td>\n",
       "      <td>OK</td>\n",
       "      <td>36.8</td>\n",
       "      <td>4007179</td>\n",
       "      <td>211.565634</td>\n",
       "    </tr>\n",
       "    <tr>\n",
       "      <th>7</th>\n",
       "      <td>Delaware</td>\n",
       "      <td>DE</td>\n",
       "      <td>34.4</td>\n",
       "      <td>998619</td>\n",
       "      <td>212.489683</td>\n",
       "    </tr>\n",
       "    <tr>\n",
       "      <th>41</th>\n",
       "      <td>Tennessee</td>\n",
       "      <td>TN</td>\n",
       "      <td>36.5</td>\n",
       "      <td>7001803</td>\n",
       "      <td>212.712849</td>\n",
       "    </tr>\n",
       "    <tr>\n",
       "      <th>38</th>\n",
       "      <td>Rhode Island</td>\n",
       "      <td>RI</td>\n",
       "      <td>30.0</td>\n",
       "      <td>1062583</td>\n",
       "      <td>212.955311</td>\n",
       "    </tr>\n",
       "    <tr>\n",
       "      <th>42</th>\n",
       "      <td>Texas</td>\n",
       "      <td>TX</td>\n",
       "      <td>34.0</td>\n",
       "      <td>30097526</td>\n",
       "      <td>213.256224</td>\n",
       "    </tr>\n",
       "    <tr>\n",
       "      <th>13</th>\n",
       "      <td>Indiana</td>\n",
       "      <td>IN</td>\n",
       "      <td>35.3</td>\n",
       "      <td>6842385</td>\n",
       "      <td>213.306546</td>\n",
       "    </tr>\n",
       "    <tr>\n",
       "      <th>0</th>\n",
       "      <td>Alabama</td>\n",
       "      <td>AL</td>\n",
       "      <td>36.1</td>\n",
       "      <td>4949697</td>\n",
       "      <td>214.491647</td>\n",
       "    </tr>\n",
       "    <tr>\n",
       "      <th>33</th>\n",
       "      <td>North Dakota</td>\n",
       "      <td>ND</td>\n",
       "      <td>34.8</td>\n",
       "      <td>774008</td>\n",
       "      <td>215.340260</td>\n",
       "    </tr>\n",
       "    <tr>\n",
       "      <th>3</th>\n",
       "      <td>Arkansas</td>\n",
       "      <td>AR</td>\n",
       "      <td>37.4</td>\n",
       "      <td>3042017</td>\n",
       "      <td>215.836862</td>\n",
       "    </tr>\n",
       "    <tr>\n",
       "      <th>44</th>\n",
       "      <td>Vermont</td>\n",
       "      <td>VT</td>\n",
       "      <td>26.6</td>\n",
       "      <td>622882</td>\n",
       "      <td>216.207197</td>\n",
       "    </tr>\n",
       "    <tr>\n",
       "      <th>15</th>\n",
       "      <td>Kansas</td>\n",
       "      <td>KS</td>\n",
       "      <td>35.2</td>\n",
       "      <td>2919179</td>\n",
       "      <td>217.614478</td>\n",
       "    </tr>\n",
       "    <tr>\n",
       "      <th>26</th>\n",
       "      <td>Nebraska</td>\n",
       "      <td>NE</td>\n",
       "      <td>34.1</td>\n",
       "      <td>1960790</td>\n",
       "      <td>218.022436</td>\n",
       "    </tr>\n",
       "    <tr>\n",
       "      <th>40</th>\n",
       "      <td>South Dakota</td>\n",
       "      <td>SD</td>\n",
       "      <td>33.0</td>\n",
       "      <td>902542</td>\n",
       "      <td>222.773266</td>\n",
       "    </tr>\n",
       "    <tr>\n",
       "      <th>11</th>\n",
       "      <td>Idaho</td>\n",
       "      <td>ID</td>\n",
       "      <td>29.5</td>\n",
       "      <td>1896652</td>\n",
       "      <td>223.159940</td>\n",
       "    </tr>\n",
       "  </tbody>\n",
       "</table>\n",
       "</div>"
      ],
      "text/plain": [
       "        state_long state  obesity  population      energy\n",
       "10          Hawaii    HI     25.0     1401709  192.730679\n",
       "1           Alaska    AK     30.5      720763  197.826718\n",
       "31        New York    NY     27.1    19223191  199.192885\n",
       "46      Washington    WA     28.3     7887965  199.401039\n",
       "49         Wyoming    WY     29.7      582233  200.093617\n",
       "6      Connecticut    CT     29.1     3546588  201.323906\n",
       "39  South Carolina    SC     35.4     5342388  201.850475\n",
       "8          Florida    FL     27.0    22177997  201.871676\n",
       "5         Colorado    CO     23.8     5961083  202.286818\n",
       "25         Montana    MT     28.3     1093117  202.569845\n",
       "27          Nevada    NV     30.6     3238601  202.813129\n",
       "21        Michigan    MI     36.0     9995212  203.651862\n",
       "16        Kentucky    KY     36.5     4487233  203.771025\n",
       "14            Iowa    IA     33.9     3174426  204.378691\n",
       "4       California    CA     26.3    39664128  204.681571\n",
       "36          Oregon    OR     29.0     4325290  205.244864\n",
       "19        Maryland    MD     32.3     6075314  205.337607\n",
       "29      New Jersey    NJ     27.3     8870685  205.369294\n",
       "45        Virginia    VA     31.9     8638218  205.785155\n",
       "18           Maine    ME     31.7     1359677  205.861353\n",
       "30      New Mexico    NM     31.7     2109093  206.729702\n",
       "20   Massachusetts    MA     25.2     6922107  206.862014\n",
       "48       Wisconsin    WI     34.2     5867518  206.977330\n",
       "12        Illinois    IL     31.6    12518071  207.754616\n",
       "37    Pennsylvania    PA     33.2    12805190  208.009216\n",
       "32  North Carolina    NC     34.0    10807491  208.100045\n",
       "2          Arizona    AZ     31.4     7640796  208.108498\n",
       "47   West Virginia    WV     39.7     1755715  208.247773\n",
       "22       Minnesota    MN     30.1     5739781  208.527322\n",
       "34            Ohio    OH     34.8    11727377  208.613183\n",
       "17       Louisiana    LA     35.9     4616106  209.595710\n",
       "9          Georgia    GA     33.1    10936299  209.597050\n",
       "24        Missouri    MO     34.8     6184843  210.149910\n",
       "43            Utah    UT     29.2     3363182  210.910789\n",
       "23     Mississippi    MS     40.8     2961536  210.996808\n",
       "28   New Hampshire    NH     31.8     1378449  211.224343\n",
       "35        Oklahoma    OK     36.8     4007179  211.565634\n",
       "7         Delaware    DE     34.4      998619  212.489683\n",
       "41       Tennessee    TN     36.5     7001803  212.712849\n",
       "38    Rhode Island    RI     30.0     1062583  212.955311\n",
       "42           Texas    TX     34.0    30097526  213.256224\n",
       "13         Indiana    IN     35.3     6842385  213.306546\n",
       "0          Alabama    AL     36.1     4949697  214.491647\n",
       "33    North Dakota    ND     34.8      774008  215.340260\n",
       "3         Arkansas    AR     37.4     3042017  215.836862\n",
       "44         Vermont    VT     26.6      622882  216.207197\n",
       "15          Kansas    KS     35.2     2919179  217.614478\n",
       "26        Nebraska    NE     34.1     1960790  218.022436\n",
       "40    South Dakota    SD     33.0      902542  222.773266\n",
       "11           Idaho    ID     29.5     1896652  223.159940"
      ]
     },
     "execution_count": 35,
     "metadata": {},
     "output_type": "execute_result"
    }
   ],
   "source": [
    "# Merge the information about the tweet calories and state obesity rate\n",
    "stateobesity_tweetcalories = stateobesity.merge(tweet_calorie_average, on=\"state\")\n",
    "stateobesity_tweetcalories.sort_values(by=\"energy\")"
   ]
  },
  {
   "cell_type": "code",
   "execution_count": 36,
   "metadata": {
    "colab": {
     "base_uri": "https://localhost:8080/"
    },
    "executionInfo": {
     "elapsed": 4,
     "status": "ok",
     "timestamp": 1657633379955,
     "user": {
      "displayName": "Yelena Mejova",
      "userId": "11766611928577248962"
     },
     "user_tz": -120
    },
    "id": "UFsGBaqpCyq6",
    "outputId": "ab1d43be-1677-4896-e960-f221e031f72a"
   },
   "outputs": [
    {
     "data": {
      "text/plain": [
       "(0.4199245892234854, 0.0023980906034028926)"
      ]
     },
     "execution_count": 36,
     "metadata": {},
     "output_type": "execute_result"
    }
   ],
   "source": [
    "# Compute Pearson correlation using scipy (gives correlation & p-value)\n",
    "stats.pearsonr(stateobesity_tweetcalories.obesity, stateobesity_tweetcalories.energy)"
   ]
  },
  {
   "cell_type": "markdown",
   "metadata": {
    "id": "erOliFvgFk24"
   },
   "source": [
    "### Plotting the comparison"
   ]
  },
  {
   "cell_type": "code",
   "execution_count": 37,
   "metadata": {
    "id": "QqPbWDw4CFFA"
   },
   "outputs": [],
   "source": [
    "# Compute a linear regression line\n",
    "from sklearn.linear_model import LinearRegression\n",
    "linear_regressor = LinearRegression()\n",
    "X = stateobesity_tweetcalories.obesity.values.reshape(-1, 1)\n",
    "Y = stateobesity_tweetcalories.energy.values.reshape(-1, 1)\n",
    "linear_regressor.fit(X, Y)\n",
    "Y_pred = linear_regressor.predict(X)"
   ]
  },
  {
   "cell_type": "code",
   "execution_count": 38,
   "metadata": {
    "colab": {
     "base_uri": "https://localhost:8080/",
     "height": 279
    },
    "executionInfo": {
     "elapsed": 492,
     "status": "ok",
     "timestamp": 1657633675887,
     "user": {
      "displayName": "Yelena Mejova",
      "userId": "11766611928577248962"
     },
     "user_tz": -120
    },
    "id": "leEbvRg4eQWr",
    "outputId": "b8f6778d-5be9-45f6-fb52-38d3ca6f1162"
   },
   "outputs": [
    {
     "data": {
      "image/png": "[encoded data removed]",
      "text/plain": [
       "<Figure size 432x288 with 1 Axes>"
      ]
     },
     "metadata": {
      "needs_background": "light"
     },
     "output_type": "display_data"
    }
   ],
   "source": [
    "# Plot the obesity vs energy and plot the line\n",
    "stateobesity_tweetcalories.plot.scatter(x = \"obesity\", y = \"energy\", c = \"white\")\n",
    "for x,y,l in zip(stateobesity_tweetcalories.obesity, stateobesity_tweetcalories.energy, stateobesity_tweetcalories.state):\n",
    "    plt.annotate(l, (x,y), textcoords=\"offset points\", xytext=(0,-2), ha='center') \n",
    "plt.plot(X, Y_pred, color='red')\n",
    "plt.show()"
   ]
  },
  {
   "cell_type": "code",
   "execution_count": null,
   "metadata": {
    "id": "pNbAppw3rU_0"
   },
   "outputs": [],
   "source": []
  },
  {
   "cell_type": "code",
   "execution_count": null,
   "metadata": {
    "id": "4QsHbScpDZKp"
   },
   "outputs": [],
   "source": []
  },
  {
   "cell_type": "code",
   "execution_count": null,
   "metadata": {
    "id": "IDftB1eaDfyC"
   },
   "outputs": [],
   "source": []
  }
 ],
 "metadata": {
  "colab": {
   "authorship_tag": "ABX9TyNlza5yJ+ul0JoMY4thNsAZ",
   "collapsed_sections": [],
   "name": "Obesity.ipynb",
   "provenance": [],
   "toc_visible": true
  },
  "kernelspec": {
   "display_name": "Python 3 (ipykernel)",
   "language": "python",
   "name": "python3"
  },
  "language_info": {
   "codemirror_mode": {
    "name": "ipython",
    "version": 3
   },
   "file_extension": ".py",
   "mimetype": "text/x-python",
   "name": "python",
   "nbconvert_exporter": "python",
   "pygments_lexer": "ipython3",
   "version": "3.9.13"
  }
 },
 "nbformat": 4,
 "nbformat_minor": 1
}
