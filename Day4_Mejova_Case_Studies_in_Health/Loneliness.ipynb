{
 "cells": [
  {
   "cell_type": "code",
   "execution_count": 1,
   "metadata": {
    "colab": {
     "base_uri": "https://localhost:8080/"
    },
    "executionInfo": {
     "elapsed": 2480,
     "status": "ok",
     "timestamp": 1658159810348,
     "user": {
      "displayName": "Yelena Mejova",
      "userId": "11766611928577248962"
     },
     "user_tz": -120
    },
    "id": "PrlEBXaVN1a2",
    "outputId": "1b51a1f0-5f5d-4751-ac4a-90afa9e6e21b"
   },
   "outputs": [
    {
     "data": {
      "text/html": [
       "<style>.container { width:100% !important; }</style>"
      ],
      "text/plain": [
       "<IPython.core.display.HTML object>"
      ]
     },
     "metadata": {},
     "output_type": "display_data"
    }
   ],
   "source": [
    "from datetime import datetime, date\n",
    "import pandas as pd\n",
    "import numpy as np\n",
    "from scipy import stats\n",
    "import matplotlib.pyplot as plt\n",
    "from nltk.tokenize import RegexpTokenizer\n",
    "from nltk.corpus import stopwords\n",
    "from collections import Counter\n",
    "from sklearn.feature_extraction.text import CountVectorizer\n",
    "from sklearn import svm\n",
    "from sklearn.model_selection import cross_val_score\n",
    "import statsmodels.formula.api as smf\n",
    "import re, os, nltk, math, csv, json, scipy, string\n",
    "\n",
    "from IPython.core.display import display, HTML\n",
    "display(HTML(\"<style>.container { width:100% !important; }</style>\"))"
   ]
  },
  {
   "cell_type": "code",
   "execution_count": 2,
   "metadata": {
    "colab": {
     "base_uri": "https://localhost:8080/"
    },
    "executionInfo": {
     "elapsed": 21557,
     "status": "ok",
     "timestamp": 1658159831902,
     "user": {
      "displayName": "Yelena Mejova",
      "userId": "11766611928577248962"
     },
     "user_tz": -120
    },
    "id": "Vo1U-1GdOSJg",
    "outputId": "4cf8b5fe-2217-41ce-f0a8-24f7fca3257b"
   },
   "outputs": [
    {
     "name": "stdout",
     "output_type": "stream",
     "text": [
      "Mounted at /content/drive\n"
     ]
    }
   ],
   "source": [
    "# Google Drive - This will prompt you to click a link to authorize\n",
    "# (don't execute if running on own machine)\n",
    "from google.colab import drive, auth, files\n",
    "from oauth2client.client import GoogleCredentials\n",
    "drive.mount('/content/drive')"
   ]
  },
  {
   "cell_type": "code",
   "execution_count": 3,
   "metadata": {
    "colab": {
     "base_uri": "https://localhost:8080/"
    },
    "collapsed": true,
    "executionInfo": {
     "elapsed": 1066,
     "status": "ok",
     "timestamp": 1658159832966,
     "user": {
      "displayName": "Yelena Mejova",
      "userId": "11766611928577248962"
     },
     "user_tz": -120
    },
    "id": "4qdth3HHOT-o",
    "outputId": "71233439-0601-4b5d-98cc-b3fed330d092"
   },
   "outputs": [
    {
     "data": {
      "text/plain": [
       "['Data',\n",
       " 'Resources_geolocation',\n",
       " 'Resources_nutrition',\n",
       " 'Resources_sentiment',\n",
       " 'Obesity.ipynb',\n",
       " 'MentalHealth.ipynb',\n",
       " 'Loneliness.ipynb']"
      ]
     },
     "execution_count": 3,
     "metadata": {},
     "output_type": "execute_result"
    }
   ],
   "source": [
    "# Google Drive - Navigate to directory\n",
    "# (don't execute if running on own machine)\n",
    "os.chdir('drive/MyDrive/SocialComQuant22/')\n",
    "os.listdir('.')"
   ]
  },
  {
   "cell_type": "markdown",
   "metadata": {
    "id": "7Ds5H3eXOdZ8"
   },
   "source": [
    "# NLP for health -- loneliness and change over time\n",
    "\n",
    "Sometimes we want to track a development of health-related variables over time, and detect then they change.\n",
    "\n",
    "1. Classifying loneliness\n",
    "2. Interrupted time series analysis"
   ]
  },
  {
   "cell_type": "markdown",
   "metadata": {
    "id": "d6UrFK7-QBrw"
   },
   "source": [
    "# 3.1 Text classification"
   ]
  },
  {
   "cell_type": "code",
   "execution_count": 2,
   "metadata": {
    "colab": {
     "base_uri": "https://localhost:8080/"
    },
    "executionInfo": {
     "elapsed": 612,
     "status": "ok",
     "timestamp": 1657896023740,
     "user": {
      "displayName": "Yelena Mejova",
      "userId": "11766611928577248962"
     },
     "user_tz": -120
    },
    "id": "tFFO6vT0P-JB",
    "outputId": "a9524387-adc8-4f47-d531-e16ec26cc40f"
   },
   "outputs": [
    {
     "data": {
      "text/plain": [
       "(1355, 2)"
      ]
     },
     "execution_count": 2,
     "metadata": {},
     "output_type": "execute_result"
    }
   ],
   "source": [
    "# Read in tweets that have been classified for whether or not they are self-disclosures of loneliness\n",
    "tweets_loneliness_training = pd.read_csv(\"Data/loneliness_training.tsv\", sep=\"\\t\", lineterminator='\\n',\n",
    "                  low_memory=False, quoting=csv.QUOTE_NONE, escapechar=None, header=None, \n",
    "                  names=[\"text\", \"disclosure\"], dtype={'id': object})\n",
    "tweets_loneliness_training.shape"
   ]
  },
  {
   "cell_type": "code",
   "execution_count": 3,
   "metadata": {
    "colab": {
     "base_uri": "https://localhost:8080/",
     "height": 320
    },
    "executionInfo": {
     "elapsed": 7,
     "status": "ok",
     "timestamp": 1657896025493,
     "user": {
      "displayName": "Yelena Mejova",
      "userId": "11766611928577248962"
     },
     "user_tz": -120
    },
    "id": "n5dVO10qOZNL",
    "outputId": "811c9ee2-06dc-4534-cf86-d24f60fe8b07"
   },
   "outputs": [
    {
     "data": {
      "text/html": [
       "<div>\n",
       "<style scoped>\n",
       "    .dataframe tbody tr th:only-of-type {\n",
       "        vertical-align: middle;\n",
       "    }\n",
       "\n",
       "    .dataframe tbody tr th {\n",
       "        vertical-align: top;\n",
       "    }\n",
       "\n",
       "    .dataframe thead th {\n",
       "        text-align: right;\n",
       "    }\n",
       "</style>\n",
       "<table border=\"1\" class=\"dataframe\">\n",
       "  <thead>\n",
       "    <tr style=\"text-align: right;\">\n",
       "      <th></th>\n",
       "      <th>text</th>\n",
       "      <th>disclosure</th>\n",
       "    </tr>\n",
       "  </thead>\n",
       "  <tbody>\n",
       "    <tr>\n",
       "      <th>0</th>\n",
       "      <td>“do you ever get lonely?” “of course not. i remain lonely” 😂</td>\n",
       "      <td>Self-Disclosure</td>\n",
       "    </tr>\n",
       "    <tr>\n",
       "      <th>1</th>\n",
       "      <td>@HeresyAndDemise Ahhh.  Well.  She’ll just plop herself into the Avenger’s lap. There. She has a neet to not be so lonely now..!</td>\n",
       "      <td>Irrelevant</td>\n",
       "    </tr>\n",
       "    <tr>\n",
       "      <th>2</th>\n",
       "      <td>I’m mad my dawg moved out of state. Now all I do is face woods by my lonely.</td>\n",
       "      <td>Self-Disclosure</td>\n",
       "    </tr>\n",
       "    <tr>\n",
       "      <th>3</th>\n",
       "      <td>@PolhomeEditor TM lost control a long time ago, she has huge divisions within the Tory Party, now she dictates from a lonely place. Corbyn has got many MPs on his side (Margaret Becket for example) that is why a small number of anti Corbyn MPs have splintered.</td>\n",
       "      <td>Irrelevant</td>\n",
       "    </tr>\n",
       "    <tr>\n",
       "      <th>4</th>\n",
       "      <td>@DrAmirKhanGP I had an teen girl in once post suicide attempt. She was unaccompanied; scared and lonely and not eating much at all.I ordered us some McDonald's via deliveroo to share by her bed.Yes it's unhealthy but just then she needed someone to show they cared.That and chicken nuggets.</td>\n",
       "      <td>Irrelevant</td>\n",
       "    </tr>\n",
       "  </tbody>\n",
       "</table>\n",
       "</div>"
      ],
      "text/plain": [
       "                                                                                                                                                                                                                                                                                                 text  \\\n",
       "0                                                                                                                                                                                                                                        “do you ever get lonely?” “of course not. i remain lonely” 😂   \n",
       "1                                                                                                                                                                    @HeresyAndDemise Ahhh.  Well.  She’ll just plop herself into the Avenger’s lap. There. She has a neet to not be so lonely now..!   \n",
       "2                                                                                                                                                                                                                        I’m mad my dawg moved out of state. Now all I do is face woods by my lonely.   \n",
       "3                                @PolhomeEditor TM lost control a long time ago, she has huge divisions within the Tory Party, now she dictates from a lonely place. Corbyn has got many MPs on his side (Margaret Becket for example) that is why a small number of anti Corbyn MPs have splintered.   \n",
       "4  @DrAmirKhanGP I had an teen girl in once post suicide attempt. She was unaccompanied; scared and lonely and not eating much at all.I ordered us some McDonald's via deliveroo to share by her bed.Yes it's unhealthy but just then she needed someone to show they cared.That and chicken nuggets.   \n",
       "\n",
       "        disclosure  \n",
       "0  Self-Disclosure  \n",
       "1       Irrelevant  \n",
       "2  Self-Disclosure  \n",
       "3       Irrelevant  \n",
       "4       Irrelevant  "
      ]
     },
     "execution_count": 3,
     "metadata": {},
     "output_type": "execute_result"
    }
   ],
   "source": [
    "pd.options.display.max_colwidth = 1000\n",
    "tweets_loneliness_training.head()"
   ]
  },
  {
   "cell_type": "code",
   "execution_count": 4,
   "metadata": {
    "colab": {
     "base_uri": "https://localhost:8080/"
    },
    "executionInfo": {
     "elapsed": 221,
     "status": "ok",
     "timestamp": 1657896031389,
     "user": {
      "displayName": "Yelena Mejova",
      "userId": "11766611928577248962"
     },
     "user_tz": -120
    },
    "id": "wgxZdeq5Rhn4",
    "outputId": "2629007a-5d1a-4b16-bedd-60ecf5807c4c"
   },
   "outputs": [
    {
     "data": {
      "text/plain": [
       "Self-Disclosure    711\n",
       "Irrelevant         644\n",
       "Name: disclosure, dtype: int64"
      ]
     },
     "execution_count": 4,
     "metadata": {},
     "output_type": "execute_result"
    }
   ],
   "source": [
    "tweets_loneliness_training.disclosure.value_counts()"
   ]
  },
  {
   "cell_type": "code",
   "execution_count": 5,
   "metadata": {
    "executionInfo": {
     "elapsed": 224,
     "status": "ok",
     "timestamp": 1657896155886,
     "user": {
      "displayName": "Yelena Mejova",
      "userId": "11766611928577248962"
     },
     "user_tz": -120
    },
    "id": "edF8Msg8Tuhv"
   },
   "outputs": [],
   "source": [
    "# Do initial cleaning of the text\n",
    "\n",
    "# Function to clean the text\n",
    "re_url = re.compile(r'https?:\\/\\/.*[\\r\\n]*', flags=re.U)\n",
    "re_rtw = re.compile(r'RT', flags=re.U)\n",
    "re_htg = re.compile(r'#', flags=re.U) # remove hashtag sign\n",
    "#re_htg = re.compile(r'#[\\w]+ ?', flags=re.U)   # remove hashtags\n",
    "re_hnd = re.compile(r'@\\w+ ?', flags=re.U)\n",
    "re_wrd = re.compile(r'[^\\w]+ ', flags=re.U)\n",
    "re_num = re.compile(r'[0-9]+', flags=re.U)\n",
    "\n",
    "def cleantext(txt):\n",
    "    t = txt\n",
    "    t = re_url.sub('', t)\n",
    "    t = re_htg.sub('', t)\n",
    "    t = re_rtw.sub(' ', t)\n",
    "    t = re_hnd.sub(' ', t)\n",
    "    t = re_wrd.sub(' ', t)\n",
    "    t = re_num.sub(' ', t)\n",
    "    \n",
    "    return t.strip().lower()\n",
    "\n",
    "tweets_loneliness_training[\"text_clean\"] = tweets_loneliness_training.text.apply(lambda x: cleantext(x))"
   ]
  },
  {
   "cell_type": "code",
   "execution_count": 6,
   "metadata": {
    "executionInfo": {
     "elapsed": 320,
     "status": "ok",
     "timestamp": 1657897756154,
     "user": {
      "displayName": "Yelena Mejova",
      "userId": "11766611928577248962"
     },
     "user_tz": -120
    },
    "id": "tI2kZQAlTKPJ"
   },
   "outputs": [],
   "source": [
    "# Calculate term vector features\n",
    "cv = CountVectorizer(ngram_range=(1,3))  # 1 - 3 grams\n",
    "featurematrix = cv.fit_transform(tweets_loneliness_training[\"text_clean\"])"
   ]
  },
  {
   "cell_type": "code",
   "execution_count": 7,
   "metadata": {
    "executionInfo": {
     "elapsed": 3,
     "status": "ok",
     "timestamp": 1657897756842,
     "user": {
      "displayName": "Yelena Mejova",
      "userId": "11766611928577248962"
     },
     "user_tz": -120
    },
    "id": "HDQpyaWrT9ww"
   },
   "outputs": [],
   "source": [
    "# Compute additional features\n",
    "\n",
    "# Whether or not the tweet is directed to a particular user\n",
    "tweets_loneliness_training[\"f_direct\"] = tweets_loneliness_training.text.str.startswith(\"@\").astype(int)\n",
    "featurematrix = scipy.sparse.hstack((featurematrix, np.asmatrix(tweets_loneliness_training[\"f_direct\"]).T))\n",
    "# How many letters are upper case\n",
    "tweets_loneliness_training[\"f_caps\"] = tweets_loneliness_training[\"text\"].apply(lambda x: sum(1 for c in x if c.isupper()) / len(x))  \n",
    "featurematrix = scipy.sparse.hstack((featurematrix, np.asmatrix(tweets_loneliness_training[\"f_caps\"]).T))\n",
    "# How many letters are punctuation\n",
    "tweets_loneliness_training[\"f_punc\"] = tweets_loneliness_training[\"text\"].apply(lambda x: math.log(sum([1 for c in x if c in string.punctuation])+1))\n",
    "featurematrix = scipy.sparse.hstack((featurematrix, np.asmatrix(tweets_loneliness_training[\"f_punc\"]).T))"
   ]
  },
  {
   "cell_type": "code",
   "execution_count": 8,
   "metadata": {
    "colab": {
     "base_uri": "https://localhost:8080/"
    },
    "executionInfo": {
     "elapsed": 4,
     "status": "ok",
     "timestamp": 1657897757829,
     "user": {
      "displayName": "Yelena Mejova",
      "userId": "11766611928577248962"
     },
     "user_tz": -120
    },
    "id": "11sQ7Cm2Uk6e",
    "outputId": "58e033d0-ce1d-487c-f322-142e0612f4af"
   },
   "outputs": [
    {
     "data": {
      "text/plain": [
       "0.5247232472324723"
      ]
     },
     "execution_count": 8,
     "metadata": {},
     "output_type": "execute_result"
    }
   ],
   "source": [
    "# Output variable\n",
    "y = (tweets_loneliness_training.disclosure == 'Self-Disclosure').astype(int)\n",
    "y.mean()"
   ]
  },
  {
   "cell_type": "code",
   "execution_count": 9,
   "metadata": {
    "executionInfo": {
     "elapsed": 2,
     "status": "ok",
     "timestamp": 1657897758727,
     "user": {
      "displayName": "Yelena Mejova",
      "userId": "11766611928577248962"
     },
     "user_tz": -120
    },
    "id": "_rbpnBqZVCsk"
   },
   "outputs": [],
   "source": [
    "# Build a model -- here an SVM\n",
    "model = svm.SVC(class_weight=\"balanced\", kernel='rbf', gamma=0.0001, C=1000)"
   ]
  },
  {
   "cell_type": "code",
   "execution_count": 10,
   "metadata": {
    "colab": {
     "base_uri": "https://localhost:8080/"
    },
    "executionInfo": {
     "elapsed": 6123,
     "status": "ok",
     "timestamp": 1657897765744,
     "user": {
      "displayName": "Yelena Mejova",
      "userId": "11766611928577248962"
     },
     "user_tz": -120
    },
    "id": "xA3y8kObVNtP",
    "outputId": "2674b93b-1f86-4962-a136-9c0e09fa2ca4"
   },
   "outputs": [
    {
     "name": "stdout",
     "output_type": "stream",
     "text": [
      "0.721771217712177\n",
      "0.7094486312847825\n",
      "0.8200827341672412\n"
     ]
    }
   ],
   "source": [
    "# Evaluate it\n",
    "print(cross_val_score(model, featurematrix, y, scoring=\"accuracy\").mean())\n",
    "print(cross_val_score(model, featurematrix, y, scoring=\"precision\").mean())\n",
    "print(cross_val_score(model, featurematrix, y, scoring=\"recall\").mean())"
   ]
  },
  {
   "cell_type": "code",
   "execution_count": 11,
   "metadata": {
    "colab": {
     "base_uri": "https://localhost:8080/"
    },
    "executionInfo": {
     "elapsed": 662,
     "status": "ok",
     "timestamp": 1657897767594,
     "user": {
      "displayName": "Yelena Mejova",
      "userId": "11766611928577248962"
     },
     "user_tz": -120
    },
    "id": "8dnReggXVaV1",
    "outputId": "264fd739-96cc-4edc-e895-9164e8856a4b"
   },
   "outputs": [
    {
     "data": {
      "text/plain": [
       "SVC(C=1000, class_weight='balanced', gamma=0.0001)"
      ]
     },
     "execution_count": 11,
     "metadata": {},
     "output_type": "execute_result"
    }
   ],
   "source": [
    "# Train the model using all of the training sets\n",
    "model.fit(featurematrix, y)"
   ]
  },
  {
   "cell_type": "code",
   "execution_count": 12,
   "metadata": {
    "colab": {
     "base_uri": "https://localhost:8080/"
    },
    "executionInfo": {
     "elapsed": 248,
     "status": "ok",
     "timestamp": 1657900590977,
     "user": {
      "displayName": "Yelena Mejova",
      "userId": "11766611928577248962"
     },
     "user_tz": -120
    },
    "id": "1RcRNtMeVz9X",
    "outputId": "0a41725e-07f2-4d73-d92d-69c42eda132a"
   },
   "outputs": [
    {
     "data": {
      "text/plain": [
       "(21598, 1)"
      ]
     },
     "execution_count": 12,
     "metadata": {},
     "output_type": "execute_result"
    }
   ],
   "source": [
    "# Apply to a raw data file of possible self disclosures\n",
    "tweets_loneliness_day = pd.read_csv(\"Data/loneliness_day_sample.tsv\", sep=\"\\t\", lineterminator='\\n',\n",
    "                  low_memory=False, quoting=csv.QUOTE_NONE, escapechar=None, header=None, \n",
    "                  names=[\"text\"], dtype={'id': object})\n",
    "tweets_loneliness_day.shape"
   ]
  },
  {
   "cell_type": "code",
   "execution_count": 13,
   "metadata": {
    "colab": {
     "base_uri": "https://localhost:8080/"
    },
    "executionInfo": {
     "elapsed": 225,
     "status": "ok",
     "timestamp": 1657897838057,
     "user": {
      "displayName": "Yelena Mejova",
      "userId": "11766611928577248962"
     },
     "user_tz": -120
    },
    "id": "Ydjkt8ShaPmA",
    "outputId": "503f9d36-ccf5-4dd6-8374-a819d7b685d7"
   },
   "outputs": [
    {
     "data": {
      "text/plain": [
       "13775                                                                                                                             RT @biboOfficial: crazy how for men their penis makes most of their decisions while i make mine based off my incurable feeling of loneliness\n",
       "11549                                                                                                                       when you form a habit of talking to someone every night and then one night the person isn’t there anymore and everything’s just so sad and lonely💔\n",
       "21289    mental illness is so fucking lonely. people tell you to reach out. but when you’re actually struggling &amp; showing symptoms &amp; they can clearly see that, they just ignore it and are annoyed with you for being “negative” or not being how they want you to be\n",
       "6866                                                                                                                                                         Motherhood is lonely. Your friends don’t openly say it, but they don’t want to go out with or be around a baby. 😔\n",
       "19299                                                                                                                                                                                  RT @nyamcattt: lonely rolling staaar, don't ever give up, okay? https://t.co/3q5yGLAHo5\n",
       "Name: text, dtype: object"
      ]
     },
     "execution_count": 13,
     "metadata": {},
     "output_type": "execute_result"
    }
   ],
   "source": [
    "tweets_loneliness_day.sample(5)[\"text\"]"
   ]
  },
  {
   "cell_type": "code",
   "execution_count": 14,
   "metadata": {
    "executionInfo": {
     "elapsed": 10984,
     "status": "ok",
     "timestamp": 1657897787620,
     "user": {
      "displayName": "Yelena Mejova",
      "userId": "11766611928577248962"
     },
     "user_tz": -120
    },
    "id": "sUa80txdXtLP"
   },
   "outputs": [],
   "source": [
    "# Create features for the text and apply the model\n",
    "tweets_loneliness_day[\"text_clean\"] = tweets_loneliness_day.text.apply(lambda x: cleantext(x)) \n",
    "# Compute additional features\n",
    "tweets_loneliness_day[\"f_direct\"] = tweets_loneliness_day.text.str.startswith(\"@\").astype(int)\n",
    "tweets_loneliness_day[\"f_caps\"] = tweets_loneliness_day[\"text\"].apply(lambda x: sum(1 for c in x if c.isupper()) / len(x))  \n",
    "tweets_loneliness_day[\"f_punc\"] = tweets_loneliness_day[\"text\"].apply(lambda x: math.log(sum([1 for c in x if c in string.punctuation])+1))\n",
    "# Compute text vector as in training data\n",
    "afeaturematrix = cv.transform(tweets_loneliness_day[\"text_clean\"])\n",
    "afeaturematrix = scipy.sparse.hstack((afeaturematrix, np.asmatrix(tweets_loneliness_day[\"f_direct\"]).T))\n",
    "afeaturematrix = scipy.sparse.hstack((afeaturematrix, np.asmatrix(tweets_loneliness_day[\"f_caps\"]).T))\n",
    "afeaturematrix = scipy.sparse.hstack((afeaturematrix, np.asmatrix(tweets_loneliness_day[\"f_punc\"]).T))\n",
    "# Predict the relevance for the dataset\n",
    "y_pred = model.predict(afeaturematrix)\n",
    "# Select the records classified as positive\n",
    "selected = tweets_loneliness_day.loc[y_pred.astype(bool)]"
   ]
  },
  {
   "cell_type": "code",
   "execution_count": 15,
   "metadata": {
    "colab": {
     "base_uri": "https://localhost:8080/"
    },
    "executionInfo": {
     "elapsed": 240,
     "status": "ok",
     "timestamp": 1657897798038,
     "user": {
      "displayName": "Yelena Mejova",
      "userId": "11766611928577248962"
     },
     "user_tz": -120
    },
    "id": "fXMreLp6YIgz",
    "outputId": "1d5934d1-3a45-4f12-d349-6784e71245e8"
   },
   "outputs": [
    {
     "data": {
      "text/plain": [
       "(10304, 5)"
      ]
     },
     "execution_count": 15,
     "metadata": {},
     "output_type": "execute_result"
    }
   ],
   "source": [
    "selected.shape"
   ]
  },
  {
   "cell_type": "code",
   "execution_count": 16,
   "metadata": {
    "colab": {
     "base_uri": "https://localhost:8080/"
    },
    "executionInfo": {
     "elapsed": 230,
     "status": "ok",
     "timestamp": 1657897926768,
     "user": {
      "displayName": "Yelena Mejova",
      "userId": "11766611928577248962"
     },
     "user_tz": -120
    },
    "id": "cN-XPednZskv",
    "outputId": "b2479f45-3b61-4849-eb05-ef864e400041"
   },
   "outputs": [
    {
     "data": {
      "text/plain": [
       "12546                                            I am a lonely soul\n",
       "19184                        i’m lonely, do i go out and get pizza?\n",
       "20066             happy, free, confuse, and lonely at the same time\n",
       "20795    Those lonely winter days hit different when you live alone\n",
       "8465                              Like fr and there’s me lonely asf\n",
       "Name: text, dtype: object"
      ]
     },
     "execution_count": 16,
     "metadata": {},
     "output_type": "execute_result"
    }
   ],
   "source": [
    "selected.sample(5)[\"text\"]"
   ]
  },
  {
   "cell_type": "code",
   "execution_count": null,
   "metadata": {
    "id": "qCRGiKQgZxA5"
   },
   "outputs": [],
   "source": []
  },
  {
   "cell_type": "markdown",
   "metadata": {
    "id": "GFzdSSQBcOnL"
   },
   "source": [
    "## 3.2 Interrupted Time Series Analysis\n",
    "\n",
    "When we have a time series of some variable, an event happened, how do we know whether it changed the variable after the event?\n",
    "\n",
    "For more, see https://www.ncbi.nlm.nih.gov/pmc/articles/PMC5407170/"
   ]
  },
  {
   "cell_type": "code",
   "execution_count": 17,
   "metadata": {
    "colab": {
     "base_uri": "https://localhost:8080/",
     "height": 424
    },
    "executionInfo": {
     "elapsed": 221,
     "status": "ok",
     "timestamp": 1658162200559,
     "user": {
      "displayName": "Yelena Mejova",
      "userId": "11766611928577248962"
     },
     "user_tz": -120
    },
    "id": "9z93nvyMdKHi",
    "outputId": "9978887c-4e3f-4bca-a075-608bd8996b01"
   },
   "outputs": [
    {
     "data": {
      "text/html": [
       "<div>\n",
       "<style scoped>\n",
       "    .dataframe tbody tr th:only-of-type {\n",
       "        vertical-align: middle;\n",
       "    }\n",
       "\n",
       "    .dataframe tbody tr th {\n",
       "        vertical-align: top;\n",
       "    }\n",
       "\n",
       "    .dataframe thead th {\n",
       "        text-align: right;\n",
       "    }\n",
       "</style>\n",
       "<table border=\"1\" class=\"dataframe\">\n",
       "  <thead>\n",
       "    <tr style=\"text-align: right;\">\n",
       "      <th></th>\n",
       "      <th>cnt</th>\n",
       "      <th>mydate</th>\n",
       "      <th>covid</th>\n",
       "    </tr>\n",
       "  </thead>\n",
       "  <tbody>\n",
       "    <tr>\n",
       "      <th>0</th>\n",
       "      <td>4011</td>\n",
       "      <td>2019-03-15</td>\n",
       "      <td>0</td>\n",
       "    </tr>\n",
       "    <tr>\n",
       "      <th>1</th>\n",
       "      <td>4342</td>\n",
       "      <td>2019-03-16</td>\n",
       "      <td>0</td>\n",
       "    </tr>\n",
       "    <tr>\n",
       "      <th>2</th>\n",
       "      <td>4563</td>\n",
       "      <td>2019-03-17</td>\n",
       "      <td>0</td>\n",
       "    </tr>\n",
       "    <tr>\n",
       "      <th>3</th>\n",
       "      <td>4340</td>\n",
       "      <td>2019-03-18</td>\n",
       "      <td>0</td>\n",
       "    </tr>\n",
       "    <tr>\n",
       "      <th>4</th>\n",
       "      <td>4422</td>\n",
       "      <td>2019-03-19</td>\n",
       "      <td>0</td>\n",
       "    </tr>\n",
       "    <tr>\n",
       "      <th>...</th>\n",
       "      <td>...</td>\n",
       "      <td>...</td>\n",
       "      <td>...</td>\n",
       "    </tr>\n",
       "    <tr>\n",
       "      <th>726</th>\n",
       "      <td>4856</td>\n",
       "      <td>2021-03-10</td>\n",
       "      <td>1</td>\n",
       "    </tr>\n",
       "    <tr>\n",
       "      <th>727</th>\n",
       "      <td>4907</td>\n",
       "      <td>2021-03-11</td>\n",
       "      <td>1</td>\n",
       "    </tr>\n",
       "    <tr>\n",
       "      <th>728</th>\n",
       "      <td>4685</td>\n",
       "      <td>2021-03-12</td>\n",
       "      <td>1</td>\n",
       "    </tr>\n",
       "    <tr>\n",
       "      <th>729</th>\n",
       "      <td>4875</td>\n",
       "      <td>2021-03-13</td>\n",
       "      <td>1</td>\n",
       "    </tr>\n",
       "    <tr>\n",
       "      <th>730</th>\n",
       "      <td>4727</td>\n",
       "      <td>2021-03-14</td>\n",
       "      <td>1</td>\n",
       "    </tr>\n",
       "  </tbody>\n",
       "</table>\n",
       "<p>731 rows × 3 columns</p>\n",
       "</div>"
      ],
      "text/plain": [
       "      cnt      mydate  covid\n",
       "0    4011  2019-03-15      0\n",
       "1    4342  2019-03-16      0\n",
       "2    4563  2019-03-17      0\n",
       "3    4340  2019-03-18      0\n",
       "4    4422  2019-03-19      0\n",
       "..    ...         ...    ...\n",
       "726  4856  2021-03-10      1\n",
       "727  4907  2021-03-11      1\n",
       "728  4685  2021-03-12      1\n",
       "729  4875  2021-03-13      1\n",
       "730  4727  2021-03-14      1\n",
       "\n",
       "[731 rows x 3 columns]"
      ]
     },
     "execution_count": 17,
     "metadata": {},
     "output_type": "execute_result"
    }
   ],
   "source": [
    "# Read in a time series of unique users posting loneliness self-disclosures\n",
    "# over the span of 2 years around COVID-19 lockdowns.\n",
    "# covid variable is 1 after May 14, 2020 when lockdowns in USA began\n",
    "timeseries = pd.read_csv(\"Data/loneliness_time_series.tsv\", sep=\"\\t\")\n",
    "timeseries"
   ]
  },
  {
   "cell_type": "code",
   "execution_count": 18,
   "metadata": {
    "colab": {
     "base_uri": "https://localhost:8080/",
     "height": 297
    },
    "executionInfo": {
     "elapsed": 607,
     "status": "ok",
     "timestamp": 1658162202171,
     "user": {
      "displayName": "Yelena Mejova",
      "userId": "11766611928577248962"
     },
     "user_tz": -120
    },
    "id": "k2hNNCp9fqp-",
    "outputId": "2fdb6abe-3c48-4a3d-c47e-5e41044a006a"
   },
   "outputs": [
    {
     "data": {
      "text/plain": [
       "<AxesSubplot:xlabel='mydate'>"
      ]
     },
     "execution_count": 18,
     "metadata": {},
     "output_type": "execute_result"
    },
    {
     "data": {
      "image/png": "[encoded data removed]",
      "text/plain": [
       "<Figure size 1080x288 with 1 Axes>"
      ]
     },
     "metadata": {
      "needs_background": "light"
     },
     "output_type": "display_data"
    }
   ],
   "source": [
    "# Plot the count\n",
    "timeseries.set_index(\"mydate\").cnt.plot(figsize=(15,4))"
   ]
  },
  {
   "cell_type": "code",
   "execution_count": 19,
   "metadata": {
    "colab": {
     "base_uri": "https://localhost:8080/",
     "height": 645
    },
    "executionInfo": {
     "elapsed": 223,
     "status": "ok",
     "timestamp": 1658162215726,
     "user": {
      "displayName": "Yelena Mejova",
      "userId": "11766611928577248962"
     },
     "user_tz": -120
    },
    "id": "fX995fBlf0WL",
    "outputId": "ed007e49-60d0-47be-ffe6-528f89d5eb72"
   },
   "outputs": [
    {
     "data": {
      "text/html": [
       "<div>\n",
       "<style scoped>\n",
       "    .dataframe tbody tr th:only-of-type {\n",
       "        vertical-align: middle;\n",
       "    }\n",
       "\n",
       "    .dataframe tbody tr th {\n",
       "        vertical-align: top;\n",
       "    }\n",
       "\n",
       "    .dataframe thead th {\n",
       "        text-align: right;\n",
       "    }\n",
       "</style>\n",
       "<table border=\"1\" class=\"dataframe\">\n",
       "  <thead>\n",
       "    <tr style=\"text-align: right;\">\n",
       "      <th></th>\n",
       "      <th>date</th>\n",
       "      <th>hours_missing</th>\n",
       "    </tr>\n",
       "  </thead>\n",
       "  <tbody>\n",
       "    <tr>\n",
       "      <th>0</th>\n",
       "      <td>2019-11-03</td>\n",
       "      <td>21</td>\n",
       "    </tr>\n",
       "    <tr>\n",
       "      <th>1</th>\n",
       "      <td>2019-06-15</td>\n",
       "      <td>21</td>\n",
       "    </tr>\n",
       "    <tr>\n",
       "      <th>2</th>\n",
       "      <td>2019-11-04</td>\n",
       "      <td>14</td>\n",
       "    </tr>\n",
       "    <tr>\n",
       "      <th>3</th>\n",
       "      <td>2020-04-18</td>\n",
       "      <td>14</td>\n",
       "    </tr>\n",
       "    <tr>\n",
       "      <th>4</th>\n",
       "      <td>2020-04-20</td>\n",
       "      <td>13</td>\n",
       "    </tr>\n",
       "    <tr>\n",
       "      <th>5</th>\n",
       "      <td>2019-02-20</td>\n",
       "      <td>12</td>\n",
       "    </tr>\n",
       "    <tr>\n",
       "      <th>6</th>\n",
       "      <td>2020-02-08</td>\n",
       "      <td>12</td>\n",
       "    </tr>\n",
       "    <tr>\n",
       "      <th>7</th>\n",
       "      <td>2020-01-19</td>\n",
       "      <td>12</td>\n",
       "    </tr>\n",
       "    <tr>\n",
       "      <th>8</th>\n",
       "      <td>2020-04-21</td>\n",
       "      <td>11</td>\n",
       "    </tr>\n",
       "    <tr>\n",
       "      <th>9</th>\n",
       "      <td>2019-03-04</td>\n",
       "      <td>9</td>\n",
       "    </tr>\n",
       "    <tr>\n",
       "      <th>10</th>\n",
       "      <td>2020-06-10</td>\n",
       "      <td>8</td>\n",
       "    </tr>\n",
       "    <tr>\n",
       "      <th>11</th>\n",
       "      <td>2019-02-28</td>\n",
       "      <td>6</td>\n",
       "    </tr>\n",
       "    <tr>\n",
       "      <th>12</th>\n",
       "      <td>2020-02-07</td>\n",
       "      <td>5</td>\n",
       "    </tr>\n",
       "    <tr>\n",
       "      <th>13</th>\n",
       "      <td>2019-05-17</td>\n",
       "      <td>4</td>\n",
       "    </tr>\n",
       "    <tr>\n",
       "      <th>14</th>\n",
       "      <td>2020-06-07</td>\n",
       "      <td>3</td>\n",
       "    </tr>\n",
       "    <tr>\n",
       "      <th>15</th>\n",
       "      <td>2020-01-18</td>\n",
       "      <td>3</td>\n",
       "    </tr>\n",
       "    <tr>\n",
       "      <th>16</th>\n",
       "      <td>2020-08-03</td>\n",
       "      <td>2</td>\n",
       "    </tr>\n",
       "    <tr>\n",
       "      <th>17</th>\n",
       "      <td>2020-05-03</td>\n",
       "      <td>2</td>\n",
       "    </tr>\n",
       "    <tr>\n",
       "      <th>18</th>\n",
       "      <td>2020-08-06</td>\n",
       "      <td>2</td>\n",
       "    </tr>\n",
       "  </tbody>\n",
       "</table>\n",
       "</div>"
      ],
      "text/plain": [
       "          date  hours_missing\n",
       "0   2019-11-03             21\n",
       "1   2019-06-15             21\n",
       "2   2019-11-04             14\n",
       "3   2020-04-18             14\n",
       "4   2020-04-20             13\n",
       "5   2019-02-20             12\n",
       "6   2020-02-08             12\n",
       "7   2020-01-19             12\n",
       "8   2020-04-21             11\n",
       "9   2019-03-04              9\n",
       "10  2020-06-10              8\n",
       "11  2019-02-28              6\n",
       "12  2020-02-07              5\n",
       "13  2019-05-17              4\n",
       "14  2020-06-07              3\n",
       "15  2020-01-18              3\n",
       "16  2020-08-03              2\n",
       "17  2020-05-03              2\n",
       "18  2020-08-06              2"
      ]
     },
     "execution_count": 19,
     "metadata": {},
     "output_type": "execute_result"
    }
   ],
   "source": [
    "# Find the dates that probably had outages, read in suspicious days\n",
    "# (that had outages for 2+ hours, computed on original data)\n",
    "missing_days = pd.read_csv(\"Data/loneliness_missing_days.txt\")\n",
    "missing_days = missing_days[missing_days.hours_missing>1]\n",
    "missing_days"
   ]
  },
  {
   "cell_type": "code",
   "execution_count": 20,
   "metadata": {
    "executionInfo": {
     "elapsed": 2,
     "status": "ok",
     "timestamp": 1658162216995,
     "user": {
      "displayName": "Yelena Mejova",
      "userId": "11766611928577248962"
     },
     "user_tz": -120
    },
    "id": "YyjKf29lgzyQ"
   },
   "outputs": [],
   "source": [
    "# Format the dates\n",
    "missing_days[\"date\"] = pd.to_datetime(missing_days[\"date\"], format='%Y-%m-%d')\n",
    "timeseries[\"mydate\"] = pd.to_datetime(timeseries[\"mydate\"], format='%Y-%m-%d')\n",
    "# Create a smoothed time series where there is missing data\n",
    "timeseries[\"cnt_smooth\"] = timeseries.cnt\n",
    "timeseries.loc[timeseries.mydate.isin(missing_days.date), \"cnt_smooth\"] = None\n",
    "timeseries[\"cnt_smooth\"] = timeseries.cnt_smooth.astype(float).interpolate()"
   ]
  },
  {
   "cell_type": "code",
   "execution_count": 21,
   "metadata": {
    "colab": {
     "base_uri": "https://localhost:8080/",
     "height": 309
    },
    "executionInfo": {
     "elapsed": 474,
     "status": "ok",
     "timestamp": 1658162218517,
     "user": {
      "displayName": "Yelena Mejova",
      "userId": "11766611928577248962"
     },
     "user_tz": -120
    },
    "id": "v9K91eW5iPHb",
    "outputId": "0ffa14e9-7656-4a88-b9ed-6fb10e1a0d3a"
   },
   "outputs": [
    {
     "data": {
      "text/plain": [
       "<AxesSubplot:xlabel='mydate'>"
      ]
     },
     "execution_count": 21,
     "metadata": {},
     "output_type": "execute_result"
    },
    {
     "data": {
      "image/png": "[encoded data removed]",
      "text/plain": [
       "<Figure size 1080x288 with 1 Axes>"
      ]
     },
     "metadata": {
      "needs_background": "light"
     },
     "output_type": "display_data"
    }
   ],
   "source": [
    "# Plot smoothed volume\n",
    "timeseries.set_index(\"mydate\").cnt_smooth.plot(figsize=(15,4))"
   ]
  },
  {
   "cell_type": "code",
   "execution_count": 22,
   "metadata": {
    "executionInfo": {
     "elapsed": 237,
     "status": "ok",
     "timestamp": 1658162223019,
     "user": {
      "displayName": "Yelena Mejova",
      "userId": "11766611928577248962"
     },
     "user_tz": -120
    },
    "id": "diW5tn7ziRlQ"
   },
   "outputs": [],
   "source": [
    "# Prepare time count-off for ITS analysis\n",
    "start_time = timeseries['mydate'].min()\n",
    "timeseries['time'] = (timeseries.mydate - start_time).transform(lambda x: x.days)"
   ]
  },
  {
   "cell_type": "code",
   "execution_count": 23,
   "metadata": {
    "colab": {
     "base_uri": "https://localhost:8080/",
     "height": 365
    },
    "executionInfo": {
     "elapsed": 347,
     "status": "ok",
     "timestamp": 1658162225960,
     "user": {
      "displayName": "Yelena Mejova",
      "userId": "11766611928577248962"
     },
     "user_tz": -120
    },
    "id": "LkNlI0AXiy4R",
    "outputId": "15c72ac9-5109-45fd-e9a2-dd67b6eec8f1"
   },
   "outputs": [
    {
     "data": {
      "text/html": [
       "<table class=\"simpletable\">\n",
       "<tr>\n",
       "        <td>Model:</td>               <td>OLS</td>         <td>Adj. R-squared:</td>      <td>0.426</td>  \n",
       "</tr>\n",
       "<tr>\n",
       "  <td>Dependent Variable:</td>    <td>cnt_smooth</td>           <td>AIC:</td>         <td>11737.1148</td>\n",
       "</tr>\n",
       "<tr>\n",
       "         <td>Date:</td>        <td>2022-07-25 11:41</td>        <td>BIC:</td>         <td>11755.4925</td>\n",
       "</tr>\n",
       "<tr>\n",
       "   <td>No. Observations:</td>         <td>731</td>         <td>Log-Likelihood:</td>     <td>-5864.6</td> \n",
       "</tr>\n",
       "<tr>\n",
       "       <td>Df Model:</td>              <td>3</td>           <td>F-statistic:</td>        <td>181.3</td>  \n",
       "</tr>\n",
       "<tr>\n",
       "     <td>Df Residuals:</td>           <td>727</td>       <td>Prob (F-statistic):</td>  <td>9.26e-88</td> \n",
       "</tr>\n",
       "<tr>\n",
       "      <td>R-squared:</td>            <td>0.428</td>            <td>Scale:</td>        <td>5.4739e+05</td>\n",
       "</tr>\n",
       "</table>\n",
       "<table class=\"simpletable\">\n",
       "<tr>\n",
       "       <td></td>        <th>Coef.</th>   <th>Std.Err.</th>    <th>t</th>     <th>P>|t|</th>  <th>[0.025</th>    <th>0.975]</th>  \n",
       "</tr>\n",
       "<tr>\n",
       "  <th>Intercept</th>  <td>4282.1302</td>  <td>77.1875</td> <td>55.4770</td> <td>0.0000</td> <td>4130.5931</td> <td>4433.6673</td>\n",
       "</tr>\n",
       "<tr>\n",
       "  <th>time</th>        <td>1.4227</td>    <td>0.3660</td>  <td>3.8868</td>  <td>0.0001</td>  <td>0.7041</td>    <td>2.1413</td>  \n",
       "</tr>\n",
       "<tr>\n",
       "  <th>covid</th>      <td>1770.2344</td> <td>219.1427</td> <td>8.0780</td>  <td>0.0000</td> <td>1340.0064</td> <td>2200.4624</td>\n",
       "</tr>\n",
       "<tr>\n",
       "  <th>time:covid</th>  <td>-1.8860</td>   <td>0.5187</td>  <td>-3.6360</td> <td>0.0003</td>  <td>-2.9044</td>   <td>-0.8677</td> \n",
       "</tr>\n",
       "</table>\n",
       "<table class=\"simpletable\">\n",
       "<tr>\n",
       "     <td>Omnibus:</td>    <td>662.843</td>  <td>Durbin-Watson:</td>     <td>0.643</td>  \n",
       "</tr>\n",
       "<tr>\n",
       "  <td>Prob(Omnibus):</td>  <td>0.000</td>  <td>Jarque-Bera (JB):</td> <td>43426.832</td>\n",
       "</tr>\n",
       "<tr>\n",
       "       <td>Skew:</td>      <td>3.747</td>      <td>Prob(JB):</td>       <td>0.000</td>  \n",
       "</tr>\n",
       "<tr>\n",
       "     <td>Kurtosis:</td>   <td>40.008</td>   <td>Condition No.:</td>     <td>4587</td>   \n",
       "</tr>\n",
       "</table>"
      ],
      "text/plain": [
       "<class 'statsmodels.iolib.summary2.Summary'>\n",
       "\"\"\"\n",
       "                  Results: Ordinary least squares\n",
       "===================================================================\n",
       "Model:              OLS              Adj. R-squared:     0.426     \n",
       "Dependent Variable: cnt_smooth       AIC:                11737.1148\n",
       "Date:               2022-07-25 11:41 BIC:                11755.4925\n",
       "No. Observations:   731              Log-Likelihood:     -5864.6   \n",
       "Df Model:           3                F-statistic:        181.3     \n",
       "Df Residuals:       727              Prob (F-statistic): 9.26e-88  \n",
       "R-squared:          0.428            Scale:              5.4739e+05\n",
       "-------------------------------------------------------------------\n",
       "                Coef.   Std.Err.    t    P>|t|    [0.025    0.975] \n",
       "-------------------------------------------------------------------\n",
       "Intercept     4282.1302  77.1875 55.4770 0.0000 4130.5931 4433.6673\n",
       "time             1.4227   0.3660  3.8868 0.0001    0.7041    2.1413\n",
       "covid         1770.2344 219.1427  8.0780 0.0000 1340.0064 2200.4624\n",
       "time:covid      -1.8860   0.5187 -3.6360 0.0003   -2.9044   -0.8677\n",
       "-------------------------------------------------------------------\n",
       "Omnibus:              662.843      Durbin-Watson:         0.643    \n",
       "Prob(Omnibus):        0.000        Jarque-Bera (JB):      43426.832\n",
       "Skew:                 3.747        Prob(JB):              0.000    \n",
       "Kurtosis:             40.008       Condition No.:         4587     \n",
       "===================================================================\n",
       "* The condition number is large (5e+03). This might indicate\n",
       "strong multicollinearity or other numerical problems.\n",
       "\"\"\""
      ]
     },
     "execution_count": 23,
     "metadata": {},
     "output_type": "execute_result"
    }
   ],
   "source": [
    "# Run the ITS regression\n",
    "mod = smf.ols(formula = \"cnt_smooth ~ time + covid + time*covid\", data=timeseries) \n",
    "# cnt_smooth - number of unique users posting self-disclosures of longliness\n",
    "# time - time count in days\n",
    "# covid - indicator variable, 1 after March 15, 2020  \n",
    "# time * covid - trend after onset of COVID-19\n",
    "res = mod.fit()\n",
    "res.summary2()"
   ]
  },
  {
   "cell_type": "code",
   "execution_count": 24,
   "metadata": {},
   "outputs": [
    {
     "name": "stdout",
     "output_type": "stream",
     "text": [
      "On average, before COVID on average 4282 users posted per day.\n",
      "After March 15, 2020, an average of 1770 more users posted per day.\n"
     ]
    }
   ],
   "source": [
    "print (\"On average, before COVID on average %d users posted per day.\" %(res.params[\"Intercept\"]))\n",
    "print (\"After March 15, 2020, an average of %d more users posted per day.\" %(res.params[\"covid\"]))"
   ]
  },
  {
   "cell_type": "code",
   "execution_count": 25,
   "metadata": {
    "executionInfo": {
     "elapsed": 3,
     "status": "ok",
     "timestamp": 1658162227680,
     "user": {
      "displayName": "Yelena Mejova",
      "userId": "11766611928577248962"
     },
     "user_tz": -120
    },
    "id": "MAezTsSii2lf"
   },
   "outputs": [],
   "source": [
    "timeseries = timeseries.set_index(\"mydate\")"
   ]
  },
  {
   "cell_type": "code",
   "execution_count": 26,
   "metadata": {
    "colab": {
     "base_uri": "https://localhost:8080/",
     "height": 313
    },
    "executionInfo": {
     "elapsed": 1606,
     "status": "ok",
     "timestamp": 1658167178963,
     "user": {
      "displayName": "Yelena Mejova",
      "userId": "11766611928577248962"
     },
     "user_tz": -120
    },
    "id": "IS9d4scjJvY6",
    "outputId": "2b491108-cae9-40d7-d4df-aa564a3a7256"
   },
   "outputs": [
    {
     "data": {
      "text/plain": [
       "<matplotlib.legend.Legend at 0x16a49ccd0>"
      ]
     },
     "execution_count": 26,
     "metadata": {},
     "output_type": "execute_result"
    },
    {
     "data": {
      "image/png": "[encoded data removed]",
      "text/plain": [
       "<Figure size 1080x288 with 1 Axes>"
      ]
     },
     "metadata": {
      "needs_background": "light"
     },
     "output_type": "display_data"
    }
   ],
   "source": [
    "# Plot the data and the model\n",
    "ax = timeseries.cnt_smooth.plot(figsize=(15,4), label=\"unique users\")\n",
    "ax.set(xlabel=\"date\", ylabel=\"daily unique users\")\n",
    "ax.axvline(pd.to_datetime('2020-03-15'), color='k', linestyle='--')\n",
    "ax.plot(timeseries.index, res.fittedvalues, 'r-.', label=\"OLS model\")\n",
    "ax.set_facecolor('white')\n",
    "ax.set_ylim((0,16000))\n",
    "ax.legend(loc='best')"
   ]
  },
  {
   "cell_type": "code",
   "execution_count": null,
   "metadata": {
    "id": "tzbY2Hn3KuJ-"
   },
   "outputs": [],
   "source": []
  },
  {
   "cell_type": "code",
   "execution_count": null,
   "metadata": {},
   "outputs": [],
   "source": []
  },
  {
   "cell_type": "code",
   "execution_count": null,
   "metadata": {},
   "outputs": [],
   "source": []
  }
 ],
 "metadata": {
  "colab": {
   "authorship_tag": "ABX9TyNOZTWYMRjkii5sd/8wCjC+",
   "collapsed_sections": [],
   "name": "Loneliness.ipynb",
   "provenance": []
  },
  "kernelspec": {
   "display_name": "Python 3 (ipykernel)",
   "language": "python",
   "name": "python3"
  },
  "language_info": {
   "codemirror_mode": {
    "name": "ipython",
    "version": 3
   },
   "file_extension": ".py",
   "mimetype": "text/x-python",
   "name": "python",
   "nbconvert_exporter": "python",
   "pygments_lexer": "ipython3",
   "version": "3.9.13"
  }
 },
 "nbformat": 4,
 "nbformat_minor": 1
}
